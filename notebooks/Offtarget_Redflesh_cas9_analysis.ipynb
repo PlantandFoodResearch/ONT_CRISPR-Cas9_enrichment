{
 "cells": [
  {
   "cell_type": "markdown",
   "metadata": {},
   "source": [
    "### Extract high MQ reads from sorted bam files: ONT reads (basecalled with Albacore2 and Guppy separtelty) & mapped to GDv1.1 "
   ]
  },
  {
   "cell_type": "code",
   "execution_count": 268,
   "metadata": {},
   "outputs": [],
   "source": [
    "#bam files\n",
    "WKDIR=/workspace/$USER/github/analysis-workflows/Malus/Red_Flesh_ON\n",
    "guppy=$WKDIR/Guppy_basecalling/03.minimap2/Guppy_RedFlesh.bam\n",
    "albacore2=$WKDIR/Red_Flesh_ON/03.minimap2/Redflesh.bam"
   ]
  },
  {
   "cell_type": "code",
   "execution_count": 269,
   "metadata": {},
   "outputs": [],
   "source": [
    "module load samtools/1.9\n",
    "\n",
    "#first for albacore2 basecalled reads mapped to GDv1.1 bam file\n",
    "\n",
    "cd $WKDIR/03.minimap2\n",
    "samtools view -H $albacore2 > highMQ.sam  #print header\n",
    "samtools view -F 260 $albacore2 | awk '$5>=40 {print$0}' >> highMQ.sam #select just those mapped reads with MQ>=40\n",
    "samtools view -S -b -h highMQ.sam > highMQ.bam #convert to bam\n",
    "samtools depth highMQ.bam > highMQ.cov #compute coverage per bp\n",
    "\n",
    "#second for Guppy basecalled reads mapped to GDv1.1 bam file\n",
    "\n",
    "cd $WKDIR/Guppy_basecalling/03.minimap2\n",
    "samtools view -H $guppy > highMQ.sam  #print header\n",
    "samtools view -F 260 $guppy | awk '$5>=40 {print$0}' >> highMQ.sam #select just those mapped reads with MQ>=40\n",
    "samtools view -S -b -h highMQ.sam > highMQ.bam #convert to bam\n",
    "samtools depth highMQ.bam > highMQ.cov #compute coverage per bp\n",
    "\n"
   ]
  },
  {
   "cell_type": "markdown",
   "metadata": {},
   "source": [
    "### Next we use SURVIVOR to cluster the coverage track into a bed file for filtering: https://github.com/fritzsedlazeck/SURVIVOR/wiki\n",
    "\n",
    "\n",
    "\n",
    "\n",
    "\n"
   ]
  },
  {
   "cell_type": "code",
   "execution_count": 270,
   "metadata": {},
   "outputs": [],
   "source": [
    "cov_albacore2=$WKDIR/03.minimap2/highMQ.cov\n",
    "cov_guppy=$WKDIR/Guppy_basecalling/03.minimap2/highMQ.cov"
   ]
  },
  {
   "cell_type": "code",
   "execution_count": null,
   "metadata": {},
   "outputs": [],
   "source": [
    "# Here we allow to cluster regions together that are maximal 100bp away and only consider regions if their coverage is larger then 25!.\n",
    "# The resulting bed file can be used to filter SV or read file using e.g. bedtools."
   ]
  },
  {
   "cell_type": "code",
   "execution_count": 271,
   "metadata": {},
   "outputs": [],
   "source": [
    "cd WKDIR/03.minimap2\n",
    "/workspace/hrpelg/programs/SURVIVOR-master/Debug/./SURVIVOR bincov $cov_albacore2 0 25 > highMQ.bed\n",
    "\n",
    "cd $WKDIR/Guppy_basecalling/03.minimap2\n",
    "/workspace/hrpelg/programs/SURVIVOR-master/Debug/./SURVIVOR bincov $cov_guppy 0 25 > highMQ.bed"
   ]
  },
  {
   "cell_type": "markdown",
   "metadata": {},
   "source": [
    "### Compare cov files from Albacore2 and Guppy"
   ]
  },
  {
   "cell_type": "code",
   "execution_count": 272,
   "metadata": {},
   "outputs": [],
   "source": [
    "cov_albacore2_bed=$WKDIR/03.minimap2/highMQ.bed\n",
    "cov_guppy_bed=$WKDIR/Guppy_basecalling/03.minimap2/highMQ.bed"
   ]
  },
  {
   "cell_type": "code",
   "execution_count": 273,
   "metadata": {},
   "outputs": [
    {
     "name": "stdout",
     "output_type": "stream",
     "text": [
      "17984\n"
     ]
    }
   ],
   "source": [
    "grep -Fxf $cov_albacore2_bed $cov_guppy_bed | wc -l  #common rows between both file"
   ]
  },
  {
   "cell_type": "code",
   "execution_count": 274,
   "metadata": {},
   "outputs": [
    {
     "name": "stdout",
     "output_type": "stream",
     "text": [
      "2062\n"
     ]
    }
   ],
   "source": [
    "grep -v -Fxf $cov_albacore2_bed $cov_guppy_bed | wc -l # uniq rows (uniq covered>25 and MQ>40 bp) to Guppy basecalled bam"
   ]
  },
  {
   "cell_type": "code",
   "execution_count": 275,
   "metadata": {},
   "outputs": [
    {
     "name": "stdout",
     "output_type": "stream",
     "text": [
      "945\n"
     ]
    }
   ],
   "source": [
    "grep -v -Fxf $cov_albacore2_bed $cov_guppy_bed | grep -v \"Chr00\" | wc -l  # uniq rows (uniq covered>25 and MQ>40 bp) to Guppy basecalled bam but not in Chr00"
   ]
  },
  {
   "cell_type": "code",
   "execution_count": 276,
   "metadata": {},
   "outputs": [
    {
     "ename": "",
     "evalue": "1",
     "output_type": "error",
     "traceback": []
    }
   ],
   "source": [
    "for i in 00 01 02 03 04 05 06 07 08 09 10 11 12 13 14 15 16 17 # hits in chr09 will be hits still on target but uniq to guppy an not in albacore2\n",
    "do\n",
    "cd $WKDIR/Guppy_basecalling/03.minimap2\n",
    "grep -v -Fxf $cov_albacore2_bed $cov_guppy_bed | grep \"Chr$i\" > Chr$i'guppy_off_targets.bed'\n",
    "done"
   ]
  },
  {
   "cell_type": "code",
   "execution_count": 277,
   "metadata": {},
   "outputs": [
    {
     "name": "stdout",
     "output_type": "stream",
     "text": [
      "-rw-rw-r--. 1 hrpelg powerplant    0 Mar 26 14:17 Chr17guppy_off_targets.bed\n",
      "-rw-rw-r--. 1 hrpelg powerplant 4.3K Mar 26 14:17 Chr16guppy_off_targets.bed\n",
      "-rw-rw-r--. 1 hrpelg powerplant 2.4K Mar 26 14:17 Chr15guppy_off_targets.bed\n",
      "-rw-rw-r--. 1 hrpelg powerplant  14K Mar 26 14:17 Chr14guppy_off_targets.bed\n",
      "-rw-rw-r--. 1 hrpelg powerplant    0 Mar 26 14:17 Chr13guppy_off_targets.bed\n",
      "-rw-rw-r--. 1 hrpelg powerplant    0 Mar 26 14:17 Chr12guppy_off_targets.bed\n",
      "-rw-rw-r--. 1 hrpelg powerplant    0 Mar 26 14:17 Chr11guppy_off_targets.bed\n",
      "-rw-rw-r--. 1 hrpelg powerplant    0 Mar 26 14:17 Chr10guppy_off_targets.bed\n",
      "-rw-rw-r--. 1 hrpelg powerplant 1.9K Mar 26 14:17 Chr09guppy_off_targets.bed\n",
      "-rw-rw-r--. 1 hrpelg powerplant    0 Mar 26 14:17 Chr08guppy_off_targets.bed\n",
      "-rw-rw-r--. 1 hrpelg powerplant    0 Mar 26 14:17 Chr07guppy_off_targets.bed\n",
      "-rw-rw-r--. 1 hrpelg powerplant    0 Mar 26 14:17 Chr06guppy_off_targets.bed\n",
      "-rw-rw-r--. 1 hrpelg powerplant    0 Mar 26 14:17 Chr05guppy_off_targets.bed\n",
      "-rw-rw-r--. 1 hrpelg powerplant    0 Mar 26 14:17 Chr04guppy_off_targets.bed\n",
      "-rw-rw-r--. 1 hrpelg powerplant    0 Mar 26 14:17 Chr03guppy_off_targets.bed\n",
      "-rw-rw-r--. 1 hrpelg powerplant    0 Mar 26 14:17 Chr02guppy_off_targets.bed\n",
      "-rw-rw-r--. 1 hrpelg powerplant    0 Mar 26 14:17 Chr01guppy_off_targets.bed\n",
      "-rw-rw-r--. 1 hrpelg powerplant  27K Mar 26 14:17 Chr00guppy_off_targets.bed\n",
      "-rw-rw-r--. 1 hrpelg powerplant 1.9K Mar 19 09:37 Chr09guppy_on_targets_not_present_in_albacore2.bed\n"
     ]
    }
   ],
   "source": [
    "cd $WKDIR/Guppy_basecalling/03.minimap2\n",
    "ls -lht Chr* #got files with hits for Chr14 Chr15 Chr16"
   ]
  },
  {
   "cell_type": "code",
   "execution_count": 278,
   "metadata": {},
   "outputs": [
    {
     "name": "stdout",
     "output_type": "stream",
     "text": [
      "182 Chr16guppy_off_targets.bed\n"
     ]
    }
   ],
   "source": [
    "cd $WKDIR/Guppy_basecalling/03.minimap2\n",
    "wc -l Chr16guppy_off_targets.bed"
   ]
  },
  {
   "cell_type": "code",
   "execution_count": 279,
   "metadata": {},
   "outputs": [
    {
     "name": "stdout",
     "output_type": "stream",
     "text": [
      "583 Chr14guppy_off_targets.bed\n"
     ]
    }
   ],
   "source": [
    "cd $WKDIR/Guppy_basecalling/03.minimap2\n",
    "wc -l Chr14guppy_off_targets.bed"
   ]
  },
  {
   "cell_type": "code",
   "execution_count": 280,
   "metadata": {},
   "outputs": [
    {
     "name": "stdout",
     "output_type": "stream",
     "text": [
      "102 Chr15guppy_off_targets.bed\n"
     ]
    }
   ],
   "source": [
    "cd $WKDIR/Guppy_basecalling/03.minimap2\n",
    "wc -l Chr15guppy_off_targets.bed"
   ]
  },
  {
   "cell_type": "code",
   "execution_count": 281,
   "metadata": {},
   "outputs": [
    {
     "name": "stdout",
     "output_type": "stream",
     "text": [
      "78 Chr09guppy_off_targets.bed\n"
     ]
    }
   ],
   "source": [
    "cd $WKDIR/Guppy_basecalling/03.minimap2\n",
    "wc -l Chr09guppy_off_targets.bed"
   ]
  },
  {
   "cell_type": "code",
   "execution_count": 282,
   "metadata": {},
   "outputs": [],
   "source": [
    "# get min max value and min value of each loci in each Chr14"
   ]
  },
  {
   "cell_type": "code",
   "execution_count": 283,
   "metadata": {},
   "outputs": [
    {
     "name": "stdout",
     "output_type": "stream",
     "text": [
      "Chr00 48263504\n"
     ]
    }
   ],
   "source": [
    "awk 'min==\"\" || $2 < min {min=$2; minline=$0}; END{ print $1, min}' Chr00guppy_off_targets.bed"
   ]
  },
  {
   "cell_type": "code",
   "execution_count": 284,
   "metadata": {},
   "outputs": [
    {
     "name": "stdout",
     "output_type": "stream",
     "text": [
      "Chr00 48264621\n"
     ]
    }
   ],
   "source": [
    "awk 'max==\"\" || $2 > max {max=$2; minline=$0}; END{ print $1, max}' Chr00guppy_off_targets.bed"
   ]
  },
  {
   "cell_type": "code",
   "execution_count": 285,
   "metadata": {},
   "outputs": [
    {
     "name": "stdout",
     "output_type": "stream",
     "text": [
      "Chr14 30289152\n"
     ]
    }
   ],
   "source": [
    "awk 'min==\"\" || $2 < min {min=$2; minline=$0}; END{ print $1, min}' Chr14guppy_off_targets.bed"
   ]
  },
  {
   "cell_type": "code",
   "execution_count": 286,
   "metadata": {},
   "outputs": [
    {
     "name": "stdout",
     "output_type": "stream",
     "text": [
      "Chr14 30291917\n"
     ]
    }
   ],
   "source": [
    "awk 'max==\"\" || $2 > max {max=$2; minline=$0}; END{ print $1, max}' Chr14guppy_off_targets.bed"
   ]
  },
  {
   "cell_type": "code",
   "execution_count": 36,
   "metadata": {},
   "outputs": [
    {
     "name": "stdout",
     "output_type": "stream",
     "text": [
      "\n"
     ]
    }
   ],
   "source": [
    "# get min max value and min value of each loci in each Chr15"
   ]
  },
  {
   "cell_type": "code",
   "execution_count": 287,
   "metadata": {},
   "outputs": [
    {
     "name": "stdout",
     "output_type": "stream",
     "text": [
      "Chr15 47766093\n"
     ]
    }
   ],
   "source": [
    "awk 'min==\"\" || $2 < min {min=$2; minline=$0}; END{ print $1, min}' Chr15guppy_off_targets.bed"
   ]
  },
  {
   "cell_type": "code",
   "execution_count": 288,
   "metadata": {},
   "outputs": [
    {
     "name": "stdout",
     "output_type": "stream",
     "text": [
      "Chr15 47766888\n"
     ]
    }
   ],
   "source": [
    "awk 'max==\"\" || $2 > max {max=$2; minline=$0}; END{ print $1, max}' Chr15guppy_off_targets.bed"
   ]
  },
  {
   "cell_type": "code",
   "execution_count": 289,
   "metadata": {},
   "outputs": [
    {
     "name": "stdout",
     "output_type": "stream",
     "text": [
      "Chr16 38910980\n"
     ]
    }
   ],
   "source": [
    "awk 'min==\"\" || $2 < min {min=$2; minline=$0}; END{ print $1, min}' Chr16guppy_off_targets.bed"
   ]
  },
  {
   "cell_type": "code",
   "execution_count": 290,
   "metadata": {},
   "outputs": [
    {
     "name": "stdout",
     "output_type": "stream",
     "text": [
      "Chr16 38919476\n"
     ]
    }
   ],
   "source": [
    "awk 'max==\"\" || $2 > max {max=$2; minline=$0}; END{ print $1, max}' Chr16guppy_off_targets.bed"
   ]
  },
  {
   "cell_type": "code",
   "execution_count": 291,
   "metadata": {},
   "outputs": [],
   "source": [
    "# get min max value and min value of each loci in each Chr09  #this are the some bases covered by guppy but not albacore on the targeted locus"
   ]
  },
  {
   "cell_type": "code",
   "execution_count": 292,
   "metadata": {},
   "outputs": [
    {
     "name": "stdout",
     "output_type": "stream",
     "text": [
      "Chr09 35542756\n"
     ]
    }
   ],
   "source": [
    "awk 'min==\"\" || $2 < min {min=$2; minline=$0}; END{ print $1, min}' Chr09guppy_off_targets.bed"
   ]
  },
  {
   "cell_type": "code",
   "execution_count": 293,
   "metadata": {},
   "outputs": [
    {
     "name": "stdout",
     "output_type": "stream",
     "text": [
      "Chr09 35542864\n"
     ]
    }
   ],
   "source": [
    "awk 'max==\"\" || $2 > max {max=$2; minline=$0}; END{ print $1, max}' Chr09guppy_off_targets.bed"
   ]
  },
  {
   "cell_type": "code",
   "execution_count": 294,
   "metadata": {},
   "outputs": [
    {
     "name": "stdout",
     "output_type": "stream",
     "text": [
      "55\n"
     ]
    }
   ],
   "source": [
    "grep -v -Fxf $cov_guppy_bed $cov_albacore2_bed | wc -l # uniq rows (uniq covered>25 and MQ>40 bp) to Albacore2 basecalled bam"
   ]
  },
  {
   "cell_type": "code",
   "execution_count": 295,
   "metadata": {},
   "outputs": [
    {
     "name": "stdout",
     "output_type": "stream",
     "text": [
      "55\n"
     ]
    }
   ],
   "source": [
    "grep -v -Fxf $cov_guppy_bed $cov_albacore2_bed | grep -v \"Chr00\" | wc -l # uniq rows (uniq covered>25 and MQ>40 bp) to Albacore2 basecalled bam but not in Chr00"
   ]
  },
  {
   "cell_type": "code",
   "execution_count": 296,
   "metadata": {},
   "outputs": [
    {
     "ename": "",
     "evalue": "1",
     "output_type": "error",
     "traceback": []
    }
   ],
   "source": [
    "for i in 00 01 02 03 04 05 06 07 08 09 10 11 12 13 14 15 16 17 # hits in chr09 will be hits still on target but uniq to guppy an not in Guppy\n",
    "do\n",
    "cd $WKDIR/03.minimap2\n",
    "grep -v -Fxf $cov_guppy_bed $cov_albacore2_bed | grep \"Chr$i\" > Chr$i'albacore2_off_targets.bed'\n",
    "done"
   ]
  },
  {
   "cell_type": "code",
   "execution_count": 297,
   "metadata": {},
   "outputs": [
    {
     "name": "stdout",
     "output_type": "stream",
     "text": [
      "-rw-rw-r--. 1 hrpelg powerplant    0 Mar 26 14:18 Chr17albacore2_off_targets.bed\n",
      "-rw-rw-r--. 1 hrpelg powerplant    0 Mar 26 14:18 Chr16albacore2_off_targets.bed\n",
      "-rw-rw-r--. 1 hrpelg powerplant    0 Mar 26 14:18 Chr15albacore2_off_targets.bed\n",
      "-rw-rw-r--. 1 hrpelg powerplant 1.3K Mar 26 14:18 Chr14albacore2_off_targets.bed\n",
      "-rw-rw-r--. 1 hrpelg powerplant    0 Mar 26 14:18 Chr13albacore2_off_targets.bed\n",
      "-rw-rw-r--. 1 hrpelg powerplant    0 Mar 26 14:18 Chr12albacore2_off_targets.bed\n",
      "-rw-rw-r--. 1 hrpelg powerplant    0 Mar 26 14:18 Chr11albacore2_off_targets.bed\n",
      "-rw-rw-r--. 1 hrpelg powerplant    0 Mar 26 14:18 Chr10albacore2_off_targets.bed\n",
      "-rw-rw-r--. 1 hrpelg powerplant    0 Mar 26 14:18 Chr09albacore2_off_targets.bed\n",
      "-rw-rw-r--. 1 hrpelg powerplant    0 Mar 26 14:18 Chr08albacore2_off_targets.bed\n",
      "-rw-rw-r--. 1 hrpelg powerplant    0 Mar 26 14:18 Chr07albacore2_off_targets.bed\n",
      "-rw-rw-r--. 1 hrpelg powerplant    0 Mar 26 14:18 Chr06albacore2_off_targets.bed\n",
      "-rw-rw-r--. 1 hrpelg powerplant    0 Mar 26 14:18 Chr05albacore2_off_targets.bed\n",
      "-rw-rw-r--. 1 hrpelg powerplant    0 Mar 26 14:18 Chr04albacore2_off_targets.bed\n",
      "-rw-rw-r--. 1 hrpelg powerplant    0 Mar 26 14:18 Chr03albacore2_off_targets.bed\n",
      "-rw-rw-r--. 1 hrpelg powerplant    0 Mar 26 14:18 Chr02albacore2_off_targets.bed\n",
      "-rw-rw-r--. 1 hrpelg powerplant    0 Mar 26 14:18 Chr01albacore2_off_targets.bed\n",
      "-rw-rw-r--. 1 hrpelg powerplant    0 Mar 26 14:18 Chr00albacore2_off_targets.bed\n",
      "-rw-rw-r--. 1 hrpelg powerplant  69M May 11  2019 Chr17_RedFlesh.coverage\n",
      "-rw-rw-r--. 1 hrpelg powerplant  89M May 11  2019 Chr16_RedFlesh.coverage\n",
      "-rw-rw-r--. 1 hrpelg powerplant 121M May 11  2019 Chr15_RedFlesh.coverage\n",
      "-rw-rw-r--. 1 hrpelg powerplant  59M May 11  2019 Chr14_RedFlesh.coverage\n",
      "-rw-rw-r--. 1 hrpelg powerplant  88M May 11  2019 Chr13_RedFlesh.coverage\n",
      "-rw-rw-r--. 1 hrpelg powerplant  68M May 11  2019 Chr12_RedFlesh.coverage\n",
      "-rw-rw-r--. 1 hrpelg powerplant  93M May 11  2019 Chr11_RedFlesh.coverage\n",
      "-rw-rw-r--. 1 hrpelg powerplant  92M May 11  2019 Chr10_RedFlesh.coverage\n",
      "-rw-rw-r--. 1 hrpelg powerplant  83M May 11  2019 Chr09_RedFlesh.coverage\n",
      "-rw-rw-r--. 1 hrpelg powerplant  71M May 11  2019 Chr08_RedFlesh.coverage\n",
      "-rw-rw-r--. 1 hrpelg powerplant  74M May 11  2019 Chr07_RedFlesh.coverage\n",
      "-rw-rw-r--. 1 hrpelg powerplant  69M May 11  2019 Chr06_RedFlesh.coverage\n",
      "-rw-rw-r--. 1 hrpelg powerplant  89M May 11  2019 Chr05_RedFlesh.coverage\n",
      "-rw-rw-r--. 1 hrpelg powerplant  68M May 11  2019 Chr04_RedFlesh.coverage\n",
      "-rw-rw-r--. 1 hrpelg powerplant  85M May 11  2019 Chr03_RedFlesh.coverage\n",
      "-rw-rw-r--. 1 hrpelg powerplant  65M May 11  2019 Chr02_RedFlesh.coverage\n",
      "-rw-rw-r--. 1 hrpelg powerplant  65M May 11  2019 Chr01_RedFlesh.coverage\n"
     ]
    }
   ],
   "source": [
    "ls -lht Chr* #got files with hits for Chr14 Ch15 Chr16"
   ]
  },
  {
   "cell_type": "code",
   "execution_count": 298,
   "metadata": {},
   "outputs": [
    {
     "name": "stdout",
     "output_type": "stream",
     "text": [
      "55 Chr14albacore2_off_targets.bed\n"
     ]
    }
   ],
   "source": [
    "cd $WKDIR/03.minimap2\n",
    "wc -l Chr14albacore2_off_targets.bed"
   ]
  },
  {
   "cell_type": "code",
   "execution_count": 300,
   "metadata": {},
   "outputs": [
    {
     "name": "stdout",
     "output_type": "stream",
     "text": [
      "Chr14 30289890\n"
     ]
    }
   ],
   "source": [
    "awk 'min==\"\" || $2 < min {min=$2; minline=$0}; END{ print $1, min}' Chr14albacore2_off_targets.bed"
   ]
  },
  {
   "cell_type": "code",
   "execution_count": 301,
   "metadata": {},
   "outputs": [
    {
     "name": "stdout",
     "output_type": "stream",
     "text": [
      "Chr14 30291921\n"
     ]
    }
   ],
   "source": [
    "awk 'max==\"\" || $2 > max {max=$2; minline=$0}; END{ print $1, max}' Chr14albacore2_off_targets.bed"
   ]
  },
  {
   "cell_type": "markdown",
   "metadata": {},
   "source": [
    "### Look for max coverage on off target loci to add to table off targets (Table 5)"
   ]
  },
  {
   "cell_type": "code",
   "execution_count": 302,
   "metadata": {},
   "outputs": [
    {
     "name": "stdout",
     "output_type": "stream",
     "text": [
      "Chr00 48264621 28\n"
     ]
    }
   ],
   "source": [
    "grep \"Chr00\" $cov_guppy | awk '{if(($2>=48263504)&&($2<=48264621)) print$0}' | awk 'max==\"\" || $3 > max {max=$3; minline=$0}; END{ print $1, $2, $3}'"
   ]
  },
  {
   "cell_type": "code",
   "execution_count": 303,
   "metadata": {},
   "outputs": [
    {
     "name": "stdout",
     "output_type": "stream",
     "text": [
      "Chr14 30291917 26\n"
     ]
    }
   ],
   "source": [
    "grep \"Chr14\" $cov_guppy | awk '{if(($2>=30289152)&&($2<=30291917)) print$0}' | awk 'max==\"\" || $3 > max {max=$3; minline=$0}; END{ print $1, $2, $3}'"
   ]
  },
  {
   "cell_type": "code",
   "execution_count": 304,
   "metadata": {},
   "outputs": [
    {
     "name": "stdout",
     "output_type": "stream",
     "text": [
      "Chr15 47766888 26\n"
     ]
    }
   ],
   "source": [
    "grep \"Chr15\" $cov_guppy | awk '{if(($2>=47766093)&&($2<=47766888)) print$0}' | awk 'max==\"\" || $3 > max {max=$3; minline=$0}; END{ print $1, $2, $3}'"
   ]
  },
  {
   "cell_type": "code",
   "execution_count": 306,
   "metadata": {},
   "outputs": [
    {
     "name": "stdout",
     "output_type": "stream",
     "text": [
      "Chr16 38919476 41\n"
     ]
    }
   ],
   "source": [
    "grep \"Chr16\" $cov_guppy | awk '{if(($2>=38910980)&&($2<=38919476)) print$0}' | awk 'max==\"\" || $3 > max {max=$3; minline=$0}; END{ print $1, $2, $3}'"
   ]
  },
  {
   "cell_type": "code",
   "execution_count": 307,
   "metadata": {},
   "outputs": [
    {
     "name": "stdout",
     "output_type": "stream",
     "text": [
      "Chr14 30291921 26\n"
     ]
    }
   ],
   "source": [
    "grep \"Chr14\" $cov_albacore2 | awk '{if(($2>=30289890)&&($2<=30291921)) print$0}' | awk 'max==\"\" || $3 > max {max=$3; minline=$0}; END{ print $1, $2, $3}'"
   ]
  },
  {
   "cell_type": "markdown",
   "metadata": {},
   "source": [
    "### Annotation of those 'off-targets' to see if they are some how related to red-flesh locus or has any structural similarity, repeated domains etc"
   ]
  },
  {
   "cell_type": "code",
   "execution_count": 156,
   "metadata": {},
   "outputs": [],
   "source": [
    "anno=/input/genomic/plant/Malus/Genome/GDDH_v1.1/Decompress/gene_annotation_formatee.gff3\n",
    "interpro=/input/genomic/plant/Malus/Genome/GDDH_v1.1/Decompress/GDDH13_v1.1_Annotation/Malus_x_domestica_GDDH13_v1.1_interpro.txt\n",
    "kegg=/input/genomic/plant/Malus/Genome/GDDH_v1.1/Decompress/GDDH13_v1.1_Annotation/Malus_x_domestica_GDDH13_v1.1_KEGG-orthologs.txt\n",
    "funanno=/input/genomic/plant/Malus/Genome/GDDH_v1.1/Decompress/GDDH13_v1.1_prot.RefSeq69.FuncAnnot.txt"
   ]
  },
  {
   "cell_type": "code",
   "execution_count": 127,
   "metadata": {},
   "outputs": [
    {
     "name": "stdout",
     "output_type": "stream",
     "text": [
      "Chr00\tIRHS-2017\tgene\t48263538\t48264539\t.\t-\t.\tID=gene:MD00G1202200;Name=MD00G1202200;rfam_acc=RF02543;rfam_id=LSU_rRNA_eukarya;Note=LSU_rRNA_eukarya\n",
      "Chr00\tIRHS-2017\tncRNA\t48263538\t48264539\t.\t-\t.\tID=ncRNA:MD00G1202200;Name=MD00G1202200;Parent=gene:MD00G1202200;rfam_acc=RF02543;rfam_id=LSU_rRNA_eukarya\n"
     ]
    }
   ],
   "source": [
    "grep \"Chr00\" $anno | awk '{if(($4>=48263504)&&($5<=48264621)) print$0}' "
   ]
  },
  {
   "cell_type": "code",
   "execution_count": 138,
   "metadata": {},
   "outputs": [
    {
     "ename": "",
     "evalue": "1",
     "output_type": "error",
     "traceback": []
    }
   ],
   "source": [
    "grep \"MD00G1202200\" $interpro "
   ]
  },
  {
   "cell_type": "code",
   "execution_count": 133,
   "metadata": {},
   "outputs": [
    {
     "ename": "",
     "evalue": "1",
     "output_type": "error",
     "traceback": []
    }
   ],
   "source": [
    "grep \"MD00G1202200\" $kegg"
   ]
  },
  {
   "cell_type": "code",
   "execution_count": 151,
   "metadata": {},
   "outputs": [
    {
     "ename": "",
     "evalue": "1",
     "output_type": "error",
     "traceback": []
    }
   ],
   "source": [
    "grep \"MD00G1202200\" $funanno"
   ]
  },
  {
   "cell_type": "code",
   "execution_count": 146,
   "metadata": {},
   "outputs": [
    {
     "name": "stdout",
     "output_type": "stream",
     "text": [
      "Chr14\tIRHS-2017\tgene\t30282015\t30282530\t.\t+\t.\tID=gene:MD14G1221100;Name=MD14G1221100;Note=Oleosin family protein;function=Oleosin family protein\n",
      "Chr14\tIRHS-2017\tmRNA\t30282015\t30282530\t.\t+\t.\tID=mRNA:MD14G1221100;Name=MD14G1221100;Parent=gene:MD14G1221100\n",
      "Chr14\tIRHS-2017\texon\t30282015\t30282530\t.\t+\t0\tID=exon:MD14G1221100.1;Parent=mRNA:MD14G1221100\n",
      "Chr14\tIRHS-2017\tCDS\t30282015\t30282530\t.\t+\t0\tID=CDS:MD14G1221100.1;Parent=mRNA:MD14G1221100;est_cons=0.0;est_incons=0.0\n",
      "Chr14\tIRHS-2017\tgene\t30291503\t30291994\t.\t-\t.\tID=gene:MD14G1221200;Name=MD14G1221200;Note=Other Eukaryotes  -0 (source: NCBI BLink).;function=Other Eukaryotes  -0 (source: NCBI BLink).\n",
      "Chr14\tIRHS-2017\tmRNA\t30291503\t30291994\t.\t-\t.\tID=mRNA:MD14G1221200;Name=MD14G1221200;Parent=gene:MD14G1221200\n",
      "Chr14\tIRHS-2017\texon\t30291503\t30291994\t.\t-\t0\tID=exon:MD14G1221200.1;Parent=mRNA:MD14G1221200\n",
      "Chr14\tIRHS-2017\tCDS\t30291503\t30291994\t.\t-\t0\tID=CDS:MD14G1221200.1;Parent=mRNA:MD14G1221200;est_cons=0.0;est_incons=0.0\n"
     ]
    }
   ],
   "source": [
    "grep \"Chr14\" $anno | awk '{if(($4>=30281000)&&($4<=30292000)) print$0}' # 30289152  30291917"
   ]
  },
  {
   "cell_type": "code",
   "execution_count": 147,
   "metadata": {},
   "outputs": [],
   "source": [
    "# So the previous loci is 2351 bp before the gene MD14G1221200 and 6622 bp after of gene MD14G1221100"
   ]
  },
  {
   "cell_type": "code",
   "execution_count": 172,
   "metadata": {},
   "outputs": [
    {
     "name": "stdout",
     "output_type": "stream",
     "text": [
      "MD14G1221100\tIPR000136\tGO:0012511;GO:0016021\tPF01277\t45\t157\t2.1e-22\tT\tHMMPfam\n",
      "MD14G1221100\tnoIPR\tnoGo\tseg\t5\t31\tNA\t?\tSeg\n",
      "MD14G1221100\tnoIPR\tnoGo\tseg\t51\t77\tNA\t?\tSeg\n",
      "MD14G1221100\tnoIPR\tnoGo\tseg\t80\t88\tNA\t?\tSeg\n",
      "MD14G1221100\tnoIPR\tnoGo\ttmhmm\t44\t66\tNA\t?\tTMHMM\n",
      "MD14G1221100\tnoIPR\tnoGo\ttmhmm\t68\t90\tNA\t?\tTMHMM\n",
      "MD14G1221100\tnoIPR\tnoGo\ttmhmm\t95\t117\tNA\t?\tTMHMM\n"
     ]
    }
   ],
   "source": [
    "grep \"MD14G1221100\" $interpro "
   ]
  },
  {
   "cell_type": "code",
   "execution_count": 173,
   "metadata": {},
   "outputs": [
    {
     "ename": "",
     "evalue": "1",
     "output_type": "error",
     "traceback": []
    }
   ],
   "source": [
    "grep \"MD14G1221100\" $kegg"
   ]
  },
  {
   "cell_type": "code",
   "execution_count": 174,
   "metadata": {},
   "outputs": [
    {
     "name": "stdout",
     "output_type": "stream",
     "text": [
      "MD14G1221100\toleosin 1-like [Pyrus x bretschneideri, Prunus mume, Malus domestica];oleosin 16 kDa-like [Fragaria vesca subsp. vesca];hypothetical protein PRUPE_ppa012323mg [Prunus persica]\n"
     ]
    }
   ],
   "source": [
    "grep \"MD14G1221100\" $funanno"
   ]
  },
  {
   "cell_type": "code",
   "execution_count": 148,
   "metadata": {},
   "outputs": [
    {
     "name": "stdout",
     "output_type": "stream",
     "text": [
      "MD14G1221200\tnoIPR\tnoGo\tseg\t7\t16\tNA\t?\tSeg\n"
     ]
    }
   ],
   "source": [
    "grep \"MD14G1221200\" $interpro "
   ]
  },
  {
   "cell_type": "code",
   "execution_count": 149,
   "metadata": {},
   "outputs": [
    {
     "ename": "",
     "evalue": "1",
     "output_type": "error",
     "traceback": []
    }
   ],
   "source": [
    "grep \"MD14G1221200\" $kegg"
   ]
  },
  {
   "cell_type": "code",
   "execution_count": 152,
   "metadata": {},
   "outputs": [
    {
     "name": "stdout",
     "output_type": "stream",
     "text": [
      "MD14G1221200\tuncharacterized protein LOC103455583 [Malus domestica];uncharacterized protein LOC103929917 [Pyrus x bretschneideri];uncharacterized protein LOC103428315 [Malus domestica]\n"
     ]
    }
   ],
   "source": [
    "grep \"MD14G1221200\" $funanno"
   ]
  },
  {
   "cell_type": "code",
   "execution_count": 153,
   "metadata": {},
   "outputs": [
    {
     "name": "stdout",
     "output_type": "stream",
     "text": [
      "Chr15\tIRHS-2017\tgene\t47766605\t47767842\t.\t-\t.\tID=gene:MD15G1386400;Name=MD15G1386400;rfam_acc=RF02543;rfam_id=LSU_rRNA_eukarya;Note=LSU_rRNA_eukarya\n",
      "Chr15\tIRHS-2017\tncRNA\t47766605\t47767842\t.\t-\t.\tID=ncRNA:MD15G1386400;Name=MD15G1386400;Parent=gene:MD15G1386400;rfam_acc=RF02543;rfam_id=LSU_rRNA_eukarya\n"
     ]
    }
   ],
   "source": [
    "grep \"Chr15\" $anno | awk '{if(($4>=47766093)&&($4<=47766888)) print$0}' "
   ]
  },
  {
   "cell_type": "code",
   "execution_count": 157,
   "metadata": {},
   "outputs": [
    {
     "ename": "",
     "evalue": "1",
     "output_type": "error",
     "traceback": []
    }
   ],
   "source": [
    "grep \"MD15G1386400\" $interpro \n",
    "grep \"MD15G1386400\" $kegg\n",
    "grep \"MD15G1386400\" $funanno"
   ]
  },
  {
   "cell_type": "code",
   "execution_count": 158,
   "metadata": {},
   "outputs": [
    {
     "name": "stdout",
     "output_type": "stream",
     "text": [
      "Chr16\tIRHS-2017\tgene\t38910995\t38911714\t.\t+\t.\tID=gene:MD16G1282900;Name=MD16G1282900\n",
      "Chr16\tIRHS-2017\tmRNA\t38910995\t38911714\t.\t+\t.\tID=mRNA:MD16G1282900;Name=MD16G1282900;Parent=gene:MD16G1282900\n",
      "Chr16\tIRHS-2017\texon\t38910995\t38911157\t.\t+\t.\tID=exon:MD16G1282900.1;Parent=mRNA:MD16G1282900\n",
      "Chr16\tIRHS-2017\texon\t38911485\t38911714\t.\t+\t1\tID=exon:MD16G1282900.2;Parent=mRNA:MD16G1282900\n",
      "Chr16\tIRHS-2017\tfive_prime_UTR\t38910995\t38911014\t.\t+\t.\tID=five_prime_UTR:MD16G1282900.0;Parent=mRNA:MD16G1282900;est_cons=60.0;est_incons=0.0\n",
      "Chr16\tIRHS-2017\tCDS\t38911015\t38911157\t.\t+\t0\tID=CDS:MD16G1282900.1;Parent=mRNA:MD16G1282900;est_cons=100.0;est_incons=0.0\n",
      "Chr16\tIRHS-2017\tCDS\t38911485\t38911692\t.\t+\t1\tID=CDS:MD16G1282900.2;Parent=mRNA:MD16G1282900;est_cons=60.6;est_incons=0.5\n",
      "Chr16\tIRHS-2017\tthree_prime_UTR\t38911693\t38911714\t.\t+\t.\tID=three_prime_UTR:MD16G1282900.4;Parent=mRNA:MD16G1282900;est_cons=0.0;est_incons=0.0\n",
      "Chr16\tIRHS-2017\tgene\t38914228\t38920342\t.\t+\t.\tID=gene:MD16G1283000;Name=MD16G1283000\n",
      "Chr16\tIRHS-2017\tncRNA\t38914228\t38920342\t.\t+\t.\tID=ncRNA:MD16G1283000;Name=MD16G1283000;Parent=gene:MD16G1283000\n"
     ]
    }
   ],
   "source": [
    "grep \"Chr16\" $anno | awk '{if(($4>=38910980)&&($4<=38919476)) print$0}'  "
   ]
  },
  {
   "cell_type": "code",
   "execution_count": 165,
   "metadata": {},
   "outputs": [
    {
     "ename": "",
     "evalue": "1",
     "output_type": "error",
     "traceback": []
    }
   ],
   "source": [
    "grep \"MD16G1282900\" $interpro\n",
    "grep \"MD16G1282900\" $kegg\n",
    "grep \"MD16G1282900\" $funanno"
   ]
  },
  {
   "cell_type": "code",
   "execution_count": 171,
   "metadata": {},
   "outputs": [
    {
     "ename": "",
     "evalue": "1",
     "output_type": "error",
     "traceback": []
    }
   ],
   "source": [
    "grep \"MD16G1283000\" $interpro\n",
    "grep \"MD16G1283000\" $kegg\n",
    "grep \"MD16G1283000\" $funanno"
   ]
  },
  {
   "cell_type": "markdown",
   "metadata": {},
   "source": [
    "### On target coverage"
   ]
  },
  {
   "cell_type": "code",
   "execution_count": 85,
   "metadata": {},
   "outputs": [
    {
     "name": "stdout",
     "output_type": "stream",
     "text": [
      "7831\n"
     ]
    }
   ],
   "source": [
    "grep -Fxf $cov_albacore2_bed $cov_guppy_bed | grep \"Chr09\" | wc -l #on target covered region with cov >25 and at least MQ40 between both files "
   ]
  },
  {
   "cell_type": "code",
   "execution_count": 86,
   "metadata": {},
   "outputs": [
    {
     "name": "stdout",
     "output_type": "stream",
     "text": [
      "7831\n"
     ]
    }
   ],
   "source": [
    "grep \"Chr09\" $cov_albacore2_bed | wc -l "
   ]
  },
  {
   "cell_type": "code",
   "execution_count": 87,
   "metadata": {},
   "outputs": [
    {
     "name": "stdout",
     "output_type": "stream",
     "text": [
      "7909\n"
     ]
    }
   ],
   "source": [
    "grep \"Chr09\" $cov_guppy_bed | wc -l  #Guppy covered a bigger region than albacore2 basecalled mapping"
   ]
  },
  {
   "cell_type": "code",
   "execution_count": 22,
   "metadata": {},
   "outputs": [],
   "source": [
    "# Conclusion form these last few lines is that albacore2 mapping got a slitly shorted target region covered >25 and MQ>40 than guppy\n",
    "# The difference is at the beggining of the target, albacore2 starts getting the target well covered later in the sequence\n"
   ]
  },
  {
   "cell_type": "code",
   "execution_count": 91,
   "metadata": {},
   "outputs": [
    {
     "name": "stdout",
     "output_type": "stream",
     "text": [
      "Chr09\t35542701\t3\n",
      "Chr09\t35542702\t3\n",
      "Chr09\t35542703\t3\n",
      "Chr09\t35542704\t3\n",
      "Chr09\t35542705\t3\n",
      "Chr09\t35542706\t3\n",
      "Chr09\t35542707\t3\n",
      "Chr09\t35542708\t3\n",
      "Chr09\t35542709\t3\n",
      "Chr09\t35542710\t3\n",
      "Chr09\t35542711\t3\n",
      "Chr09\t35542712\t3\n",
      "Chr09\t35542713\t3\n",
      "Chr09\t35542714\t3\n",
      "Chr09\t35542715\t3\n",
      "Chr09\t35542716\t3\n",
      "Chr09\t35542717\t3\n",
      "Chr09\t35542718\t4\n",
      "Chr09\t35542719\t11\n",
      "Chr09\t35542720\t15\n",
      "Chr09\t35542721\t16\n",
      "Chr09\t35542722\t16\n",
      "Chr09\t35542723\t16\n",
      "Chr09\t35542724\t16\n",
      "Chr09\t35542725\t15\n",
      "Chr09\t35542726\t13\n",
      "Chr09\t35542727\t18\n",
      "Chr09\t35542728\t18\n",
      "Chr09\t35542729\t17\n",
      "Chr09\t35542730\t17\n",
      "Chr09\t35542731\t21\n",
      "Chr09\t35542732\t21\n",
      "Chr09\t35542733\t20\n",
      "Chr09\t35542734\t19\n",
      "Chr09\t35542735\t18\n",
      "Chr09\t35542736\t20\n",
      "Chr09\t35542737\t20\n",
      "Chr09\t35542738\t22\n",
      "Chr09\t35542739\t22\n",
      "Chr09\t35542740\t22\n",
      "Chr09\t35542741\t21\n",
      "Chr09\t35542742\t21\n",
      "Chr09\t35542743\t22\n",
      "Chr09\t35542744\t22\n",
      "Chr09\t35542745\t19\n",
      "Chr09\t35542746\t17\n",
      "Chr09\t35542747\t21\n",
      "Chr09\t35542748\t22\n",
      "Chr09\t35542749\t22\n",
      "Chr09\t35542750\t21\n",
      "Chr09\t35542751\t22\n",
      "Chr09\t35542752\t18\n",
      "Chr09\t35542753\t18\n",
      "Chr09\t35542754\t22\n",
      "Chr09\t35542755\t14\n",
      "Chr09\t35542756\t22\n",
      "Chr09\t35542757\t21\n",
      "Chr09\t35542758\t19\n",
      "Chr09\t35542759\t21\n",
      "Chr09\t35542760\t21\n",
      "Chr09\t35542761\t21\n",
      "Chr09\t35542762\t22\n",
      "Chr09\t35542763\t22\n",
      "Chr09\t35542764\t22\n",
      "Chr09\t35542765\t22\n",
      "Chr09\t35542766\t19\n",
      "Chr09\t35542767\t22\n",
      "Chr09\t35542768\t22\n",
      "Chr09\t35542769\t21\n",
      "Chr09\t35542770\t22\n",
      "Chr09\t35542771\t22\n",
      "Chr09\t35542772\t20\n",
      "Chr09\t35542773\t22\n",
      "Chr09\t35542774\t21\n",
      "Chr09\t35542775\t22\n",
      "Chr09\t35542776\t22\n",
      "Chr09\t35542777\t22\n",
      "Chr09\t35542778\t22\n",
      "Chr09\t35542779\t20\n",
      "Chr09\t35542780\t23\n",
      "Chr09\t35542781\t22\n",
      "Chr09\t35542782\t22\n",
      "Chr09\t35542783\t22\n",
      "Chr09\t35542784\t23\n",
      "Chr09\t35542785\t23\n",
      "Chr09\t35542786\t23\n",
      "Chr09\t35542787\t23\n",
      "Chr09\t35542788\t23\n",
      "Chr09\t35542789\t23\n",
      "Chr09\t35542790\t22\n",
      "Chr09\t35542791\t22\n",
      "Chr09\t35542792\t23\n",
      "Chr09\t35542793\t23\n",
      "Chr09\t35542794\t22\n",
      "Chr09\t35542795\t23\n",
      "Chr09\t35542796\t22\n",
      "Chr09\t35542797\t18\n",
      "Chr09\t35542798\t22\n",
      "Chr09\t35542799\t23\n",
      "Chr09\t35542800\t23\n",
      "Chr09\t35542801\t23\n",
      "Chr09\t35542802\t23\n",
      "Chr09\t35542803\t20\n",
      "Chr09\t35542804\t21\n",
      "Chr09\t35542805\t22\n",
      "Chr09\t35542806\t23\n",
      "Chr09\t35542807\t23\n",
      "Chr09\t35542808\t23\n",
      "Chr09\t35542809\t23\n",
      "Chr09\t35542810\t23\n",
      "Chr09\t35542811\t23\n",
      "Chr09\t35542812\t23\n",
      "Chr09\t35542813\t23\n",
      "Chr09\t35542814\t22\n",
      "Chr09\t35542815\t23\n",
      "Chr09\t35542816\t23\n",
      "Chr09\t35542817\t23\n",
      "Chr09\t35542818\t23\n",
      "Chr09\t35542819\t23\n",
      "Chr09\t35542820\t23\n",
      "Chr09\t35542821\t22\n",
      "Chr09\t35542822\t22\n",
      "Chr09\t35542823\t23\n",
      "Chr09\t35542824\t23\n",
      "Chr09\t35542825\t22\n",
      "Chr09\t35542826\t23\n",
      "Chr09\t35542827\t23\n",
      "Chr09\t35542828\t23\n",
      "Chr09\t35542829\t23\n",
      "Chr09\t35542830\t23\n",
      "Chr09\t35542831\t23\n",
      "Chr09\t35542832\t23\n",
      "Chr09\t35542833\t23\n",
      "Chr09\t35542834\t22\n",
      "Chr09\t35542835\t23\n",
      "Chr09\t35542836\t23\n",
      "Chr09\t35542837\t23\n",
      "Chr09\t35542838\t23\n",
      "Chr09\t35542839\t23\n",
      "Chr09\t35542840\t22\n",
      "Chr09\t35542841\t21\n",
      "Chr09\t35542842\t22\n",
      "Chr09\t35542843\t23\n",
      "Chr09\t35542844\t21\n",
      "Chr09\t35542845\t22\n",
      "Chr09\t35542846\t23\n",
      "Chr09\t35542847\t22\n",
      "Chr09\t35542848\t22\n",
      "Chr09\t35542849\t23\n",
      "Chr09\t35542850\t23\n",
      "Chr09\t35542851\t23\n",
      "Chr09\t35542852\t22\n",
      "Chr09\t35542853\t21\n",
      "Chr09\t35542854\t22\n",
      "Chr09\t35542855\t22\n",
      "Chr09\t35542856\t22\n",
      "Chr09\t35542857\t23\n",
      "Chr09\t35542858\t22\n",
      "Chr09\t35542859\t23\n",
      "Chr09\t35542860\t23\n",
      "Chr09\t35542861\t26\n",
      "Chr09\t35542862\t26\n",
      "Chr09\t35542863\t25\n",
      "Chr09\t35542864\t25\n",
      "Chr09\t35542865\t38\n",
      "awk: cmd. line:1: (FILENAME=- FNR=4450754) fatal: print to \"standard output\" failed (Broken pipe)\n",
      "grep: write error\n"
     ]
    }
   ],
   "source": [
    "grep \"Chr09\" $cov_albacore2 | awk '{if($2>=35542701) print$0}'| head -n 165 #"
   ]
  },
  {
   "cell_type": "code",
   "execution_count": 38,
   "metadata": {},
   "outputs": [
    {
     "name": "stdout",
     "output_type": "stream",
     "text": [
      "Chr09\t35542701\t3\n",
      "Chr09\t35542702\t3\n",
      "Chr09\t35542703\t3\n",
      "Chr09\t35542704\t3\n",
      "Chr09\t35542705\t3\n",
      "Chr09\t35542706\t3\n",
      "Chr09\t35542707\t3\n",
      "Chr09\t35542708\t3\n",
      "Chr09\t35542709\t3\n",
      "Chr09\t35542710\t3\n",
      "Chr09\t35542711\t3\n",
      "Chr09\t35542712\t3\n",
      "Chr09\t35542713\t3\n",
      "Chr09\t35542714\t3\n",
      "Chr09\t35542715\t3\n",
      "Chr09\t35542716\t3\n",
      "Chr09\t35542717\t2\n",
      "Chr09\t35542718\t6\n",
      "Chr09\t35542719\t13\n",
      "Chr09\t35542720\t14\n",
      "Chr09\t35542721\t22\n",
      "Chr09\t35542722\t22\n",
      "Chr09\t35542723\t22\n",
      "Chr09\t35542724\t22\n",
      "Chr09\t35542725\t23\n",
      "Chr09\t35542726\t19\n",
      "Chr09\t35542727\t22\n",
      "Chr09\t35542728\t23\n",
      "Chr09\t35542729\t22\n",
      "Chr09\t35542730\t20\n",
      "Chr09\t35542731\t24\n",
      "Chr09\t35542732\t24\n",
      "Chr09\t35542733\t24\n",
      "Chr09\t35542734\t23\n",
      "Chr09\t35542735\t23\n",
      "Chr09\t35542736\t24\n",
      "Chr09\t35542737\t24\n",
      "Chr09\t35542738\t23\n",
      "Chr09\t35542739\t25\n",
      "Chr09\t35542740\t25\n",
      "Chr09\t35542741\t25\n",
      "Chr09\t35542742\t25\n",
      "Chr09\t35542743\t25\n",
      "Chr09\t35542744\t25\n",
      "Chr09\t35542745\t22\n",
      "Chr09\t35542746\t22\n",
      "Chr09\t35542747\t25\n",
      "Chr09\t35542748\t24\n",
      "Chr09\t35542749\t23\n",
      "Chr09\t35542750\t20\n",
      "Chr09\t35542751\t25\n",
      "Chr09\t35542752\t22\n",
      "Chr09\t35542753\t23\n",
      "Chr09\t35542754\t25\n",
      "Chr09\t35542755\t21\n",
      "Chr09\t35542756\t26\n",
      "Chr09\t35542757\t26\n",
      "Chr09\t35542758\t25\n",
      "Chr09\t35542759\t26\n",
      "Chr09\t35542760\t26\n",
      "Chr09\t35542761\t26\n",
      "Chr09\t35542762\t26\n",
      "Chr09\t35542763\t26\n",
      "Chr09\t35542764\t26\n",
      "Chr09\t35542765\t26\n",
      "Chr09\t35542766\t25\n",
      "Chr09\t35542767\t25\n",
      "Chr09\t35542768\t25\n",
      "Chr09\t35542769\t22\n",
      "Chr09\t35542770\t26\n",
      "Chr09\t35542771\t26\n",
      "Chr09\t35542772\t26\n",
      "Chr09\t35542773\t26\n",
      "Chr09\t35542774\t26\n",
      "Chr09\t35542775\t26\n",
      "Chr09\t35542776\t26\n",
      "Chr09\t35542777\t25\n",
      "Chr09\t35542778\t26\n",
      "Chr09\t35542779\t24\n",
      "Chr09\t35542780\t26\n",
      "Chr09\t35542781\t26\n",
      "Chr09\t35542782\t26\n",
      "Chr09\t35542783\t25\n",
      "Chr09\t35542784\t26\n",
      "Chr09\t35542785\t26\n",
      "Chr09\t35542786\t26\n",
      "Chr09\t35542787\t25\n",
      "Chr09\t35542788\t26\n",
      "Chr09\t35542789\t26\n",
      "Chr09\t35542790\t26\n",
      "Chr09\t35542791\t26\n",
      "Chr09\t35542792\t26\n",
      "Chr09\t35542793\t26\n",
      "Chr09\t35542794\t24\n",
      "Chr09\t35542795\t26\n",
      "Chr09\t35542796\t26\n",
      "Chr09\t35542797\t24\n",
      "Chr09\t35542798\t24\n",
      "Chr09\t35542799\t26\n",
      "Chr09\t35542800\t24\n",
      "Chr09\t35542801\t26\n",
      "Chr09\t35542802\t26\n",
      "Chr09\t35542803\t25\n",
      "Chr09\t35542804\t26\n",
      "Chr09\t35542805\t26\n",
      "Chr09\t35542806\t26\n",
      "Chr09\t35542807\t26\n",
      "Chr09\t35542808\t26\n",
      "Chr09\t35542809\t26\n",
      "Chr09\t35542810\t26\n",
      "Chr09\t35542811\t26\n",
      "Chr09\t35542812\t26\n",
      "Chr09\t35542813\t26\n",
      "Chr09\t35542814\t26\n",
      "Chr09\t35542815\t25\n",
      "Chr09\t35542816\t26\n",
      "Chr09\t35542817\t26\n",
      "Chr09\t35542818\t26\n",
      "Chr09\t35542819\t26\n",
      "Chr09\t35542820\t26\n",
      "Chr09\t35542821\t25\n",
      "Chr09\t35542822\t26\n",
      "Chr09\t35542823\t26\n",
      "Chr09\t35542824\t26\n",
      "Chr09\t35542825\t25\n",
      "Chr09\t35542826\t26\n",
      "Chr09\t35542827\t26\n",
      "Chr09\t35542828\t26\n",
      "Chr09\t35542829\t26\n",
      "Chr09\t35542830\t26\n",
      "Chr09\t35542831\t26\n",
      "Chr09\t35542832\t26\n",
      "Chr09\t35542833\t26\n",
      "Chr09\t35542834\t26\n",
      "Chr09\t35542835\t26\n",
      "Chr09\t35542836\t26\n",
      "Chr09\t35542837\t26\n",
      "Chr09\t35542838\t24\n",
      "Chr09\t35542839\t25\n",
      "Chr09\t35542840\t24\n",
      "Chr09\t35542841\t23\n",
      "Chr09\t35542842\t23\n",
      "Chr09\t35542843\t26\n",
      "Chr09\t35542844\t24\n",
      "Chr09\t35542845\t25\n",
      "Chr09\t35542846\t24\n",
      "Chr09\t35542847\t25\n",
      "Chr09\t35542848\t26\n",
      "Chr09\t35542849\t25\n",
      "Chr09\t35542850\t27\n",
      "awk: cmd. line:1: (FILENAME=- FNR=4738592) fatal: print to \"standard output\" failed (Broken pipe)\n",
      "grep: write error\n"
     ]
    }
   ],
   "source": [
    "grep \"Chr09\" $cov_guppy | awk '{if($2>=35542701) print$0}'| head -n 150"
   ]
  },
  {
   "cell_type": "code",
   "execution_count": 39,
   "metadata": {},
   "outputs": [],
   "source": [
    "# so for albacore2 we get less coverage at the beggining of the target than for guppy "
   ]
  },
  {
   "cell_type": "code",
   "execution_count": 40,
   "metadata": {},
   "outputs": [],
   "source": [
    "# But what about at the end of the target 35,551,900"
   ]
  },
  {
   "cell_type": "code",
   "execution_count": 92,
   "metadata": {},
   "outputs": [
    {
     "name": "stdout",
     "output_type": "stream",
     "text": [
      "Chr09\t35551741\t3\n",
      "Chr09\t35551742\t3\n",
      "Chr09\t35551743\t3\n",
      "Chr09\t35551744\t3\n",
      "Chr09\t35551745\t3\n",
      "Chr09\t35551746\t3\n",
      "Chr09\t35551747\t3\n",
      "Chr09\t35551748\t3\n",
      "Chr09\t35551749\t3\n",
      "Chr09\t35551750\t3\n",
      "Chr09\t35551751\t3\n",
      "Chr09\t35551752\t3\n",
      "Chr09\t35551753\t3\n",
      "Chr09\t35551754\t3\n",
      "Chr09\t35551755\t3\n",
      "Chr09\t35551756\t3\n",
      "Chr09\t35551757\t3\n",
      "Chr09\t35551758\t3\n",
      "Chr09\t35551759\t3\n",
      "Chr09\t35551760\t3\n",
      "Chr09\t35551761\t3\n",
      "Chr09\t35551762\t3\n",
      "Chr09\t35551763\t3\n",
      "Chr09\t35551764\t2\n",
      "Chr09\t35551765\t2\n",
      "Chr09\t35551766\t3\n",
      "Chr09\t35551767\t3\n",
      "Chr09\t35551768\t3\n",
      "Chr09\t35551769\t3\n",
      "Chr09\t35551770\t2\n",
      "Chr09\t35551771\t3\n",
      "Chr09\t35551772\t3\n",
      "Chr09\t35551773\t3\n",
      "Chr09\t35551774\t3\n",
      "Chr09\t35551775\t3\n",
      "Chr09\t35551776\t3\n",
      "Chr09\t35551777\t3\n",
      "Chr09\t35551778\t3\n",
      "Chr09\t35551779\t3\n",
      "Chr09\t35551780\t3\n",
      "Chr09\t35551781\t3\n",
      "Chr09\t35551782\t3\n",
      "Chr09\t35551783\t3\n",
      "Chr09\t35551784\t3\n",
      "Chr09\t35551785\t3\n",
      "Chr09\t35551786\t3\n",
      "Chr09\t35551787\t3\n",
      "Chr09\t35551788\t3\n",
      "Chr09\t35551789\t3\n",
      "Chr09\t35551790\t3\n",
      "Chr09\t35551791\t3\n",
      "Chr09\t35551792\t3\n",
      "Chr09\t35551793\t2\n",
      "Chr09\t35551794\t3\n",
      "Chr09\t35551795\t3\n",
      "Chr09\t35551796\t3\n",
      "Chr09\t35551797\t3\n",
      "Chr09\t35551798\t3\n",
      "Chr09\t35551799\t3\n",
      "Chr09\t35551800\t3\n",
      "Chr09\t35551801\t3\n",
      "Chr09\t35551802\t3\n",
      "Chr09\t35551803\t3\n",
      "Chr09\t35551804\t3\n",
      "Chr09\t35551805\t3\n",
      "Chr09\t35551806\t3\n",
      "Chr09\t35551807\t3\n",
      "Chr09\t35551808\t2\n",
      "Chr09\t35551809\t3\n",
      "Chr09\t35551810\t3\n",
      "Chr09\t35551811\t3\n",
      "Chr09\t35551812\t3\n",
      "Chr09\t35551813\t3\n",
      "Chr09\t35551814\t3\n",
      "Chr09\t35551815\t3\n",
      "Chr09\t35551816\t3\n",
      "Chr09\t35551817\t3\n",
      "Chr09\t35551818\t3\n",
      "Chr09\t35551819\t3\n",
      "Chr09\t35551820\t3\n",
      "Chr09\t35551821\t3\n",
      "Chr09\t35551822\t3\n",
      "Chr09\t35551823\t3\n",
      "Chr09\t35551824\t3\n",
      "Chr09\t35551825\t3\n",
      "Chr09\t35551826\t3\n",
      "Chr09\t35551827\t3\n",
      "Chr09\t35551828\t3\n",
      "Chr09\t35551829\t3\n",
      "Chr09\t35551830\t3\n",
      "Chr09\t35551831\t3\n",
      "Chr09\t35551832\t3\n",
      "Chr09\t35551833\t3\n",
      "Chr09\t35551834\t3\n",
      "Chr09\t35551835\t3\n",
      "Chr09\t35551836\t3\n",
      "Chr09\t35551837\t3\n",
      "Chr09\t35551838\t3\n",
      "Chr09\t35551839\t3\n",
      "Chr09\t35551840\t3\n",
      "Chr09\t35551841\t3\n",
      "Chr09\t35551842\t3\n",
      "Chr09\t35551843\t3\n",
      "Chr09\t35551844\t3\n",
      "Chr09\t35551845\t3\n",
      "Chr09\t35551846\t3\n",
      "Chr09\t35551847\t3\n",
      "Chr09\t35551848\t3\n",
      "Chr09\t35551849\t3\n",
      "Chr09\t35551850\t3\n",
      "Chr09\t35551851\t3\n",
      "Chr09\t35551852\t3\n",
      "Chr09\t35551853\t3\n",
      "Chr09\t35551854\t3\n",
      "Chr09\t35551855\t3\n",
      "Chr09\t35551856\t3\n",
      "Chr09\t35551857\t3\n",
      "Chr09\t35551858\t3\n",
      "Chr09\t35551859\t3\n",
      "Chr09\t35551860\t3\n",
      "Chr09\t35551861\t3\n",
      "Chr09\t35551862\t3\n",
      "Chr09\t35551863\t2\n",
      "Chr09\t35551864\t3\n",
      "Chr09\t35551865\t3\n",
      "Chr09\t35551866\t3\n",
      "Chr09\t35551867\t2\n",
      "Chr09\t35551868\t3\n",
      "Chr09\t35551869\t3\n",
      "Chr09\t35551870\t3\n",
      "Chr09\t35551871\t3\n",
      "Chr09\t35551872\t3\n",
      "Chr09\t35551873\t3\n",
      "Chr09\t35551874\t3\n",
      "Chr09\t35551875\t3\n",
      "Chr09\t35551876\t2\n",
      "Chr09\t35551877\t2\n",
      "Chr09\t35551878\t2\n",
      "Chr09\t35551879\t2\n",
      "Chr09\t35551880\t1\n",
      "Chr09\t35551881\t1\n",
      "Chr09\t35551882\t2\n",
      "Chr09\t35551883\t2\n",
      "Chr09\t35551884\t2\n",
      "Chr09\t35551885\t2\n",
      "Chr09\t35551886\t2\n",
      "Chr09\t35551887\t2\n",
      "Chr09\t35551888\t2\n",
      "Chr09\t35551889\t2\n",
      "Chr09\t35551890\t2\n",
      "Chr09\t35551891\t2\n",
      "Chr09\t35551892\t2\n",
      "Chr09\t35551893\t1\n",
      "Chr09\t35551894\t1\n",
      "Chr09\t35551895\t1\n",
      "Chr09\t35551896\t1\n",
      "Chr09\t35551897\t1\n",
      "Chr09\t35551898\t1\n",
      "Chr09\t35551899\t1\n",
      "Chr09\t35551900\t1\n"
     ]
    }
   ],
   "source": [
    "grep \"Chr09\" $cov_albacore2 | awk '{if($2<=35551900) print$0}'| tail -n 160 #this is the location of digestion of crRNA 4 which didnt work that well "
   ]
  },
  {
   "cell_type": "code",
   "execution_count": 51,
   "metadata": {},
   "outputs": [
    {
     "name": "stdout",
     "output_type": "stream",
     "text": [
      "Chr09\t35551741\t3\n",
      "Chr09\t35551742\t3\n",
      "Chr09\t35551743\t3\n",
      "Chr09\t35551744\t3\n",
      "Chr09\t35551745\t3\n",
      "Chr09\t35551746\t3\n",
      "Chr09\t35551747\t3\n",
      "Chr09\t35551748\t3\n",
      "Chr09\t35551749\t3\n",
      "Chr09\t35551750\t3\n",
      "Chr09\t35551751\t3\n",
      "Chr09\t35551752\t3\n",
      "Chr09\t35551753\t3\n",
      "Chr09\t35551754\t3\n",
      "Chr09\t35551755\t3\n",
      "Chr09\t35551756\t3\n",
      "Chr09\t35551757\t3\n",
      "Chr09\t35551758\t3\n",
      "Chr09\t35551759\t3\n",
      "Chr09\t35551760\t3\n",
      "Chr09\t35551761\t3\n",
      "Chr09\t35551762\t3\n",
      "Chr09\t35551763\t3\n",
      "Chr09\t35551764\t2\n",
      "Chr09\t35551765\t2\n",
      "Chr09\t35551766\t3\n",
      "Chr09\t35551767\t3\n",
      "Chr09\t35551768\t3\n",
      "Chr09\t35551769\t3\n",
      "Chr09\t35551770\t3\n",
      "Chr09\t35551771\t3\n",
      "Chr09\t35551772\t3\n",
      "Chr09\t35551773\t3\n",
      "Chr09\t35551774\t3\n",
      "Chr09\t35551775\t3\n",
      "Chr09\t35551776\t3\n",
      "Chr09\t35551777\t3\n",
      "Chr09\t35551778\t3\n",
      "Chr09\t35551779\t3\n",
      "Chr09\t35551780\t3\n",
      "Chr09\t35551781\t3\n",
      "Chr09\t35551782\t3\n",
      "Chr09\t35551783\t3\n",
      "Chr09\t35551784\t3\n",
      "Chr09\t35551785\t3\n",
      "Chr09\t35551786\t3\n",
      "Chr09\t35551787\t3\n",
      "Chr09\t35551788\t3\n",
      "Chr09\t35551789\t3\n",
      "Chr09\t35551790\t3\n",
      "Chr09\t35551791\t3\n",
      "Chr09\t35551792\t3\n",
      "Chr09\t35551793\t3\n",
      "Chr09\t35551794\t3\n",
      "Chr09\t35551795\t3\n",
      "Chr09\t35551796\t3\n",
      "Chr09\t35551797\t3\n",
      "Chr09\t35551798\t3\n",
      "Chr09\t35551799\t3\n",
      "Chr09\t35551800\t3\n",
      "Chr09\t35551801\t3\n",
      "Chr09\t35551802\t3\n",
      "Chr09\t35551803\t3\n",
      "Chr09\t35551804\t3\n",
      "Chr09\t35551805\t3\n",
      "Chr09\t35551806\t3\n",
      "Chr09\t35551807\t3\n",
      "Chr09\t35551808\t2\n",
      "Chr09\t35551809\t3\n",
      "Chr09\t35551810\t3\n",
      "Chr09\t35551811\t3\n",
      "Chr09\t35551812\t3\n",
      "Chr09\t35551813\t3\n",
      "Chr09\t35551814\t3\n",
      "Chr09\t35551815\t3\n",
      "Chr09\t35551816\t3\n",
      "Chr09\t35551817\t3\n",
      "Chr09\t35551818\t3\n",
      "Chr09\t35551819\t3\n",
      "Chr09\t35551820\t3\n",
      "Chr09\t35551821\t3\n",
      "Chr09\t35551822\t3\n",
      "Chr09\t35551823\t3\n",
      "Chr09\t35551824\t3\n",
      "Chr09\t35551825\t3\n",
      "Chr09\t35551826\t3\n",
      "Chr09\t35551827\t3\n",
      "Chr09\t35551828\t3\n",
      "Chr09\t35551829\t3\n",
      "Chr09\t35551830\t3\n",
      "Chr09\t35551831\t3\n",
      "Chr09\t35551832\t3\n",
      "Chr09\t35551833\t3\n",
      "Chr09\t35551834\t3\n",
      "Chr09\t35551835\t3\n",
      "Chr09\t35551836\t3\n",
      "Chr09\t35551837\t3\n",
      "Chr09\t35551838\t3\n",
      "Chr09\t35551839\t3\n",
      "Chr09\t35551840\t3\n",
      "Chr09\t35551841\t3\n",
      "Chr09\t35551842\t3\n",
      "Chr09\t35551843\t3\n",
      "Chr09\t35551844\t3\n",
      "Chr09\t35551845\t3\n",
      "Chr09\t35551846\t3\n",
      "Chr09\t35551847\t3\n",
      "Chr09\t35551848\t3\n",
      "Chr09\t35551849\t3\n",
      "Chr09\t35551850\t3\n",
      "Chr09\t35551851\t3\n",
      "Chr09\t35551852\t3\n",
      "Chr09\t35551853\t3\n",
      "Chr09\t35551854\t3\n",
      "Chr09\t35551855\t3\n",
      "Chr09\t35551856\t3\n",
      "Chr09\t35551857\t3\n",
      "Chr09\t35551858\t3\n",
      "Chr09\t35551859\t3\n",
      "Chr09\t35551860\t3\n",
      "Chr09\t35551861\t3\n",
      "Chr09\t35551862\t3\n",
      "Chr09\t35551863\t2\n",
      "Chr09\t35551864\t3\n",
      "Chr09\t35551865\t3\n",
      "Chr09\t35551866\t3\n",
      "Chr09\t35551867\t3\n",
      "Chr09\t35551868\t3\n",
      "Chr09\t35551869\t3\n",
      "Chr09\t35551870\t3\n",
      "Chr09\t35551871\t3\n",
      "Chr09\t35551872\t2\n",
      "Chr09\t35551873\t2\n",
      "Chr09\t35551874\t2\n",
      "Chr09\t35551875\t2\n",
      "Chr09\t35551876\t1\n",
      "Chr09\t35551877\t1\n",
      "Chr09\t35551878\t1\n",
      "Chr09\t35551879\t1\n",
      "Chr09\t35551880\t1\n",
      "Chr09\t35551881\t1\n",
      "Chr09\t35551882\t1\n",
      "Chr09\t35551883\t1\n",
      "Chr09\t35551884\t1\n",
      "Chr09\t35551885\t1\n",
      "Chr09\t35551886\t1\n",
      "Chr09\t35551887\t1\n",
      "Chr09\t35551888\t1\n",
      "Chr09\t35551889\t1\n",
      "Chr09\t35551890\t1\n",
      "Chr09\t35551891\t1\n",
      "Chr09\t35551892\t1\n",
      "Chr09\t35551893\t1\n",
      "Chr09\t35551894\t1\n",
      "Chr09\t35551895\t4\n",
      "Chr09\t35551896\t4\n",
      "Chr09\t35551897\t4\n",
      "Chr09\t35551898\t4\n",
      "Chr09\t35551899\t4\n",
      "Chr09\t35551900\t5\n"
     ]
    }
   ],
   "source": [
    "grep \"Chr09\" $cov_guppy | awk '{if($2<=35551900) print$0}'| tail -n 160 #this is the location of digestion of crRNA 4 which didnt work that well "
   ]
  },
  {
   "cell_type": "code",
   "execution_count": 93,
   "metadata": {},
   "outputs": [
    {
     "name": "stdout",
     "output_type": "stream",
     "text": [
      "Chr09\t35550682\t135\n",
      "Chr09\t35550683\t131\n",
      "Chr09\t35550684\t134\n",
      "Chr09\t35550685\t126\n",
      "Chr09\t35550686\t127\n",
      "Chr09\t35550687\t114\n",
      "Chr09\t35550688\t114\n",
      "Chr09\t35550689\t111\n",
      "Chr09\t35550690\t102\n",
      "Chr09\t35550691\t92\n",
      "Chr09\t35550692\t88\n",
      "Chr09\t35550693\t58\n",
      "Chr09\t35550694\t37\n",
      "Chr09\t35550695\t3\n",
      "Chr09\t35550696\t2\n",
      "Chr09\t35550697\t2\n",
      "Chr09\t35550698\t2\n",
      "Chr09\t35550699\t2\n",
      "Chr09\t35550700\t3\n",
      "Chr09\t35550701\t3\n",
      "Chr09\t35550702\t3\n",
      "Chr09\t35550703\t3\n",
      "Chr09\t35550704\t3\n",
      "Chr09\t35550705\t3\n",
      "Chr09\t35550706\t3\n",
      "Chr09\t35550707\t3\n",
      "Chr09\t35550708\t3\n",
      "Chr09\t35550709\t3\n",
      "Chr09\t35550710\t3\n",
      "Chr09\t35550711\t3\n"
     ]
    }
   ],
   "source": [
    "grep \"Chr09\" $cov_albacore2 | awk '{if($2<=35550711) print$0}'| tail -n 30  #on crRNA_3"
   ]
  },
  {
   "cell_type": "code",
   "execution_count": 56,
   "metadata": {},
   "outputs": [
    {
     "name": "stdout",
     "output_type": "stream",
     "text": [
      "Chr09\t35550682\t152\n",
      "Chr09\t35550683\t148\n",
      "Chr09\t35550684\t146\n",
      "Chr09\t35550685\t143\n",
      "Chr09\t35550686\t144\n",
      "Chr09\t35550687\t144\n",
      "Chr09\t35550688\t144\n",
      "Chr09\t35550689\t141\n",
      "Chr09\t35550690\t136\n",
      "Chr09\t35550691\t126\n",
      "Chr09\t35550692\t121\n",
      "Chr09\t35550693\t115\n",
      "Chr09\t35550694\t35\n",
      "Chr09\t35550695\t2\n",
      "Chr09\t35550696\t2\n",
      "Chr09\t35550697\t2\n",
      "Chr09\t35550698\t3\n",
      "Chr09\t35550699\t3\n",
      "Chr09\t35550700\t3\n",
      "Chr09\t35550701\t3\n",
      "Chr09\t35550702\t3\n",
      "Chr09\t35550703\t3\n",
      "Chr09\t35550704\t3\n",
      "Chr09\t35550705\t3\n",
      "Chr09\t35550706\t3\n",
      "Chr09\t35550707\t3\n",
      "Chr09\t35550708\t3\n",
      "Chr09\t35550709\t3\n",
      "Chr09\t35550710\t3\n",
      "Chr09\t35550711\t3\n"
     ]
    }
   ],
   "source": [
    "grep \"Chr09\" $cov_guppy | awk '{if($2<=35550711) print$0}'| tail -n 30  #on crRNA_3"
   ]
  },
  {
   "cell_type": "code",
   "execution_count": null,
   "metadata": {},
   "outputs": [],
   "source": [
    "# so for the  case of crRNA3 (at the end of the target both basecallers works very similarly getting high coverage after 18bp of the cleavage\n",
    "# However Guppy get the double the coverage at the end of the target than albacore2"
   ]
  },
  {
   "cell_type": "markdown",
   "metadata": {},
   "source": [
    "## Are off-target randomly distributed or due to similarity to crRNAs? "
   ]
  },
  {
   "cell_type": "code",
   "execution_count": 177,
   "metadata": {},
   "outputs": [],
   "source": [
    "#Fasta file with crRNA sequences"
   ]
  },
  {
   "cell_type": "code",
   "execution_count": 215,
   "metadata": {},
   "outputs": [
    {
     "name": "stdout",
     "output_type": "stream",
     "text": [
      ">crRNA_RF_1_F\n",
      "GTCATATCTAAGGACCCGCGTGG\n",
      ">crRNA_RF_2_F\t\n",
      "TCTGTACTCCGTCTGTCGGTCGG\n",
      ">crRNA_RF_3_R\n",
      "AGAAGACTGTCAATCCCGAGTGG\n",
      ">crRNA_RF_4_F\n",
      "TGTCTGGAAAGTTTCTAACGCGG\n",
      "\n"
     ]
    }
   ],
   "source": [
    "crRNAs_query=$WKDIR/crRNA.fa\n",
    "head $crRNAs_query"
   ]
  },
  {
   "cell_type": "code",
   "execution_count": 216,
   "metadata": {},
   "outputs": [],
   "source": [
    "Apple_genome=/input/genomic/plant/Malus/Genome/GDDH_v1.1/Decompress/GDDH13_1-1_formatted.fasta\n",
    "apple_db=/workspace/hrpelg/Apple_genomes/GDDH13_1-1_formatted_db"
   ]
  },
  {
   "cell_type": "code",
   "execution_count": 180,
   "metadata": {},
   "outputs": [],
   "source": [
    "#get fasta sequence of 'off-tagets'"
   ]
  },
  {
   "cell_type": "code",
   "execution_count": 185,
   "metadata": {},
   "outputs": [],
   "source": [
    "module load samtools/1.9\n",
    "module load bedtools/2.27.1"
   ]
  },
  {
   "cell_type": "code",
   "execution_count": 217,
   "metadata": {},
   "outputs": [],
   "source": [
    "blast_dir=/workspace/hrpelg/programs/ncbi-blast-2.7.1+/bin"
   ]
  },
  {
   "cell_type": "code",
   "execution_count": 183,
   "metadata": {},
   "outputs": [],
   "source": [
    "#bed file coordinates of 'off-targets'"
   ]
  },
  {
   "cell_type": "code",
   "execution_count": 184,
   "metadata": {},
   "outputs": [],
   "source": [
    "off_targets_bed=$WKDIR/off-targets.bed"
   ]
  },
  {
   "cell_type": "code",
   "execution_count": 186,
   "metadata": {},
   "outputs": [],
   "source": [
    "bedtools getfasta -fi $Apple_genome -bed $off_targets_bed \\\n",
    "-fo $WKDIR/off-targets.fasta"
   ]
  },
  {
   "cell_type": "code",
   "execution_count": 232,
   "metadata": {},
   "outputs": [],
   "source": [
    "off_targets_fasta=$WKDIR/off-targets.fasta"
   ]
  },
  {
   "cell_type": "code",
   "execution_count": 188,
   "metadata": {},
   "outputs": [
    {
     "name": "stdout",
     "output_type": "stream",
     "text": [
      ">Chr00:48263504-48264621\n",
      "AAAGGATGGGCCGGGGAGGAAAGGGGGAGGGACGAATCGAAGCGACGCAGGGCTGAATCTCAGTGGATCGTGGCAGCAAGGCCACTCTGCCACTTACAATACCCCGTCGCGTATTTAAGTCGTCTGCAAAGGATTCTACCCGCCGCTCGGTGGGAATTACGATTCAAGGCGGCCACCGCGGCTCGTCCGCCGCGAGGGCCAGGCCATCGACATGAGCCTTTGGGGGCCGGGGCCCCTACTGCAGGTCGGCAATCGGGCGGCGGGCGCAGGCGTCGCTTCTAGCCCGGATTCTGACTTAGAGGCGTTCAGTCATAATCCAGCGCACGGTAGCTTCGCGCCACTGGCTTTTCAACCAAGCGCGATGACCAATTGTGCGAATCAACGGTTCCTCTCGTACTAGGTTGAATTACTATTGCGACACTGTCATCAGTAGGGTAAAACTAACCTGTCTCACGACGGTCTAAACCCAGCTCACGTTCCCTATTGGTGGGTGAACAATCCAACACTTGGTGAATTCTGCTTCACAATGATAGGAAGAGCCGACATCGAAGGATCAAAAAGCAACGTCGCTATGAACGCTTGGCTGCCACAAGCCAGTTATCCCTGTGGTAACTTTTCTGACACCTCTAGCTTCAAATTCCGAAGGTCTAAAGGATCGATAGGCCACGCTTTCACGGTTCGTATTCGTACTGGAAATCAGAATCAAACGAGCTTTTACCCTTTTGTTCCACACGAGATTTCTGTTCTCGTTGAGCTCATCTTAGGACACCTGCGTTATCTTTTAACAGATGTGCCGCCCCAGCCAAACTCCCCACCTGACAATGTCTTCCGCCCGGATCGGCCCGCGAGCGGGCCTTGGTTCCAAAAAGAGGGGCGATGCCCCGCCTCCGATTCACGGAATAAGTAAAATAACGTTAAAAGTAGTGGTATTTCAATTTCGCCGCGAGGCTCCCACTTATACTACACCTCTCAAGTCATTTCACAAAGTCGGACTAGAGTCAAGCTCAACAGGGTCTTCTTTCCCCGCTGATTCTGCCAAGCCCGTTCCCTTGGCTGTGGTTTCGCTGGATAGTAGACAGGGACAGTGGGAATCTCGTTAATCCATTCATGCGCGTCA\n",
      ">Chr14:30289152-30291921\n",
      "GCCCCAATCGAAGCCATACTCGGGAAAGTCATCAAATAAAAATTTCATAATTATTGTAAATTGAGGATTAATCAACTAAGCTATAGATTTGCATATTTCCGTTGAGCTATGGTATAATAAAATTGTCGGAACTTACTCTGAGTTGACCTTACGAGTCAAACCCAAGGACTTGGTCATTGAAGTGTACTTGCTTCCTATCTTTTCTCATCAACTACCAAAAATCAAAGTCAAAGAGAGAACCAATTATCAGCATGTCGCTGGTGTGGCACTAAGCATTCGTTTTGAACAATGGACAACTTGATTTTATTATCTACTACAAATAACTTGCATGTAATTCAATATTCAACGAAACCTTTGTTTTTTTGGAGATATCGGCAGACCAAAGTCATTTTTACATACATAATTAAAGAATAATTAATTAAGTTGGAAAGTATTCCTCAAATTTATCGAGGTCGACTTCAAATGATAAGTTTGTAAGAATCATGTATGTGATTTATATACAACCTTTGGGCAACTGGTGGCGCCAGTCTTTTGTGTGTGTGTGTTCCGAGTACTTTGTAGGGCTAAAACTTAGGTCATTTTATGCCTTTTATTTTTTCTCGTGACATTTCATGTGAGAAGAGATATCATGTGGGGAAGAAATAGTTATGTAATGTGCCACGTGCAAATTGTGAAGAGAAATAGGCATATTGTGCAGAGAAACATGCATAGAATAGGAGTACATGATATTTTACGTGAGAAAGAGATATCACATGGGGAAGAAATAGGCATGTAACATGGCATGCACAAATTGTGAAAAAAAATAAGCATAGAGATTATAGGAGAGAATCTGTCACATAATGTTGCACGTGAAAAAAAAAAGATAGGAGCACAAGGATATTTCATGTGGGAAAGAGATATCACATGAGGAAAAAGTAAGTATTTAACGTGCCATGTGCAAATTGTGAAGAAAAATAGGTATAGAGATTACGTAGGAGAGAATTTTGTCATGTAACGTTGCACAAGAAAAAAAGAGATAGGAGTATGCACAAAAACGTTAAGGGTATTATGTGATGAGAAGATACACAATCTCTCAATTTGTAGGTAACTTGATTTGTATGGATTATTTGTTCGCTTCAAAGGTGGGATTTGCATATGTTGTTTGTGTATAGGTTTTGGTAAAGGATTCTTGAGGGTATATGTGTGTGTGTGTGTGGGTTCCCCCTTGACATCACATTAGAGAGTAGAGATGATCTTTTGACCTCTTCTAAGTGAGAGTAGAGATTATCTTTTGACCTCTTCTAATGAATGGTTATTTGTTGAATTAAATAATGTAGAATTTGAATATTGCACACTGAATTAAAAAACAAAAAAAGAAGGAATGTGTAACATCAGTATTTCCTACTTGCTATCATCTTTAAAAAAGATAATATATTCGGAGAGAGATTGAGAAGCCACCTGTGCACCATTAGTGGATCAAAATGAGGCATAGCTAAGCTATCTAGTGTTAGTGCCTCATTAGTCGATCGCAATTTATTCCAAGTGCAGTACTTGACAATATTGTGTTTGTAATTTGTTGGTTTAGAGTTTAGACCACACATTCATTTGGTAAAAAAGCCAATAAAGCAGACAGGTAAGCTAGTGGTCTAGAGTAGTGGAATATGTGCATCCGAATTTGAATTTCTCTACTCGTAAAAGAGTTTCAAATATTACATTAGAAACGAATAAAATAAAATACAACGGGATACTAATTTAAAGATGACAAGGTCATACATTCGGGAAAAAAAAATTACCTAACCAGCTAATTAATCTTAGTTTGATGAAATAATTTCACGTTATTAGTTATTTGTCTCATAGACTTCTAATAAAAAATCTCTCGATAGTATCGATAACTATACAACTATTGTATTGTCGATATCAATGTTATAAACGACATATACAATCAATAAAGTGTCAATATTGAATAATCGAGTCAGCCAACTGCTTAAGCGTGTTGAGCAAATAATTAACAACTAAAAACCCACGAGCCTTTTTTTATTAAAATTTAAATTCACCCATAAATTTAAGTGGTTGCAAAATCCACTTGTGCTCAATATGTACACAAGACTCCGCCCCTAAACACACGGGGGGGAGGAAGTTCGACTACCTACTTCCGACGCCAACGACGTCGTACGTTGACTGTGGCCCTAAAAACCCATACATGCGCCCACCAATAAGAATTCACATGCGTGACACGTCACGACACAACAGTTGCAAACCACGAAAACAAAACCAAAATTATACAAAAAAAAAAATATTAAAAAAACAGACAAATTAACGCCGGAAAGCATTTCGCTTTCTCCGACGAAACACTTGAAATTCATCAGCGCCGTCAGTTTCGGTTGACCCTTTCGAGGTACCCCGGCATCGGAGTTGCACGTGGGGACCGGAGGGGAGCTCCGTTAAGTTTCTTCCCGTTACTATCGTAGTAAATGGCGCCCGAGAAATCCAACGGCTCGCACTTATCCCCCATCAGGATCGACCTCTGCCATACCCCACCGTCCCCCCACTCCTCCTCCTCCGCGGCGTGGGCCTTACCATCCGATTCCTCGCCGATCTTTTTCAGGTGCAGGAAGGTGATGGCCTTGTTGCTTATGGTCGACATCAGCTGCTTCGGCTTTCTCATCATCGGCGACTTATTCGGCAAGACATCCGAGTGGTTGTTGTTTTTTATCAGCTTGGAGTTGGTGGCTTTCAGCTTCCCCGAGAGGCGGCGGCCGATGGCAAGGAGTGCCGAGATGGAGACCAGCA\n",
      ">Chr15:47766093-47766888\n",
      "ACCACACGAAATATGTTCACATGACTTGGGACGCCAATATAAGACGGTCCACTTTTGCCATTCATTAATCGTCCAACAACCCACGAACTGTAACAATGGGGAGGATTATACTGACAATGTGCCATTGGTGTCGACATGCCATTCACAATGTGCATCGGTAGCCATAGCATTGCATGTTGTCGGCATGAAGCGAGGTTCGGGCACCTTTCGACATGTCATAGCAAAATCACATGGACATTTTGACATGTCATTGCAAATCCCATGGGTTGTACTAGCCTTGCTTGCTGTCGACACAAAGCGACGCTATACGTCAAAATGCACGGCAAAGCTAAAGTGCCGACATAGCTTGGGAAAAAAAACTTGGCAGACTTAACGTCCCGACATGAATTTGGCACAATTGTCGGACATGCCAATGTGTTGGGAATTTTTGCCCAATTGTTGACCAATAGCCTCGCCTCACGAAACATGGGTAAAATGAAAAGGAAGGGCCGGGGAGGAAAGGGGGAGGGACGAATCGAAGCGACGCAGGGCTGAATCTCAGTGGATCGTGGCAGCAAGGCCACTCTGCCACTTACAATACCCCGTCGCGTATTTAAGTCGTCTGCAAAGGATTCTACCCGCCGCTCGGTGGGAATTACGATTCAAGGCGGCCACCGCGGCTCGTCCGCCGCGAGGGCCAGGCCATCGACATGAGCCTTTGGGGGCCGGGGCCCCTACTGCAGGTCGCAATCGGCGCGGCGCAGGCCGTCGCTTCTAGCCCGGATCTGACGTTAGAGCGTTCAGTCATAATCCAGC\n",
      ">Chr16:38910980-38919476\n",
      "ATAAATGCCGCAAAATGTCGACCATGGCATGCCAATGACATGCCAAGCCTCGCAAAATGTCGACATTGGCATGTCAAATGTTGACTATGGCATGCCAACGACATGCCAAGCCTCGCAAAATGTCGACCATGGCATGCCAATGACATGCCAAGCCACGCAAAATGTCGACATTGGCATGTCAAATGTCGACCACGGCATGCCAATGACATGCCAAGCCTCACAAAATGTCGACGTTGGCATGTCAAATGTCGACCATGGCATGCCAACGACATGCCAAGCCTCGCAAAATGTCGACCATGGCATGCCAATGACATGCCAAGCCTCGCAAAATGTCGACATTGGCATGTCAAATGTCGACCATGGCATGCCAATGACATGCCAAGCCTCGCAAAATGTCGACCATGGCATGTCCATGGCATGCCAATGACATGTCAAGACTCGCAAAATGTCGACCATGGCATGTCCATGGCATGCCAATGACATGTCAAGACTCGGAAAATGTAGACCATGGCATGCCAATGACATGCCAAGCCTCGCAAAATGTCGACCATGGCATGTCCATGGCATGCCAATGACATGTCAAGACTCGCAAAATGTCGACCATGGCATGCCAATGACATGTCAAGACTCGCAAAATGTCGACCGTGGCATGCCAATGACATGCCAAGACTCGCAAAATGTCGACCATGACATGTCCATGGCATGCCAATGACATGTCAAGACTCGGAAAATGTGGACCATGGCATGCCAAGCCTCGCAAAATGTCGACATTGGCATGTCAAATGTCGACCATGGCATGCCAATGACATGCCAAGCCTCGCAAAATGTCGACCATGGCATGCCAATGACATGTCAAGACTCGCAAAATGTCGACCGTGGCATGCCAATGACATGCCAAGCCTCGCAAAATGTCGACCATGGCATGTCCATGACATGCCAATGACATGTCCATGTCAAGACTCGCAAAATGTCGACCGTGGCATGCCAATGACATGCCAAGCCTCGCAAAATGTCGACCATGACATGTCCATGGCACGCCAATGACATGTCAAGACTCGGAAAATGTCGACCATGGCATGCCAATGACATGCCAAGCCTCGCAAAATGTCGACCATGGCATGTCCATGACATGCCAATGACATGTCAAGACTCGCAAAATGTCGACCGTGGCATGCCAATGACATGCCAAGCCTCGCAAAATGTCGACCATGACATGTCCATGGCATGCCAATGACATGTCAAGACTCGGAAAATGTGGACCATGGCATGCCAATGACATGCCAAGCCTCGCAAAATGTCGACATTGGCATGTCAAATGTCGACCATGGCATGCCAATGACATGCCAAGCCTCGCAAAATGTCGACATTGGCATGTCAAATGTCGACCATGGCATGCCAATGACATGCCAAGCCTCGCAAAATGTCGACCATGGCATGTCCATGACATGCCAATGACATGTCAAGACTCGCAAAATGTCGACCGTGGCATGCCAATGACATGCCAAGCCTCGCAAAATGTCGACCATGACATGTCCATGGCACGCCAATGACATGTCAAGACTCGGAAAATGTCGACCATGGCATGCCAATGACATGCCAAGCCTCGGAAAATGTCGACCATGGCATGTCCATGACATGCCAATGACATGTCAAGACTCGCAAAATGTCGACCGTGGCATGCCAATGACATGCCAAGCCTCGCAAAATGTCGACCATGACATGTCCATGGCACGCCAATGACATGTCAAGACTCGGAAAATGTCGACCATGGCATGCCAATGACATGCCAAGCCTCGCAAAATGTCGACATTGGCATGTCAAATGCCGACCATGGCATGCCAATGACATGCCAAGCCTCGCATCTTGGCACTCAAAAAACTCGCTGCTAGCCTCGCCACTAGCCTCGCTTCCTGTCGACAGCAAGCGAGGCTAGCGCCCACTCTGACAATGCCAAATTGCACAGCAGGCATGTCGAAACGCGTCGAAAATCTTCAAACAATGTCAAGTCCCATTTTTATTGATAATTTCCCCGCACAATCCGCACCATATAGTTAGTATATGATTTTTAGAAGGTCCTTAAACTTACGGATTTGAAAAATCTCGCACCGATTTTTTTTTACGATTTTTCCAATTTCCCGACTTCAAAAAATAAAATAAAATACTTGCCATGCTCAAAAAAGTCTGAATTTTTTTCTGAAAATCCCTTGCATCTATATGTACATCCCTGCAAAAAATCTCGTTCAAATTCCAAGCCATGAATTTTTCATGGCCCAATATGACTCCTCGCGAAAACTGATGTCTCCTCCTGGCAGTGCCATAACAGCATAATATGCTATATAGGGGGGTGGTGCTCCCTGCATGTCAAAAATCCCAAGCATGGCATGCAGGCTGCACCATCGGTCTAGGGATGACATTCCCGCACATCATCACGTGTTGCCTCGGTATATATGATGTGTCGGGTTTGGGACATTCCCGCCCATGGTGGCGGCGACGGTGGCGGTCCCCCTCCGCCGCCGCCGCCACCATGGGTGCGTTTTTAAAATTTTTTTTTTTTTTTTTTTAAATTTTTTCAAATGTTTTTGAAATGTTTTCAAACAAAACAAAAATGTTTTCGTTTTCAAAATTAAAAGGGGGACAAAATGGTTTTAAGCGGGGTGGAAAAAACGTTTTGAAAAATAGCGGGTTGGGAAAAATGTTTTCTCTTTAAACTTTTGGGTTGGGTTTGTTTTCTTTTGCTTGGGAGCGGGTGTTTTTTTCGACATGCATGTTTTCAACCCTCGGTTGCCCTCGGATTGTTGGATATTAGGGAGGGTTCGGCTTTGGATGAACCAATGCGCAGGCTTCTCCTAGGCGTGTTAGTGGGCGCACGGCAATGCAGTCCATGGACGTTTGTTTTCCGAAGGGCTCGCCCAGTTCACTAGCATGTCGAAGATTTGTCTTCGCGGCGGCGATGAAGAAGTTTGTCCCTCTCTTTCGGTTGTCCCTGTTGCGGAGCTTTGTAATCAGCAATGCTCGGGCTTGTTCTTGGCAATGCTAGTGTCGGTTCGGCTTAGTGTGGTCCGAAAGGGCCCTCGCAGTGCACTAGCATGTTTGAGTGCGAGTTCGTGCGGCGGTGGTGAAGAAGCTTGTCCCTCGTTCGACGGTCAAGAGGGGTTCGAAAACAAAGTTCGTGCTTGTTCTAGGCGTGCATAGATAAGGGGTTGGTGCTATGTGTTAGGTCCTTCCCAACCCACGTTGCATGTCGAAAGCGAGTTCGTGCGGCGTCGACGAAGCTTCTCGGTAGCCGTTGAACTATTCGGTCGTACCTGTTGCCTTTGTATGTGTTTTCATGCCTAGCGGTGCGGCTCGGCTCCTACCCGGCGTATCTGCACTCGAGACGCATCCCTTTGTTGGGATAGTCGAGACGTGTATTTCGTTGGGCGGTGCTGGGTTTAGCTAACGTGACGGCGTATGAGTGGTAATTGGGTTGTATTCGACGGCAGGCTCCGTGCTTCGGCATCGAACTGTCGTCTCGTACCCCGCTTCATTGACGCGTCAAGATTCGTCCTGCGCGCAAGATGGGTTTCTGTTCTGGCTACCTATTGCGAAGGAATGCTGCCTCTCGTCGTCCCTTTCCTCCTCTTGCTGGCCTTGCCGGCGGGAGGACGACATCGTGGCGGTGCTCGTGTCCCGGACGAGCCGCACTCGTTGCGGTGCAGTTTCGGTGCTCGAGTTTCCGGTCGACATCTCGGATGCGGAACGCTGAAGGGGCGGTGGGTCTTTACGGCCTCCGATCGTCCGATCGAAGCCTTGTCGCTTGATGCGTACGACTGTCGTGCCCGTCGCGAGCCGTCGACCGTCAAGGTCGTCGGTCTCGTGCGGCGCCGGCGTCGAAGAGGAATGCTACCTGGTTGATCCTGCCAGTAGTCATATGCTTGTCTCAAAGATTAAGCCATGCATGTGTAAGTATGAACAAATTCAGACTGTGAAACTGCGAATGGCTCATTAAATCAGTTATAGTTTGTTTGATGGTACCTGCTACTCGGATAACCGTAGTAATTCTAGAGCTAATACGTGCAACAAACCCCGACTTCTGGAAGGGACGCATTTATTAGATAAAAGGTCGACGCGGGCTCTGCCCGTTGCTCTGATGATTCATGATAACTCGACGGATCGCACAGCCATCGTGCTGGCGACGCATCATTCAAATATCTGCCCTATCAACTTTCGATGGTAGGATAGTGGCCTACCATGGTGGTGACGGGTGACGGAGAATTAGGGTTCGATTCCGGAGAGGGAGCCTGAGAAACGGCTACCACATCCAAGGAAGGCAGCAGGCGCGCAAATTACCCAATCCTGACACGGGGAGGTAGTGACAATAAATAACAATACCGGGCTCTATGAGTCTGGTAATTGGAATGAGTACAATCTAAATCCCTTAACGAGGATCCATTGGAGGGCAAGTCTGGTGCCAGCAGCCGCGGTAATTCCAGCTCCAATAGCGTATATTTAAGTTGTTGCAGTTAAAAAGCTCGTAGTTGGACCTTGGGTTGGGTCGACCGGTCCGCCTCTGGTGTGCACCGGTCGGCTCGTCCCTTCTGCCGGCGATACGCTCCTGGCCTTAATTGGCCGGGTCGTGCCTCCGGTGCTGTTACTTTGAAGAAATTAGAGTGCTCAAAGCAAGCCTACGCTCTGAATACATTAGCATGGGATAACATCATAGGATTTCGGTCCTATTCTGTTGGCCTTCGGGATCGGAGTAATGATTAACAGGGACAGTCGGGGGCATTCGTATTTCATAGTCAGAGGTGAAATTCTTGGATTTATGAAAGACGAACAACTGCGAAAGCATTTGCCAAGGATGTTTTCATTAATCAAGAACGAAAGTTGGGGGCTCGAAGACGATCAGATACCGTCCTAGTCTCAACCATAAACGATGCCGACCAGGGATCGGCGGATGTTACTTTTAGGACTCCGCCGGCACCTTATGAGAAATCAAAGTTTTTGGGTTCCGGGGGGAGTATGGTCGCAAGGCTGAAACTTAAAGGAATTGACGGAAGGGCACCACCAGGAGTGGAGCCTGCGGCTTAATTTGACTCAACACGGGGAAACTTACCAGGTCCAGACATAGTAAGGATTGACAGACTGAGAGCTCTTTCTTGATTCTATGGGTGGTGGTGCATGGCCGTTCTTAGTTGGTGGAGCGATTTGTCTGGTTAATTCCGTTAACGAACGAGACCTCAGCCTGCTAACTAGCTATGCGGAGGTCATCCTCCGCGGCCAGCTTCTTAGAGGGACTATGGCCGCTTAGGCCAAGGAAGTTTGAGGCAATAACAGGTCTGTGATGCCCTTAGATGTTCTGGGCCGCACGCGCGCTACACTGATGTATTCAACGAGTCTATAGCCTTGGCCGACAGGCCCGTCGCTCCTACCGATTGAATGGTCCGGTGAAGTGTTCGGATCGCGGCGACGTGGGTGGTTCGCTGCCCGCGACGTCGCGAGAAGTCCACTGAACCTTATCATTTAGAGGAAGGAGAAGTCGTAACAAGGTTTCCGTAGGTGAACCTGCGGAAGGATCATTGTCGAACCTGCAAGGCAGAACGACCCGAGAACCCGTTTCAACGTCGGGGGTCGGCGGGCCTCCGGGCCCGGCGTCCCCTTCGTCCCGGGAGCCCGCTCCCGGGCGTACAAACTTACACCGGCGCGTGTTGCGCCAAGGAATATGAACGAAAGAGCGCGCTCCCGCCGCCCCGGAAACGGTGCGCGCGCGGGTGCGTCGTCGTCTTCGATAAAAGTCAAAACGACTCTCGGCAACGGATATCTCGGCTCTCGCATCGATGAAGAACGTAGCGAAATGCGATACTTGGTGTGAATTGCAGAATCCCGTGAACCATCGAGTCTTTGAACGCAAGTTGCGCCCGAAGCCATCAGGCCGAGGGCACGCCTGCCTGGGCGTCACACGCCGTTGCCCCCCCCGCGCATCCCTCGGGAGCGTCGGGAGGGGGCGGACGATGGCCTCCCGTGCGTCACCCCGCGCGGTTGGCACAAATGCCGGGTCCTCGGCGACGAACGCCACGACAATCGGTGGTCGTCGAACCTCGGTTGCCAGTTGTGCGCTTTCGTCGCGCTCCGAGCGGCCCGCGACGCTCGCTGCTCTCGCTTCGGCGGAGCTTTCAACGCGACCCCAGGTCAGGCGGGGTTACCCGCTGAATTTAAGCATATCAATAAGCGGAGGAAAAGAAACTTACGAGGATTCCCCTAGTAACGGCGAGCGAACCGGGAACAGCCCAGCTTGAGAATCGGGCGCCGTCGGCGTTCGAATTGTAGTCTGGAGAAGCGTCCTCAGCGGCGGACCGGGCCCAAGTCCACTGGAAGGTGGCGCCGGAGAGGGTGAGAGCCCCGTTGTGCCCGGACCCTGTCGCACCACGAGGCGCTGTCGGCGAGTCGGGTTGTTTGGGAATGCAGCCCCAATCGGGCGGTAAATTCTGTCCAAGGCTAAATACGGGCGAGAGACCGATAGCAAACAAGTACCGCGAGGGAAAGATGAAAAGGACTTTGAAAAGAGAGTCAAAGAGTGCTTGAAATTGTCGGGAGGGAAGCGGATGGGGGCTGGCGATGCGCCCCGGTCGGATGTGGAACGGTCACAGGCCGGTCCGCCGATCGGCTCGGGGCGTGGACCGACGCGGATTGCGGCGGCGGCCAAAGCCCGGGCTGTCGATACGCCCGAGGAGACGCCGTCGACGCGATCGTGGCGGGCAGCGCGCGCCGTACCGGCGTGCTTCGGCAACTGCGCGCTCCCGGCGTCGGCCTGCGAGCTCCCCATTCGGCCCGTCTTGAAACACGGACCAAGGAGTCTGACATGTGTGCGAGTCAACGGGCGATCAAACCCGTAAGGCGCAAGGAAGCTGACTGGCGGGATCCCCCTGGGGGTTGCACCGCCGACCGACCTTGATCTTCTGAGAAGGGTTCGAGTGCGAGCATGCCTGTCGGGACCCGAAAGATGGTGAACTATGCCTGAGCGGGGCGAAGCCAGAGGAAACTCTGGTGGAGGCCCGCAGCGATACTGACGTGCAAATCGTTCGTCTGACTTGGGTATAGGGGCGAAAGACTAATCGAACCGTCTAGTAGCTGGTTCCCTCCGAAGTTTCCCTCAGGATAGCTGGAGCTCGTGAACGAGTTCTATCGGGTAAAGCCAATGATTAGAGGCATCGGGGGCGCAACGCCCTCGACCTATTCTCAAACTTTAAATAGGTAGGACGGCGCGGCTGCTTCGTTGAGCCGCGCCACGGAATCGAGAGCTCCAAGTGGGCCATTTTTGGTAAGCAGAACTGGCGATGCGGGATGAACCGGAAGCCGGGTTACGGTGCCCAACTGCGCGCTAACCTAGAACCCACAAAGGGTGTTGGTCGATTAAGACAGCAGGACGGTGGTCATGGAAGTCGAAATCCGCTAAGGAGTGTGTAACAACTCACCTGCCGAATCAACTAGCCCCGAAAATGGATGGCGCTGAAGCGCGCGACCTACACCCGGCCGTCGGGGCAAGCGCCAGGCCCCGATGAGTAGGAGGGCGCGGCGGTCGCCGCAAAACCTGGGGCGCGAGCCCGGGCGGAGCGGCCGTCGGTGCAGATCTTGGTGGTAGTAGCAAATATTCAAATGAGAACTTTGAAGGCCGAAGAGGGGAAAGGTTCCATGTGAACGGCACTTGCACATGGGTTAGTCGATCCTAAGAGACGGGGGAAGCCCGTCCGACAGCGCGTCTCGCGCGAACTTCGAAAGGGAATCGGGTTAAAATTCCTGAACCGGGACGCGGCGGTTGACGGCAACGTTAGGGAGTCCGGAGACGTCGGCGGGGGCCTCGGGAAGAGTTATCTTTTCTGTTTAACAGCCTGCCCACCCTGGAAACGGCTCAGCCGGAGGTAGGGTCCAGCGGCTGGAAGAGCACCGCACGTCGCGCGGTGTCCGGTGCGCCCCCGGCGGCCCTTGAAAATCCGGAGGACCGAGTACCGTTCGCGCCCGGTCGTACTCATAACCGCATCAGGTCTCCAAGGTGAACAGCCTCTGGTCGATGGAACAATGTAGGCAAGGGAAGTCGGCAAAATGGATCCGTAACTTCGGGAAAAGGATTGGCTCTGAGGAACGGGCACGGGGGTCCCGGCCCGGAACCCGTCGGCTGTCGGCGAACTGCTCGAGCTGCTCCCGCGGCGAGAGCGGGCCGCCGCGTGCCGGCCGGGGGAAGGACCGGGAACGGTCCCCTCGGGGGCCTTCCCCGGGCAGCGAACGTTCAGCTCAGAACTGGTACGGACAAGGGGAATCCGACTGTTTAATTAAAACAAAGCATTGCGATGGTCCCTGCGGATGCTAACGCAATGTGATTTCTGCCCAGTGCTCTGAATGTCAAAGTGAAGAAATTCAACCAAGCGCGGGTAAACGGCGGGAGTAACTATGACTCTCTTAAGGTAGCCAAATGCCTCGTCATCTAATTAGTGACGCGCATGAATGGATTAACGAGATTCCCAC\n"
     ]
    }
   ],
   "source": [
    "head $WKDIR/off-targets.fasta"
   ]
  },
  {
   "cell_type": "code",
   "execution_count": 222,
   "metadata": {},
   "outputs": [],
   "source": [
    "blast_dir=/workspace/hrpelg/programs/ncbi-blast-2.7.1+/bin"
   ]
  },
  {
   "cell_type": "code",
   "execution_count": 229,
   "metadata": {},
   "outputs": [],
   "source": [
    "$blast_dir/blastn -query $crRNAs_query -db $apple_db  \\\n",
    "-outfmt \"6 qseqid sseqid pident qcovs length mismatch gapopen qstart qend sstart send qframe sframe evalue bitscore qseq sseq\" \\\n",
    "-task blastn-short  \\\n",
    "-out $WKDIR/crRNAs_vs_GDv.1.txt"
   ]
  },
  {
   "cell_type": "markdown",
   "metadata": {},
   "source": [
    "### Columns of -outfmt 6 results explained http://www.metagenomics.wiki/tools/blast/blastn-output-format-6\n",
    "\n",
    "supported format specifiers are:\n",
    "\n",
    "* qseqid    Query Seq-id\n",
    "* qgi       Query GI\n",
    "* qacc      Query accesion\n",
    "* qaccver   Query accesion.version\n",
    "* qlen      Query sequence length\n",
    "* sseqid    Subject Seq-id\n",
    "* sallseqid All subject Seq-id(s), separated by a ';'\n",
    "* sgi       Subject GI\n",
    "* sallgi    All subject GIs\n",
    "* sacc      Subject accession\n",
    "* saccver   Subject accession.version\n",
    "* sallacc   All subject accessions\n",
    "* slen      Subject sequence length\n",
    "* qstart    Start of alignment in query\n",
    "* qend      End of alignment in query\n",
    "* sstart    Start of alignment in subject\n",
    "* send      End of alignment in subject\n",
    "* qseq      Aligned part of query sequence\n",
    "* sseq      Aligned part of subject sequence\n",
    "* evalue    Expect value\n",
    "* bitscore  Bit score\n",
    "* score     Raw score\n",
    "* length    Alignment length\n",
    "* pident    Percentage of identical matches\n",
    "* nident    Number of identical matches\n",
    "* mismatch  Number of mismatches\n",
    "* positive  Number of positive-scoring matches\n",
    "* gapopen   Number of gap openings\n",
    "* gaps      Total number of gaps\n",
    "* ppos      Percentage of positive-scoring matches\n",
    "* frames    Query and subject frames separated by a '/'\n",
    "* qframe    Query frame\n",
    "* sframe    Subject frame\n",
    "* btop      Blast traceback operations (BTOP)\n",
    "* staxids   Subject Taxonomy ID(s), separated by a ';'\n",
    "* sscinames Subject Scientific Name(s), separated by a ';'\n",
    "* scomnames Subject Common Name(s), separated by a ';'\n",
    "* sblastnames Subject Blast Name(s), separated by a ';'   (in alphabetical order)\n",
    "* sskingdoms  Subject Super Kingdom(s), separated by a ';'     (in alphabetical order)\n",
    "* stitle      Subject Title\n",
    "* salltitles  All Subject Title(s), separated by a '<>'\n",
    "* sstrand   Subject Strand\n",
    "* qcovs     Query Coverage Per Subject\n",
    "* qcovhsp   Query Coverage Per HSP\n"
   ]
  },
  {
   "cell_type": "code",
   "execution_count": 230,
   "metadata": {},
   "outputs": [
    {
     "name": "stdout",
     "output_type": "stream",
     "text": [
      "crRNA_RF_1_F Chr09 100.000 100 23 0 0 1 23 35542701 35542723 1 1 6.65e-05 46.1 GTCATATCTAAGGACCCGCGTGG GTCATATCTAAGGACCCGCGTGG \n",
      "crRNA_RF_2_F Chr09 100.000 100 23 0 0 1 23 35542848 35542870 1 1 6.65e-05 46.1 TCTGTACTCCGTCTGTCGGTCGG TCTGTACTCCGTCTGTCGGTCGG \n",
      "crRNA_RF_3_R Chr09 100.000 100 23 0 0 1 23 35550711 35550689 1 -1 6.65e-05 46.1 AGAAGACTGTCAATCCCGAGTGG AGAAGACTGTCAATCCCGAGTGG \n",
      "crRNA_RF_3_R Chr14 94.737 83 19 1 0 1 19 5006898 5006880 1 -1 3.9 30.2 AGAAGACTGTCAATCCCGA AGAACACTGTCAATCCCGA \n",
      "crRNA_RF_4_F Chr09 100.000 100 23 0 0 1 23 35551878 35551900 1 1 6.65e-05 46.1 TGTCTGGAAAGTTTCTAACGCGG TGTCTGGAAAGTTTCTAACGCGG \n",
      "crRNA_RF_4_F Chr06 100.000 65 15 0 0 3 17 23658580 23658566 1 -1 3.9 30.2 TCTGGAAAGTTTCTA TCTGGAAAGTTTCTA \n",
      "crRNA_RF_4_F Chr17 100.000 70 15 0 0 2 16 9145377 9145363 1 -1 3.9 30.2 GTCTGGAAAGTTTCT GTCTGGAAAGTTTCT \n",
      "crRNA_RF_4_F Chr17 100.000 70 15 0 0 3 17 16542983 16542969 1 -1 3.9 30.2 TCTGGAAAGTTTCTA TCTGGAAAGTTTCTA \n"
     ]
    }
   ],
   "source": [
    "awk '{print$1,$2,$3,$4,$5,$6,$7,$8,$9,$10,$11,$12,$13,$14,$15,$16,$17,$18}' $WKDIR/crRNAs_vs_GDv.1.txt"
   ]
  },
  {
   "cell_type": "code",
   "execution_count": 231,
   "metadata": {},
   "outputs": [],
   "source": [
    " module load mafft/7.307"
   ]
  },
  {
   "cell_type": "code",
   "execution_count": 236,
   "metadata": {},
   "outputs": [
    {
     "name": "stdout",
     "output_type": "stream",
     "text": [
      "\n",
      "generating a scoring matrix for nucleotide (dist=200) ... done\n",
      "All-to-all alignment.\n",
      "tbfast-pair (nuc) Version 7.307 alg=L, model=DNA200 (2), 2.00 (6.00), -0.10 (-0.30), noshift, amax=0.0\n",
      "0 thread(s)\n",
      "\n",
      "Loading 'hat3.seed' ... \n",
      "done.\n",
      "Writing hat3 for iterative refinement\n",
      "generating a scoring matrix for nucleotide (dist=200) ... done\n",
      "Gap Penalty = -1.53, +0.00, +0.00\n",
      "treein = 0\n",
      "compacttree = 0\n",
      "Constructing a UPGMA tree ... \n",
      "    0 / 4\n",
      "done.\n",
      "\n",
      "Progressive alignment ... \n",
      "STEP     3 /3 c\n",
      "done.\n",
      "tbfast (nuc) Version 7.307 alg=A, model=DNA200 (2), 1.53 (4.59), -0.00 (-0.00), noshift, amax=0.0\n",
      "0 thread(s)\n",
      "\n",
      "minimumweight = 0.000010\n",
      "autosubalignment = 0.000000\n",
      "nthread = 0\n",
      "randomseed = 0\n",
      "blosum 62 / kimura 200\n",
      "poffset = 0\n",
      "niter = 16\n",
      "sueff_global = 0.100000\n",
      "Loading 'hat3' ... done.\n",
      "generating a scoring matrix for nucleotide (dist=200) ... done\n",
      "\n",
      "    0 / 4\n",
      "Segment   1/  1    1-8733\n",
      "STEP 006-002-1  rejected..   \n",
      "Converged.\n",
      "\n",
      "done\n",
      "dvtditr (nuc) Version 7.307 alg=A, model=DNA200 (2), 1.53 (4.59), -0.00 (-0.00), noshift, amax=0.0\n",
      "0 thread(s)\n",
      "\n",
      "\n",
      "Strategy:\n",
      " L-INS-i (Probably most accurate, very slow)\n",
      " Iterative refinement method (<16) with LOCAL pairwise alignment information\n",
      "\n",
      "If unsure which option to use, try 'mafft --auto input > output'.\n",
      "For more information, see 'mafft --help', 'mafft --man' and the mafft page.\n",
      "\n",
      "The default gap scoring scheme has been changed in version 7.110 (2013 Oct).\n",
      "It tends to insert more gaps into gap-rich regions than previous versions.\n",
      "To disable this change, add the --leavegappyregion option.\n",
      "\n"
     ]
    }
   ],
   "source": [
    "cd $WKDIR\n",
    "mafft  --localpair --maxiterate 100 $off_targets_fasta > $WKDIR/mafft_off_target_output.txt"
   ]
  },
  {
   "cell_type": "code",
   "execution_count": 238,
   "metadata": {},
   "outputs": [
    {
     "name": "stdout",
     "output_type": "stream",
     "text": [
      "ggctggaagagcaccgcacgtcgcgcggtgtccggtgcgcccccggcggcccttgaaaat\n",
      "ccggaggaccgagtaccgttcgcgcccggtcgtactcataaccgcatcaggtctccaagg\n",
      "tgaacagcctctggtcgatggaacaatgtaggcaagggaagtcggcaaaatggatccgta\n",
      "acttcgggaaaaggattggctctgaggaacgggcacgggggtcccggcccggaacccgtc\n",
      "ggctgtcggcgaactgctcgagctgctcccgcggcgagagcgggccgccgcgtgccggcc\n",
      "gggggaaggaccgggaacggtcccctcgggggccttccccgggcagcgaacgttcagctc\n",
      "agaactggtacggacaaggggaatccgactgtttaattaaaacaaagcattgcgatggtc\n",
      "cctgcggatgctaacgcaatgtgatttctgcccagtgctctgaatgtcaaagtgaagaaa\n",
      "ttcaaccaagcgcgggtaaacggcgggagtaactatgactctcttaaggtagccaaatgc\n",
      "ctcgtcatctaattagtgacgcgcatgaatggattaacgagattcccac\n"
     ]
    }
   ],
   "source": [
    "tail $WKDIR/mafft_off_target_output.txt"
   ]
  },
  {
   "cell_type": "markdown",
   "metadata": {},
   "source": [
    " Removed form paper but kept here just in case \n",
    " \n",
    " The multiple sequencing alignment between these four ‘off-target’ regions showed a shared region of 320 bp between the two ‘off-target’ regions found on chromosomes 0 and 15 \n",
    " \n",
    "Not sure if this is relevant. What is exactly in Chr00? Reads that couldn’t be assembled, can be also multi-mapping reads??\n",
    "\n",
    "Both regions are in genes which their annotation is:\n",
    "\n",
    "Chr15 (795bp)\n",
    "ID=gene:MD15G1386400;Name=MD15G1386400;rfam_acc=RF02543;rfam_id=LSU_rRNA_eukarya;Note=LSU_rRNA_eu\n",
    "\n",
    "Chr00 (1117bp)\n",
    "ID=gene:MD00G1202200;Name=MD00G1202200;rfam_acc=RF02543;rfam_id=LSU_rRNA_eukarya;Note=LSU_rRNA_eukarya\n",
    "\n",
    "18 S Ribosomal RNA genes\n",
    "\n",
    "Shared region is 320bp\n",
    "\n",
    "If we include this, I need to add in method part the Geneious MSA alignment min identity 70% and maybe add a supplemental fig of the visual alignment\n",
    "\n",
    "I also did alignment using mafft in Linux but I would need to install or see how I visualize the output generated, so I decided go to Geneious instead.\n"
   ]
  },
  {
   "cell_type": "code",
   "execution_count": null,
   "metadata": {},
   "outputs": [],
   "source": []
  }
 ],
 "metadata": {
  "kernelspec": {
   "display_name": "Bash",
   "language": "bash",
   "name": "bash"
  },
  "language_info": {
   "codemirror_mode": "shell",
   "file_extension": ".sh",
   "mimetype": "text/x-sh",
   "name": "bash"
  }
 },
 "nbformat": 4,
 "nbformat_minor": 4
}
