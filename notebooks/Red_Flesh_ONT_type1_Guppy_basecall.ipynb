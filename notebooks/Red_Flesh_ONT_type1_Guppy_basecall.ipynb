{
 "cells": [
  {
   "cell_type": "markdown",
   "metadata": {},
   "source": [
    "## Test guppy basecalling on REDFlesh_ON_Cas9_enrichment_data\n",
    "\n",
    "RedFlesh apple Type1 raw fast5 ONT data \n",
    "\n",
    "Was initially basecalled using albacore2 using this notebook https://jupyterhub.powerplant.pfr.co.nz/user/hrpelg/notebooks/hrpelg/Red_Flesh_ON/RedFlesh_ON_Cas9_enrichment_ON_run_1_Base_calling_QC.ipynb#\n",
    "\n",
    "🍂🍂🍂🍂🍂🍂🍂🍂🍂🍂🍂🍂🍂🍂🍂🍂🍂🍂🍂🍂🍂🍂🍂🍂🍂🍂🍂🍂🍂🍂🍂🍂🍂🍂🍂🍂🍂🍂🍂🍂🍂🍂🍂🍂🍂🍂🍂🍂🍂🍂\n",
    "\n",
    "\n",
    "**Author: Elena Lopez-Girona **"
   ]
  },
  {
   "cell_type": "code",
   "execution_count": 15,
   "metadata": {
    "collapsed": true,
    "jupyter": {
     "outputs_hidden": true
    }
   },
   "outputs": [],
   "source": [
    "module load guppy/3.2.4"
   ]
  },
  {
   "cell_type": "code",
   "execution_count": 95,
   "metadata": {
    "collapsed": true,
    "jupyter": {
     "outputs_hidden": true
    }
   },
   "outputs": [],
   "source": [
    "module purge"
   ]
  },
  {
   "cell_type": "code",
   "execution_count": 2,
   "metadata": {},
   "outputs": [],
   "source": [
    "INDIR1=/input/genomic/plant/Malus/OxfordNanopore/Red_flesh\n",
    "WKDIR=/workspace/$USER/github/analysis-workflows/Malus/Red_Flesh_ON\n",
    "\n",
    "# reference apple genome\n",
    "INFASTA=/input/genomic/plant/Malus/Genome/GDDH_v1.1/Decompress/GDDH13_1-1_formatted.fasta "
   ]
  },
  {
   "cell_type": "code",
   "execution_count": 13,
   "metadata": {
    "collapsed": true,
    "jupyter": {
     "outputs_hidden": true
    }
   },
   "outputs": [],
   "source": [
    "mkdir $WKDIR/Guppy_basecalling/log"
   ]
  },
  {
   "cell_type": "code",
   "execution_count": 21,
   "metadata": {
    "collapsed": true,
    "jupyter": {
     "outputs_hidden": true
    }
   },
   "outputs": [],
   "source": [
    "mkdir $WKDIR/Guppy_basecalling/00.Fastq"
   ]
  },
  {
   "cell_type": "code",
   "execution_count": 14,
   "metadata": {},
   "outputs": [
    {
     "name": "stdout",
     "output_type": "stream",
     "text": [
      "FAK77153_381a627fa445f6ab43dcbb0542d4cc06427d04b3_0.fast5\n",
      "FAK77153_381a627fa445f6ab43dcbb0542d4cc06427d04b3_1.fast5\n"
     ]
    }
   ],
   "source": [
    "ls $INPUT"
   ]
  },
  {
   "cell_type": "code",
   "execution_count": 16,
   "metadata": {},
   "outputs": [
    {
     "name": "stdout",
     "output_type": "stream",
     "text": [
      "Job <955580> is submitted to default queue <normal>.\n"
     ]
    }
   ],
   "source": [
    "bsub << EOF\n",
    "#!/bin/bash\n",
    "#BSUB -J guppy\n",
    "#BSUB -o $WKDIR/Guppy_basecalling/log/guppy.out \n",
    "#BSUB -e $WKDIR/Guppy_basecalling/log/guppy.err\n",
    "#BSUB -R \"gpu\"\n",
    "\n",
    "guppy_basecaller --input_path $INPUT --save_path $WKDIR/Guppy_basecalling/00.Fastq \\\n",
    "--flowcell FLO-MIN106 --kit SQK-LSK109 -x \"cuda:0\"\n",
    "\n",
    "EOF"
   ]
  },
  {
   "cell_type": "markdown",
   "metadata": {},
   "source": [
    "# Comparison between quality of  fastq raw reads between albacore2 and Guppy basecalling"
   ]
  },
  {
   "cell_type": "code",
   "execution_count": 62,
   "metadata": {
    "collapsed": true,
    "jupyter": {
     "outputs_hidden": true
    }
   },
   "outputs": [],
   "source": [
    "module purge"
   ]
  },
  {
   "cell_type": "code",
   "execution_count": 81,
   "metadata": {
    "collapsed": true,
    "jupyter": {
     "outputs_hidden": true
    }
   },
   "outputs": [],
   "source": [
    "module load FastQC/0.11.7"
   ]
  },
  {
   "cell_type": "code",
   "execution_count": 35,
   "metadata": {
    "collapsed": true,
    "jupyter": {
     "outputs_hidden": true
    }
   },
   "outputs": [],
   "source": [
    "mkdir $WKDIR/albacore2/FastQC\n"
   ]
  },
  {
   "cell_type": "markdown",
   "metadata": {},
   "source": [
    "* First look for quality of albacore2 basecalled reads ( I dind't do it in the the other notebook:\\\n",
    "/Red_Flesh_ON/RedFlesh_ON_Cas9_enrichment_ON_run_1_Base_calling_QC.ipynb')"
   ]
  },
  {
   "cell_type": "code",
   "execution_count": 78,
   "metadata": {
    "collapsed": true,
    "jupyter": {
     "outputs_hidden": true
    }
   },
   "outputs": [],
   "source": [
    "#mkdir $WKDIR/Guppy_basecalling/FastQC"
   ]
  },
  {
   "cell_type": "code",
   "execution_count": 84,
   "metadata": {},
   "outputs": [
    {
     "name": "stdout",
     "output_type": "stream",
     "text": [
      "Job <958353> is submitted to default queue <normal>.\n"
     ]
    }
   ],
   "source": [
    "bsub << EOF\n",
    "#!/bin/bash\n",
    "#BSUB -J fastqc\n",
    "#BSUB -o $WKDIR/albacore2/FastQC/fastqc.out\n",
    "#BSUB -e $WKDIR/albacore2/FastQC/fastqc.err\n",
    "#BSUB -n 24\n",
    "#BSUB -R \"span[hosts=1]\"\n",
    "\n",
    "fastqc -t 24 -q -o $WKDIR/albacore2/FastQC/ $WKDIR/albacore2/All_DS_RedFlesh_ON_run1_cas.fastq \n",
    "\n",
    "EOF"
   ]
  },
  {
   "cell_type": "markdown",
   "metadata": {},
   "source": [
    "* Second look for quality of rawreads after basecalling with Guppy"
   ]
  },
  {
   "cell_type": "code",
   "execution_count": 71,
   "metadata": {},
   "outputs": [
    {
     "name": "stdout",
     "output_type": "stream",
     "text": [
      "Job <958325> is submitted to default queue <normal>.\n"
     ]
    }
   ],
   "source": [
    "bsub << EOF\n",
    "#!/bin/bash\n",
    "#BSUB -J fastqc\n",
    "#BSUB -o $WKDIR/Guppy_basecalling/fastqc.out\n",
    "#BSUB -e $WKDIR/Guppy_basecalling/fastqc.err\n",
    "#BSUB -n 24\n",
    "#BSUB -R \"span[hosts=1]\"\n",
    "\n",
    "\n",
    "fastqc -t 24 -q -o $WKDIR/FastQC $WKDIR/Guppy_basecalling/00.Fastq/*.fastq\n",
    "\n",
    "EOF"
   ]
  },
  {
   "cell_type": "markdown",
   "metadata": {},
   "source": [
    "# pycoQC"
   ]
  },
  {
   "cell_type": "code",
   "execution_count": 96,
   "metadata": {},
   "outputs": [
    {
     "name": "stdout",
     "output_type": "stream",
     "text": [
      "(base) "
     ]
    },
    {
     "ename": "",
     "evalue": "1",
     "output_type": "error",
     "traceback": []
    }
   ],
   "source": [
    "\n",
    "module load conda"
   ]
  },
  {
   "cell_type": "code",
   "execution_count": 97,
   "metadata": {},
   "outputs": [
    {
     "name": "stdout",
     "output_type": "stream",
     "text": [
      "(/workspace/appscratch/miniconda/cflsjt_albacore) "
     ]
    },
    {
     "ename": "",
     "evalue": "1",
     "output_type": "error",
     "traceback": []
    }
   ],
   "source": [
    "conda activate cflsjt_albacore"
   ]
  },
  {
   "cell_type": "code",
   "execution_count": 24,
   "metadata": {
    "collapsed": true,
    "jupyter": {
     "outputs_hidden": true
    }
   },
   "outputs": [],
   "source": [
    "mkdir -p $WKDIR/Guppy_basecalling/01.pycoQC/log"
   ]
  },
  {
   "cell_type": "code",
   "execution_count": 102,
   "metadata": {},
   "outputs": [
    {
     "name": "stdout",
     "output_type": "stream",
     "text": [
      "Job <958367> is submitted to default queue <normal>.\n",
      "(/workspace/appscratch/miniconda/cflsjt_albacore) "
     ]
    },
    {
     "ename": "",
     "evalue": "1",
     "output_type": "error",
     "traceback": []
    }
   ],
   "source": [
    "bsub -o $WKDIR/01.pycoQC/log/QC1.out -e $WKDIR/01.pycoQC/log/QC1.err -J ONT_QC1 \"pycoQC -f $WKDIR/sequencing_summary.txt $WKDIR/01.pycoQC/pycoQC_summary_run1\""
   ]
  },
  {
   "cell_type": "code",
   "execution_count": null,
   "metadata": {},
   "outputs": [],
   "source": [
    "#Some stats with Nanopack"
   ]
  },
  {
   "cell_type": "code",
   "execution_count": null,
   "metadata": {},
   "outputs": [],
   "source": [
    "NanoPlot --summary $WKDIR/albacore2/Red_flesh_ON_run1_Cas9/all_summary_run1.txt --loglength -o $WKDIR/albacore2/Red_flesh_ON_run1_Cas9/summary-plots-log-transformed "
   ]
  },
  {
   "cell_type": "markdown",
   "metadata": {},
   "source": [
    "# Trim using porechop"
   ]
  },
  {
   "cell_type": "code",
   "execution_count": 111,
   "metadata": {},
   "outputs": [
    {
     "name": "stdout",
     "output_type": "stream",
     "text": [
      "(base) "
     ]
    },
    {
     "ename": "",
     "evalue": "1",
     "output_type": "error",
     "traceback": []
    }
   ],
   "source": [
    "conda deactivate"
   ]
  },
  {
   "cell_type": "code",
   "execution_count": 112,
   "metadata": {},
   "outputs": [
    {
     "name": "stdout",
     "output_type": "stream",
     "text": [
      "(/workspace/appscratch/miniconda/cflsjt_porechop) "
     ]
    },
    {
     "ename": "",
     "evalue": "1",
     "output_type": "error",
     "traceback": []
    }
   ],
   "source": [
    "conda activate cflsjt_porechop"
   ]
  },
  {
   "cell_type": "code",
   "execution_count": 113,
   "metadata": {},
   "outputs": [
    {
     "name": "stdout",
     "output_type": "stream",
     "text": [
      "(/workspace/appscratch/miniconda/cflsjt_porechop) "
     ]
    },
    {
     "ename": "",
     "evalue": "1",
     "output_type": "error",
     "traceback": []
    }
   ],
   "source": [
    "module load htslib/1.7"
   ]
  },
  {
   "cell_type": "code",
   "execution_count": 107,
   "metadata": {},
   "outputs": [
    {
     "name": "stdout",
     "output_type": "stream",
     "text": [
      "(/workspace/appscratch/miniconda/cflsjt_porechop) "
     ]
    },
    {
     "ename": "",
     "evalue": "1",
     "output_type": "error",
     "traceback": []
    }
   ],
   "source": [
    "mkdir -p $WKDIR/02.poreChop/log"
   ]
  },
  {
   "cell_type": "markdown",
   "metadata": {},
   "source": [
    "* Merge fastq files\n",
    "\n",
    "* Merge the fastqs from the various sub dirs before chopping"
   ]
  },
  {
   "cell_type": "code",
   "execution_count": 109,
   "metadata": {},
   "outputs": [
    {
     "name": "stdout",
     "output_type": "stream",
     "text": [
      "Job <958369> is submitted to default queue <normal>.\n",
      "(/workspace/appscratch/miniconda/cflsjt_porechop) "
     ]
    },
    {
     "ename": "",
     "evalue": "1",
     "output_type": "error",
     "traceback": []
    }
   ],
   "source": [
    "bsub -o $WKDIR/02.poreChop/log/merge.out -e $WKDIR/02.poreChop/log/merge.err -J merge \\\n",
    "\"cat $WKDIR/00.Fastq/*.fastq | bgzip -c > $WKDIR/02.poreChop/Merged_RedFlesh_ON_GUPPY_cas.fastq.gz\""
   ]
  },
  {
   "cell_type": "code",
   "execution_count": 115,
   "metadata": {},
   "outputs": [
    {
     "name": "stdout",
     "output_type": "stream",
     "text": [
      "Job <958374> is submitted to default queue <normal>.\n",
      "(/workspace/appscratch/miniconda/cflsjt_porechop) "
     ]
    },
    {
     "ename": "",
     "evalue": "1",
     "output_type": "error",
     "traceback": []
    }
   ],
   "source": [
    "bsub << EOF\n",
    "#!/bin/bash\n",
    "#BSUB -J Porechop\n",
    "#BSUB -o $WKDIR/02.poreChop/log/chop1.out \n",
    "#BSUB -e $WKDIR/02.poreChop/log/chop1.err\n",
    "#BSUB -n 12\n",
    "#BSUB -R \"span[hosts=1]\"\n",
    "\n",
    "porechop -i $WKDIR/02.poreChop/Merged_RedFlesh_ON_GUPPY_cas.fastq.gz \\\n",
    "-o $WKDIR/02.poreChop/After_PoreCHOP_RedFlesh_ON_GUPPY_cas.fastq.gz \\\n",
    "-t 12 --discard_middle\n",
    "\n",
    "EOF"
   ]
  },
  {
   "cell_type": "markdown",
   "metadata": {},
   "source": [
    "7,056 reads loaded\n"
   ]
  },
  {
   "cell_type": "markdown",
   "metadata": {},
   "source": [
    "Trimming adapters from read ends:\n",
    "\n",
    "* SQK-NSK007_Y_Top: AATGTACTTCGTTCAGTTACGTATTGCTESC\n",
    "* SQK-NSK007_Y_Bottom: GCAATACGTAACTGAACGAAGTESC\n",
    "* SQK-MAP006_Short_Y_Top_LI32: CGGCGTCTGCTTGGGTGTTTAACCTESC\n",
    "* SQK-MAP006_Short_Y_Bottom_LI33: GGTTAAACACCCAAGCAGACGCCGESC\n"
   ]
  },
  {
   "cell_type": "markdown",
   "metadata": {},
   "source": [
    "* 784 / 7,056 reads had adapters trimmed from their start (12,489 bp removed)\n",
    "* 1,087 / 7,056 reads had adapters trimmed from their end (13,031 bp removed)\n",
    "* 1 / 7,056 reads were discarded based on middle adapters\n",
    "\n"
   ]
  },
  {
   "cell_type": "markdown",
   "metadata": {},
   "source": [
    "# Create Metric plots (pyQC min read quality 7) and porechop using Nanopack"
   ]
  },
  {
   "cell_type": "code",
   "execution_count": 6,
   "metadata": {},
   "outputs": [],
   "source": [
    "module purge"
   ]
  },
  {
   "cell_type": "code",
   "execution_count": 1,
   "metadata": {},
   "outputs": [],
   "source": [
    "module load nanopack/1.0.0"
   ]
  },
  {
   "cell_type": "code",
   "execution_count": 3,
   "metadata": {},
   "outputs": [
    {
     "name": "stdout",
     "output_type": "stream",
     "text": [
      "aliceblue, antiquewhite, aqua, aquamarine, azure, beige, bisque, black, blanchedalmond, blue, blueviolet, brown, burlywood, cadetblue, chartreuse, chocolate, coral, cornflowerblue, cornsilk, crimson, cyan, darkblue, darkcyan, darkgoldenrod, darkgray, darkgreen, darkgrey, darkkhaki, darkmagenta, darkolivegreen, darkorange, darkorchid, darkred, darksalmon, darkseagreen, darkslateblue, darkslategray, darkslategrey, darkturquoise, darkviolet, deeppink, deepskyblue, dimgray, dimgrey, dodgerblue, firebrick, floralwhite, forestgreen, fuchsia, gainsboro, ghostwhite, gold, goldenrod, gray, green, greenyellow, grey, honeydew, hotpink, indianred, indigo, ivory, khaki, lavender, lavenderblush, lawngreen, lemonchiffon, lightblue, lightcoral, lightcyan, lightgoldenrodyellow, lightgray, lightgreen, lightgrey, lightpink, lightsalmon, lightseagreen, lightskyblue, lightslategray, lightslategrey, lightsteelblue, lightyellow, lime, limegreen, linen, magenta, maroon, mediumaquamarine, mediumblue, mediumorchid, mediumpurple, mediumseagreen, mediumslateblue, mediumspringgreen, mediumturquoise, mediumvioletred, midnightblue, mintcream, mistyrose, moccasin, navajowhite, navy, oldlace, olive, olivedrab, orange, orangered, orchid, palegoldenrod, palegreen, paleturquoise, palevioletred, papayawhip, peachpuff, peru, pink, plum, powderblue, purple, rebeccapurple, red, rosybrown, royalblue, saddlebrown, salmon, sandybrown, seagreen, seashell, sienna, silver, skyblue, slateblue, slategray, slategrey, snow, springgreen, steelblue, tan, teal, thistle, tomato, turquoise, violet, wheat, white, whitesmoke, yellow, yellowgreen\n"
     ]
    }
   ],
   "source": [
    "NanoPlot --listcolors "
   ]
  },
  {
   "cell_type": "code",
   "execution_count": null,
   "metadata": {},
   "outputs": [],
   "source": [
    "NanoPlot -c pink -f tiff --title Guppy --N50 -p Guppy_nanoplot_all_reads -o $WKDIR/02.poreChop/ --fastq $WKDIR/02.poreChop/After_PoreCHOP_RedFlesh_ON_GUPPY_cas.fastq.gz "
   ]
  },
  {
   "cell_type": "code",
   "execution_count": 36,
   "metadata": {},
   "outputs": [],
   "source": [
    "NanoComp -c darkcyan pink -p Albacore2_vs_Guppy_Canu_corrected_reads -o $WKDIR/02.poreChop/ --title Albacore2_vs_Guppy_reads -n Albacore2 Guppy --fastq $WKDIR/02.poreChop/All_DS_RedFlesh_ON_run1_cas_after_porechop_dis.fastq.gz $WKDIR/Guppy_basecalling/02.poreChop/After_PoreCHOP_RedFlesh_ON_GUPPY_cas.fastq.gz"
   ]
  },
  {
   "cell_type": "markdown",
   "metadata": {},
   "source": [
    "# Align Reads to apple GDv1.1 using minimap2"
   ]
  },
  {
   "cell_type": "code",
   "execution_count": 1,
   "metadata": {
    "collapsed": true,
    "jupyter": {
     "outputs_hidden": true
    }
   },
   "outputs": [],
   "source": [
    "module purge\n",
    "module load minimap2/2.9\n",
    "module load samtools"
   ]
  },
  {
   "cell_type": "code",
   "execution_count": 49,
   "metadata": {
    "collapsed": true,
    "jupyter": {
     "outputs_hidden": true
    }
   },
   "outputs": [],
   "source": [
    "FQ=$WKDIR/Guppy_basecalling/02.poreChop/After_PoreCHOP_RedFlesh_ON_GUPPY_cas.fastq.gz "
   ]
  },
  {
   "cell_type": "code",
   "execution_count": 120,
   "metadata": {
    "collapsed": true,
    "jupyter": {
     "outputs_hidden": true
    }
   },
   "outputs": [],
   "source": [
    "mkdir -p $WKDIR/03.minimap2/log"
   ]
  },
  {
   "cell_type": "code",
   "execution_count": 122,
   "metadata": {},
   "outputs": [
    {
     "name": "stdout",
     "output_type": "stream",
     "text": [
      "Job <958735> is submitted to default queue <normal>.\n"
     ]
    }
   ],
   "source": [
    "bsub << EOF\n",
    "#!/bin/bash\n",
    "#BSUB -J minimap2\n",
    "#BSUB -o $WKDIR/03.minimap2/log/map.out \n",
    "#BSUB -e $WKDIR/03.minimap2/log/map.err\n",
    "#BSUB -n 4\n",
    "#BSUB -R \"span[hosts=1]\"\n",
    "\n",
    "minimap2 -ax map-ont $INFASTA $FQ | \\\n",
    "samtools view -Su - | samtools sort - -o $WKDIR/03.minimap2/Guppy_RedFlesh.bam\n",
    "\n",
    "EOF"
   ]
  },
  {
   "cell_type": "code",
   "execution_count": 123,
   "metadata": {},
   "outputs": [
    {
     "name": "stdout",
     "output_type": "stream",
     "text": [
      "Job <958824> is submitted to default queue <normal>.\n"
     ]
    }
   ],
   "source": [
    "bsub << EOF\n",
    "#!/bin/bash\n",
    "#BSUB -J minimap2\n",
    "#BSUB -o $WKDIR/03.minimap2/log/index_depth.out \n",
    "#BSUB -e $WKDIR/03.minimap2/log/index_depth.err\n",
    "#BSUB -n 1\n",
    "#BSUB -R \"span[hosts=1]\"\n",
    "\n",
    "samtools index $WKDIR/03.minimap2/Guppy_RedFlesh.bam\n",
    "samtools depth $WKDIR/03.minimap2/Guppy_RedFlesh.bam > $WKDIR/03.minimap2/Guppy_RedFlesh.bam.coverage\n",
    "EOF"
   ]
  },
  {
   "cell_type": "code",
   "execution_count": 4,
   "metadata": {},
   "outputs": [
    {
     "name": "stdout",
     "output_type": "stream",
     "text": [
      "# Summary Numbers. Use `grep ^SN | cut -f 2-` to extract this part.\n",
      "SN\traw total sequences:\t7052\n",
      "SN\tfiltered sequences:\t0\n",
      "SN\tsequences:\t7052\n",
      "SN\tis sorted:\t1\n",
      "SN\t1st fragments:\t7052\n",
      "SN\tlast fragments:\t0\n",
      "SN\treads mapped:\t6448\n",
      "SN\treads mapped and paired:\t0\t# paired-end technology bit set + both mates mapped\n",
      "SN\treads unmapped:\t604\n",
      "SN\treads properly paired:\t0\t# proper-pair bit set\n",
      "SN\treads paired:\t0\t# paired-end technology bit set\n",
      "SN\treads duplicated:\t0\t# PCR or optical duplicate bit set\n",
      "SN\treads MQ0:\t31\t# mapped and MQ=0\n",
      "SN\treads QC failed:\t0\n",
      "SN\tnon-primary alignments:\t10906\n",
      "SN\ttotal length:\t113899787\t# ignores clipping\n",
      "SN\ttotal first fragment length:\t113899787\t# ignores clipping\n",
      "SN\ttotal last fragment length:\t0\t# ignores clipping\n",
      "SN\tbases mapped:\t111430681\t# ignores clipping\n",
      "SN\tbases mapped (cigar):\t108297709\t# more accurate\n",
      "SN\tbases trimmed:\t0\n",
      "SN\tbases duplicated:\t0\n",
      "SN\tmismatches:\t19986130\t# from NM fields\n",
      "SN\terror rate:\t1.845480e-01\t# mismatches / bases mapped (cigar)\n",
      "SN\taverage length:\t16151\n",
      "SN\taverage first fragment length:\t16151\n",
      "SN\taverage last fragment length:\t0\n",
      "SN\tmaximum length:\t144757\n",
      "SN\tmaximum first fragment length:\t0\n",
      "SN\tmaximum last fragment length:\t0\n",
      "SN\taverage quality:\t20.7\n",
      "SN\tinsert size average:\t0.0\n",
      "SN\tinsert size standard deviation:\t0.0\n",
      "SN\tinward oriented pairs:\t0\n",
      "SN\toutward oriented pairs:\t0\n",
      "SN\tpairs with other orientation:\t0\n",
      "SN\tpairs on different chromosomes:\t0\n",
      "SN\tpercentage of properly paired reads (%):\t0.0\n"
     ]
    }
   ],
   "source": [
    "module load samtools/1.9\n",
    "samtools stats $WKDIR/03.minimap2/Guppy_RedFlesh.bam | grep 'SN'"
   ]
  },
  {
   "cell_type": "code",
   "execution_count": 22,
   "metadata": {},
   "outputs": [
    {
     "name": "stdout",
     "output_type": "stream",
     "text": [
      "20868\n"
     ]
    }
   ],
   "source": [
    " samtools view -c -F 260 $WKDIR/03.minimap2/Guppy_RedFlesh.bam "
   ]
  },
  {
   "cell_type": "code",
   "execution_count": 17,
   "metadata": {},
   "outputs": [
    {
     "name": "stdout",
     "output_type": "stream",
     "text": [
      "121\n"
     ]
    }
   ],
   "source": [
    "samtools view -c -F 0x10 $WKDIR/03.minimap2/Guppy_RedFlesh.bam \"Chr09:35542701-35551900\" #forward"
   ]
  },
  {
   "cell_type": "code",
   "execution_count": 18,
   "metadata": {},
   "outputs": [
    {
     "name": "stdout",
     "output_type": "stream",
     "text": [
      "75\n"
     ]
    }
   ],
   "source": [
    "samtools view -c -f 0x10 $WKDIR/03.minimap2/Guppy_RedFlesh.bam \"Chr09:35542701-35551900\" #reverse"
   ]
  },
  {
   "cell_type": "code",
   "execution_count": 5,
   "metadata": {},
   "outputs": [
    {
     "name": "stdout",
     "output_type": "stream",
     "text": [
      "191\n"
     ]
    }
   ],
   "source": [
    " samtools view -c -F 260 $WKDIR/03.minimap2/Guppy_RedFlesh.bam \"Chr09:35542701-35551878\""
   ]
  },
  {
   "cell_type": "markdown",
   "metadata": {},
   "source": [
    "* Now we open the bam file of the mapping made after using albacore2 base calling and the bam file after using Guppy basecalling on ** IGV **"
   ]
  },
  {
   "cell_type": "markdown",
   "metadata": {},
   "source": [
    "**  We dont appreciate an improvement on the Chr9:35543000 locus between albacore2 and Guppy basecalling** "
   ]
  },
  {
   "cell_type": "markdown",
   "metadata": {},
   "source": [
    "## Canu to be used to assemble MiniON targeted sequencing reads "
   ]
  },
  {
   "cell_type": "markdown",
   "metadata": {},
   "source": [
    "Comments on using Canu with targeted requencing reads coming from Pacbio \n",
    "* https://github.com/marbl/canu/issues/476"
   ]
  },
  {
   "cell_type": "markdown",
   "metadata": {},
   "source": [
    "* Set genomeSize to your best guess of the combined size of the regions. You can probably be too high by an order of magnitude with no real problem; but too low would be somewhat bad. This impacts how corrected reads are computed, and how many corrected reads are computed.\n",
    "\n",
    "* Once you get a feel for how they assemble, correctedErrorRate can be varied to refine how much assembly is done.\n",
    "\n",
    "* Check the GFA outputs. If they're showing a big tangle, try dropping correctedErrorRate a bit. If unitigs look a lot like contigs, you've got a clean trusted assembly (and if they're big too, well, excellent)."
   ]
  },
  {
   "cell_type": "code",
   "execution_count": 68,
   "metadata": {
    "collapsed": true,
    "jupyter": {
     "outputs_hidden": true
    }
   },
   "outputs": [],
   "source": [
    "mkdir -p $WKDIR/04.canu/new8\n",
    "corrected=$WKDIR/Guppy_basecalling/04.canu/new8/Canu_Guppy.correctedReads.fasta.gz"
   ]
  },
  {
   "cell_type": "code",
   "execution_count": 82,
   "metadata": {},
   "outputs": [
    {
     "name": "stdout",
     "output_type": "stream",
     "text": [
      "Job <42899> is submitted to default queue <normal>.\n"
     ]
    }
   ],
   "source": [
    "bsub << EOF\n",
    "#!/bin/bash\n",
    "#BSUB -J Canu\n",
    "#BSUB -o $WKDIR/04.canu/filter_contig/canu.out \n",
    "#BSUB -e $WKDIR/04.canu/filter_contig/canu.err\n",
    "#BSUB -n 20\n",
    "#BSUB -R \"span[hosts=1]\"w\n",
    "\n",
    "\n",
    "thread=20\n",
    "module load canu/1.7\n",
    "canu -p Canu_Guppy -d $WKDIR/04.canu/filter_contig corMhapSensitivity=normal contigFilter=\"2 0 1.0 0.5 0\" useGrid=false maxThreads=$thread genomeSize=400k -nanopore-raw $FQ  \n",
    "#correctedErrorRate=0.25\n",
    "EOF"
   ]
  },
  {
   "cell_type": "markdown",
   "metadata": {},
   "source": [
    "*  -p option is to set the file name prefix of intermediate and output files, is mandatory. If -d is not supplied, canu will run in the current directory. Otherwise, Canu will create the assembly-directory and run in that directory.It is _not_ possible to run two different assemblies in the same directory.\n",
    "\n",
    "\n",
    "*  For the genomeSize I estimated teh value for the total of the target region plus the rest of the regions that got sequenced and doubling that just to not be so low or understimating the size of amplicons that got sequenced here. \n",
    "\n",
    "\n",
    "*  The -s option will import a list of parameters from the supplied specification (‘spec’) file. These options can be useful if you want to correct reads once and try many different assemblies. We do exactly that in the Canu Quick Start. Additionally, suppling pre-corrected reads with -pacbio-corrected or -nanopore-corrected will run only the trimming (-trim) and assembling (-assemble) stages.\n",
    "\n",
    "\n",
    "*  Additional parameters of canu https://canu.readthedocs.io/en/latest/parameter-reference.html#parameter-reference\n"
   ]
  },
  {
   "cell_type": "markdown",
   "metadata": {},
   "source": [
    "** Make index to the assembly fasta file (.fai) **"
   ]
  },
  {
   "cell_type": "code",
   "execution_count": 45,
   "metadata": {
    "collapsed": true,
    "jupyter": {
     "outputs_hidden": true
    }
   },
   "outputs": [],
   "source": [
    "module load samtools"
   ]
  },
  {
   "cell_type": "code",
   "execution_count": 46,
   "metadata": {
    "collapsed": true,
    "jupyter": {
     "outputs_hidden": true
    }
   },
   "outputs": [],
   "source": [
    "samtools faidx $WKDIR/04.canu/new8/Canu_Guppy.contigs.fasta"
   ]
  },
  {
   "cell_type": "code",
   "execution_count": 47,
   "metadata": {},
   "outputs": [
    {
     "name": "stdout",
     "output_type": "stream",
     "text": [
      ">tig00000001 len=145201 reads=45 covStat=409.58 gappedBases=no class=contig suggestRepeat=no suggestCircular=no\n",
      ">tig00000003 len=59853 reads=29 covStat=87.00 gappedBases=no class=contig suggestRepeat=no suggestCircular=no\n",
      ">tig00000010 len=3513 reads=12 covStat=-3.12 gappedBases=no class=contig suggestRepeat=no suggestCircular=no\n",
      ">tig00000011 len=3026 reads=4 covStat=1.51 gappedBases=no class=contig suggestRepeat=no suggestCircular=no\n",
      ">tig00000012 len=4633 reads=3 covStat=-0.33 gappedBases=no class=contig suggestRepeat=no suggestCircular=no\n",
      ">tig00000015 len=5163 reads=5 covStat=4.74 gappedBases=no class=contig suggestRepeat=no suggestCircular=no\n"
     ]
    }
   ],
   "source": [
    "grep \">\" $WKDIR/04.canu/new8/Canu_Guppy.contigs.fasta"
   ]
  },
  {
   "cell_type": "markdown",
   "metadata": {},
   "source": [
    "** If we compare the assembly from albacore basecalling notebook, we see that Guppy got one more contigs and larger ones **\n",
    "#>tig00000001 len=130229 reads=87 covStat=351.14 gappedBases=no class=contig suggestRepeat=no suggestCircular=no\n",
    "#>tig00000003 len=17146 reads=118 covStat=-47.97 gappedBases=no class=contig suggestRepeat=no suggestCircular=no\n",
    "#>tig00000015 len=14585 reads=13 covStat=37.92 gappedBases=no class=contig suggestRepeat=no suggestCircular=no\n",
    "#>tig00000017 len=16132 reads=15 covStat=13.60 gappedBases=no class=contig suggestRepeat=no suggestCircular=no\n",
    "#>tig00000018 len=8006 reads=118 covStat=-75.37 gappedBases=no class=contig suggestRepeat=no suggestCircular=no\n",
    "#>tig00000383 len=7197 reads=1 covStat=0.00 gappedBases=no class=contig suggestRepeat=no suggestCircular=no\n",
    "#>tig00000384 len=7927 reads=45 covStat=-6.89 gappedBases=no class=contig suggestRepeat=no suggestCircular=no"
   ]
  },
  {
   "cell_type": "markdown",
   "metadata": {},
   "source": [
    "# Map the generated contigs by Canu to the GD reference genome"
   ]
  },
  {
   "cell_type": "code",
   "execution_count": 70,
   "metadata": {
    "collapsed": true,
    "jupyter": {
     "outputs_hidden": true
    }
   },
   "outputs": [],
   "source": [
    "Canu_assembled_contigs=$WKDIR/04.canu/filter_contig/Canu_Guppy.contigs.fasta\n",
    "REF=/input/genomic/plant/Malus/Genome/GDDH_v1.1/Decompress/GDDH13_1-1_formatted.fasta \n",
    "canu_corrected=$WKDIR/Guppy_basecalling/04.canu/Canu_Guppy.correctedReads.fasta.gz\n",
    "module load minimap2/2.9\n",
    "module load samtools"
   ]
  },
  {
   "cell_type": "code",
   "execution_count": 37,
   "metadata": {
    "collapsed": true,
    "jupyter": {
     "outputs_hidden": true
    }
   },
   "outputs": [],
   "source": [
    "mkdir -p $WKDIR/04.canu/minimap/Canu_contigs_vs_GD\n",
    "mkdir -p $WKDIR/04.canu/minimap/Canu_contigs_vs_GD/logs"
   ]
  },
  {
   "cell_type": "code",
   "execution_count": 71,
   "metadata": {
    "scrolled": true
   },
   "outputs": [
    {
     "name": "stdout",
     "output_type": "stream",
     "text": [
      "Job <42897> is submitted to default queue <normal>.\n"
     ]
    }
   ],
   "source": [
    "bsub << EOF\n",
    "#!/bin/bash\n",
    "#BSUB -J minimap2\n",
    "#BSUB -o $WKDIR/04.canu/filter_contigcanu_contigs_vs_ref.out \n",
    "#BSUB -e $WKDIR/04.canu/filter_contig/canu_contigs_vs_ref.err\n",
    "#BSUB -n 4\n",
    "#BSUB -R \"span[hosts=1]\"\n",
    "\n",
    "minimap2 -ax map-ont $REF $Canu_assembled_contigs | \\\n",
    "samtools view -Su - | samtools sort - -o $WKDIR/04.canu/filter_contig/Canu.Guppy.contigs.bam  \n",
    "samtools index $WKDIR/04.canu/filter_contig/Canu.Guppy.contigs.bam\n",
    "samtools depth $WKDIR/04.canu/filter_contig/Canu.Guppy.contigs.bam > $WKDIR/04.canu/filter_contig/Guppy_Canu_assembled_contigs.coverage\n",
    "EOF\n"
   ]
  },
  {
   "cell_type": "code",
   "execution_count": 81,
   "metadata": {
    "scrolled": true
   },
   "outputs": [
    {
     "name": "stdout",
     "output_type": "stream",
     "text": [
      "tig00000001 2048 Chr09 4815515 60 1323\n",
      "tig00000001 2064 Chr09 4815515 60 1321\n",
      "tig00000001 2064 Chr09 28299576 60 1334\n",
      "tig00000001 2048 Chr09 28316322 60 1885\n",
      "tig00000001 2064 Chr09 29602331 60 1250\n"
     ]
    }
   ],
   "source": [
    "samtools view $WKDIR/04.canu/filter_contig/Canu.Guppy.contigs.bam |  awk '{if(length($10)>=1000) print$1,$2,$3,$4,$5,length($10)}' | grep \"Chr09\""
   ]
  },
  {
   "cell_type": "markdown",
   "metadata": {},
   "source": [
    "# Map the generated unmapped contigs by Canu to the Ref GD genome"
   ]
  },
  {
   "cell_type": "code",
   "execution_count": 50,
   "metadata": {
    "scrolled": true
   },
   "outputs": [
    {
     "name": "stdout",
     "output_type": "stream",
     "text": [
      "Job <41429> is submitted to default queue <normal>.\n"
     ]
    }
   ],
   "source": [
    "bsub << EOF\n",
    "#!/bin/bash\n",
    "#BSUB -J minimap2\n",
    "#BSUB -o $WKDIR/04.canu/canu_unmappedcontigs_vs_ref.out \n",
    "#BSUB -e $WKDIR/04.canu/canu_unmappedcontigs_vs_ref.err\n",
    "#BSUB -n 4\n",
    "#BSUB -R \"span[hosts=1]\"\n",
    "\n",
    "minimap2 -ax map-ont $REF $WKDIR/Guppy_basecalling/04.canu/Canu_Guppy.unassembled.fasta | \\\n",
    "samtools view -Su - | samtools sort - -o $WKDIR/04.canu/Canu_Guppy.unassembled.bam  \n",
    "samtools index $WKDIR/04.canu/Canu_Guppy.unassembled.bam\n",
    "samtools depth $WKDIR/04.canu/Canu_Guppy.unassembled.bam > $WKDIR/04.canu/Canu_Guppy.unassembled.coverage\n",
    "EOF"
   ]
  },
  {
   "cell_type": "code",
   "execution_count": 1,
   "metadata": {},
   "outputs": [
    {
     "name": "stdout",
     "output_type": "stream",
     "text": [
      "sort: cannot read: k1,1: No such file or directory\n",
      "[E::hts_open_format] Failed to open file /04.canu/Canu_Guppy.unassembled.bam\n",
      "samtools view: failed to open \"/04.canu/Canu_Guppy.unassembled.bam\" for reading: No such file or directory\n"
     ]
    },
    {
     "ename": "",
     "evalue": "2",
     "output_type": "error",
     "traceback": []
    }
   ],
   "source": [
    "module purge\n",
    "module load samtools\n",
    "samtools view  $WKDIR/04.canu/Canu_Guppy.unassembled.bam | awk '{if(length($10)>=1000) print$1,$2,$3,$4,$5,length($10)}' | grep \"Chr09\" | "
   ]
  },
  {
   "cell_type": "markdown",
   "metadata": {},
   "source": [
    "## Alignment of canu corrected reads to GDv1.1 reference genome "
   ]
  },
  {
   "cell_type": "code",
   "execution_count": 6,
   "metadata": {},
   "outputs": [
    {
     "name": "stdout",
     "output_type": "stream",
     "text": [
      "mkdir: cannot create directory ‘$WKDIR/Guppy_basecalling/04.canu/minimap/correct_reads_to_GD/logs’: File exists\n"
     ]
    }
   ],
   "source": [
    "#mkdir $WKDIR/04.canu/minimap\n",
    "#mkdir $WKDIR/04.canu/minimap/correct_reads_to_GD\n",
    "mkdir $WKDIR/04.canu/minimap/correct_reads_to_GD/logs \n",
    "\n",
    "REF=/input/genomic/plant/Malus/Genome/GDDH_v1.1/Decompress/GDDH13_1-1_formatted.fasta \n",
    "canu_corrected=$WKDIR/Guppy_basecalling/04.canu/Canu_Guppy.correctedReads.fasta.gz \n",
    "\n",
    "module load minimap2/2.9\n",
    "module load samtools"
   ]
  },
  {
   "cell_type": "markdown",
   "metadata": {},
   "source": [
    "** Minimap2 with default option to ONT reads **"
   ]
  },
  {
   "cell_type": "code",
   "execution_count": 13,
   "metadata": {},
   "outputs": [
    {
     "name": "stdout",
     "output_type": "stream",
     "text": [
      "Job <376365> is submitted to default queue <normal>.\n"
     ]
    }
   ],
   "source": [
    "bsub << EOF\n",
    "#!/bin/bash\n",
    "#BSUB -J minimap_corrected_canu_to_GD\n",
    "#BSUB -o $WKDIR/04.canu/minimap/correct_reads_to_GD/logs/corr_vs_GD.out \n",
    "#BSUB -e $WKDIR/04.canu/minimap/correct_reads_to_GD/logs/corr_vs_GD.err\n",
    "#BSUB -n 4\n",
    "#BSUB -R \"span[hosts=1]\"\n",
    "\n",
    "#minimap2 -ax map-ont $REF $canu_corrected | \\\n",
    "#samtools view -Su - | samtools sort - -o $WKDIR/04.canu/minimap/correct_reads_to_GD/Guppy_canu_corrected_vs_GDv1.1.bam  \n",
    "#samtools index $WKDIR/04.canu/minimap/correct_reads_to_GD/Guppy_canu_corrected_vs_GDv1.1.bam\n",
    "#samtools depth $WKDIR/04.canu/minimap/correct_reads_to_GD/Guppy_canu_corrected_vs_GDv1.1.bam > $WKDIR/04.canu/minimap/correct_reads_to_GD/Guppy_canu_corrected_vs_GDv1.1.coverage\n",
    "\n",
    "module purge\n",
    "module load samtools/1.9\n",
    "bam=$WKDIR/Guppy_basecalling/04.canu/minimap/correct_reads_to_GD/Guppy_canu_corrected_vs_GDv1.1.bam\n",
    "aqui=$WKDIR/Guppy_basecalling/04.canu/minimap/correct_reads_to_GD\n",
    "samtools view -H $bam > $aqui/Guppy_canu_corrected_vs_GDv1.1.sam  #print header\n",
    "samtools view -F 260 $bam | awk '$5>=40 {print$0}' >> $aqui/Guppy_canu_corrected_vs_GDv1.1.sam #select just those mapped reads with MQ>=40\n",
    "samtools view -S -b -h $aqui/Guppy_canu_corrected_vs_GDv1.1.sam > $aqui/Guppy_canu_corrected_vs_GDv1.1_F260_q40.bam #convert to bam\n",
    "samtools depth $aqui/Guppy_canu_corrected_vs_GDv1.1_F260_q40.bam > $aqui/  #compute coverage per bp\n",
    "\n",
    "EOF\n",
    "\n",
    "\n"
   ]
  },
  {
   "cell_type": "markdown",
   "metadata": {},
   "source": [
    "Check on IGV if this bam file has less errors than the one done with albacore2 also using Canu corrected reads"
   ]
  },
  {
   "cell_type": "markdown",
   "metadata": {},
   "source": [
    "It did improved a lot the errors!!!"
   ]
  },
  {
   "cell_type": "markdown",
   "metadata": {},
   "source": [
    "** Minimap2 with asm5 option to avoid off-targets **"
   ]
  },
  {
   "cell_type": "code",
   "execution_count": 17,
   "metadata": {},
   "outputs": [
    {
     "name": "stdout",
     "output_type": "stream",
     "text": [
      "Job <27467> is submitted to default queue <normal>.\n"
     ]
    }
   ],
   "source": [
    "bsub << EOF\n",
    "#!/bin/bash\n",
    "#BSUB -J minimap_corrected_canu_to_GD\n",
    "#BSUB -o $WKDIR/04.canu/minimap/correct_reads_to_GD/logs/ASM5_corr_vs_GD.out \n",
    "#BSUB -e $WKDIR/04.canu/minimap/correct_reads_to_GD/logs/ASM5_corr_vs_GD.err\n",
    "#BSUB -n 4\n",
    "#BSUB -R \"span[hosts=1]\"\n",
    "\n",
    "/workspace/hrarnc/GitHub/minimap2/minimap2 -cx asm5 $REF $canu_corrected | \\\n",
    "samtools view -Su - | samtools sort - -o $WKDIR/04.canu/minimap/correct_reads_to_GD/ASM5_Guppy_canu_corrected_vs_GDv1.1.bam  \n",
    "samtools index $WKDIR/04.canu/minimap/correct_reads_to_GD/ASM5_Guppy_canu_corrected_vs_GDv1.1.bam\n",
    "samtools depth $WKDIR/04.canu/minimap/correct_reads_to_GD/ASM5_Guppy_canu_corrected_vs_GDv1.1.bam > $WKDIR/04.canu/minimap/correct_reads_to_GD/ASM5_Guppy_canu_corrected_vs_GDv1.1.coverage\n",
    "EOF"
   ]
  },
  {
   "cell_type": "markdown",
   "metadata": {},
   "source": [
    "Like the case when basecaling with albacore2, asm5 doesn't produce a bam file for this data. It is too restringing function"
   ]
  },
  {
   "cell_type": "code",
   "execution_count": 18,
   "metadata": {},
   "outputs": [
    {
     "name": "stdout",
     "output_type": "stream",
     "text": [
      "05118b93-67ce-4057-9520-2a92c9402fe7 0 Chr09 35542867 60 7745\n",
      "05257628-753c-4003-a7d4-3fc704f52931 16 Chr09 35542879 60 7710\n",
      "058d2785-d1f5-46e3-8c59-bb395f9e15dd 0 Chr09 35542912 60 7716\n",
      "0614ca4f-7c97-43cb-b83f-bb9591672062 0 Chr09 35542870 60 7854\n",
      "06cad05e-afb7-435f-bec4-6e8b5ef36855 0 Chr09 35542867 60 7771\n",
      "07c7826c-3409-4508-aa0a-b1ddd60feda4 16 Chr09 35542952 60 7607\n",
      "088eb005-9738-433f-94af-fbbed49ec710 16 Chr09 35542747 60 7926\n",
      "0a645207-3dc4-4644-a0b4-f9229d1d482d 0 Chr09 35542867 60 7734\n",
      "0a8e7ec0-e841-46fa-9ffe-6d7ab3e36a7a 16 Chr09 35542865 60 7889\n",
      "0b8d1c64-2256-4cce-be52-2a838eaaff08 0 Chr09 35551901 60 42687\n",
      "0b95a079-bee3-4b3d-8201-a888d9fd92dd 16 Chr09 35542867 60 7748\n",
      "0d01b20c-acf8-415d-8b1e-34fe771a05a7 0 Chr09 35542867 60 7696\n",
      "0f1f4969-3ee3-470a-927a-52b59a6e74ee 16 Chr09 35542768 60 7920\n",
      "0ffcbf3e-a712-4021-b2c0-0fb0fd6245c5 0 Chr09 30202003 1 13536\n",
      "10d4ec4e-2ca5-494f-b1da-a56ac6cd4412 0 Chr09 35542866 60 7853\n",
      "14e696fa-8f21-4f68-ba73-88ffb4bb0306 0 Chr09 35542896 60 7680\n",
      "15a13051-f183-44ed-bcab-f9d8a7246750 16 Chr09 35542870 60 7876\n",
      "17dc64bc-ac37-498b-8104-aad3082797fc 0 Chr09 35542870 60 7861\n",
      "1fd28f12-abd8-4ef4-a5e8-647b62f04f31 0 Chr09 35542721 60 7914\n",
      "215bfa65-2aac-4142-8c3a-124c5e554140 16 Chr09 35542745 60 7880\n",
      "21d670c5-dc68-42b8-970f-5478a37096b5 16 Chr09 35542865 60 7885\n",
      "2224020d-632c-4b8f-9040-875e850eb717 0 Chr09 35542870 60 7741\n",
      "23b34442-feb4-44ac-95ef-7824ef72f24e 16 Chr09 35542876 60 7852\n",
      "2519ff29-8f97-40be-8950-715c79fcb334 0 Chr09 35542867 60 7761\n",
      "26a21995-1e7a-4bc7-91a8-d6ba8af6c4f3 0 Chr09 35542866 60 7859\n",
      "26f359f3-2ae3-4066-b045-7eea357c82e9 0 Chr09 35542871 60 7752\n",
      "27fbb922-e499-4c23-bce1-3ccdc2771785 0 Chr09 35542866 60 7753\n",
      "285e448e-2d01-46de-b8d4-f5d68bd32bce 16 Chr09 35542867 60 7780\n",
      "2ffaff07-a0ee-4060-a12a-264d8d4b6839 16 Chr09 35542877 60 7762\n",
      "3046d7e4-8170-45ee-bb1a-64f72026a32b 0 Chr09 35573905 60 34371\n",
      "3046d7e4-8170-45ee-bb1a-64f72026a32b 2048 Chr09 35551949 60 6921\n",
      "30add6a9-3850-4f62-9dc3-50153fe5034d 16 Chr09 35542869 60 7759\n",
      "337d0746-c509-4867-8826-4da593c2753f 16 Chr09 35542867 60 7773\n",
      "3382c81f-c6e9-46f7-b3db-1c034b3b85bb 0 Chr09 35542870 60 7652\n",
      "33db3edc-c028-4b4c-b1d6-d9edfaa754d4 16 Chr09 25108939 13 19328\n",
      "36a8851a-c407-4a69-a794-888d1d306c3f 0 Chr09 35542867 60 7773\n",
      "3868fe04-f758-4692-9dac-762abb457303 0 Chr09 35542870 60 7679\n",
      "3b828f37-ffd2-45f7-9593-72924e95f247 0 Chr09 35551949 60 15620\n",
      "3df1875d-e2f5-4316-87e0-45c0900d72e6 16 Chr09 35542868 60 7772\n",
      "42142f30-a6c0-4b66-aa7e-37f404b65928 16 Chr09 35542875 60 7766\n",
      "4441cb8c-5f1b-4a66-8766-cd718f032200 16 Chr09 35542721 60 8018\n",
      "4616cc53-4c92-4711-ba0d-dcab80e7a712 0 Chr09 35542871 60 7766\n",
      "49321365-6ab0-4caf-bca1-2e55fde2d491 0 Chr09 29602331 60 12388\n",
      "4dd145e8-c1b3-4693-8147-b63d42b8fce2 16 Chr09 35542870 60 7887\n",
      "4def30d9-a81f-4837-be1a-d7816fd48f63 0 Chr09 35551901 60 42783\n",
      "50c35a68-63db-4fdd-8be3-f7cb642541e3 0 Chr09 35573905 60 20580\n",
      "50c35a68-63db-4fdd-8be3-f7cb642541e3 2048 Chr09 35551949 60 6917\n",
      "54f1bb08-8ab8-4b2d-a486-246b95a6a44e 0 Chr09 35542870 60 7845\n",
      "555cfcb8-fbff-4972-99cc-0866d1c168e0 0 Chr09 35542869 60 7743\n",
      "556b5911-9df5-4644-91a9-c636f2c11df3 0 Chr09 35542867 60 7761\n",
      "56bfb100-a988-41a4-85f6-2ab111a374ce 16 Chr09 35542867 60 7771\n",
      "58f232ae-dcd8-441d-93c1-e6a1a2774ef0 16 Chr09 35542721 60 8009\n",
      "59fb8d89-d600-4c95-8a32-9d2839c0d5d8 16 Chr09 35542774 60 7932\n",
      "5a82abd9-0433-4a75-a04a-831fe9f934df 16 Chr09 35542877 60 7855\n",
      "5b566378-1844-441e-9a48-c1a5cf282203 16 Chr09 35542870 60 7865\n",
      "5d067217-1da7-48a2-a6ba-f26f44996ecf 0 Chr09 35542870 60 7843\n",
      "5d8e65e7-9abb-498c-9918-bf94dd5eb0ab 0 Chr09 35542870 60 7840\n",
      "60d1cd24-fd58-41d7-b9bf-710b2a3d7564 16 Chr09 35542879 60 7764\n",
      "62c3ab36-f572-40e3-b04d-ec1ad230d303 0 Chr09 35542866 60 7873\n",
      "66c027d8-6d11-45f3-af17-4562439b7e5b 0 Chr09 35542732 60 7860\n",
      "6720ae33-e63b-4cd9-ae9a-6fcec573c966 0 Chr09 35542869 60 7758\n",
      "67e84b9c-a03b-4eb9-8cb8-39f629657544 16 Chr09 35542866 60 7881\n",
      "688a23a2-fed9-4c80-987f-f442b999e896 16 Chr09 35542867 60 7712\n",
      "69b3e8cf-bdc0-4893-8178-2198992da1db 0 Chr09 35542866 60 7853\n",
      "69fa6866-506b-4371-a7fe-b67cb51a8a31 0 Chr09 35542871 60 7682\n",
      "6d6b33da-3e45-4023-9079-3fa5e60b5b17 0 Chr09 35542866 60 7881\n",
      "6d9ff872-668d-4c1d-9b7e-3306f8a08eaf 16 Chr09 35542720 60 8027\n",
      "720e147f-4deb-40e1-b2f2-3561ca1446a1 0 Chr09 35542870 60 7858\n",
      "7327e74b-2ebe-472e-a0f9-3d84e708ab44 16 Chr09 35542721 60 8016\n",
      "75a1985f-a946-4ae5-8169-922b6b5c0907 16 Chr09 26151573 1 9642\n",
      "77a01de8-215f-423c-b00a-9f272f74eedd 0 Chr09 35542870 60 7848\n",
      "788f64a1-cca6-4be9-91b0-2c74d3b2d547 0 Chr09 35542870 60 7858\n",
      "78e373d0-0b13-48d8-9143-67b99e91ebe4 0 Chr09 35542870 60 7802\n",
      "7a92ec51-7f78-42e7-a131-7153591dd415 0 Chr09 35542874 60 7865\n",
      "7ab23511-1e2d-4f58-844d-37cf3f2c64d9 0 Chr09 35569020 60 21413\n",
      "7abd220a-27e3-4a6c-923c-5a7d31e1591a 16 Chr09 35542732 60 7963\n",
      "7ac13c18-71b1-451c-83fa-0ac7b627ae01 0 Chr09 35542871 60 7736\n",
      "7f6a0aca-3b74-49be-9c68-34387ec3a15e 16 Chr09 35542752 60 7935\n",
      "82533a0c-efce-48cf-a76f-4b30d0eacf8e 0 Chr09 35542867 60 7726\n",
      "826c4f9c-f217-4040-9e55-d40bfcc148bb 0 Chr09 35542867 60 7759\n",
      "83bc6f21-2fb5-4d15-80f8-0b58e2a979e8 0 Chr09 35542866 60 7779\n",
      "83dd2535-f3a5-4db1-95e1-eba326e96e86 0 Chr09 5195651 33 12666\n",
      "85665643-995f-4665-a12d-b41b491b46f9 0 Chr09 35551895 60 15184\n",
      "867140e8-c9d3-4be5-8722-041075ed8ca9 0 Chr09 35551898 60 42803\n",
      "8949eaf5-b9a3-4cae-acfe-8391fdeb6b5c 16 Chr09 35542865 60 7869\n",
      "89555f9b-8241-4410-ade1-319c5cbbd09b 16 Chr09 35542867 60 7753\n",
      "8ace6345-df08-4a37-85fe-0d6eb2b9cfb0 0 Chr09 35542871 60 7774\n",
      "8f6a6965-994f-48f3-8b12-767e60feb8da 0 Chr09 35542870 60 7870\n",
      "95b7fa96-5128-418e-9fd5-451bb0e8d9ca 16 Chr09 35542867 60 7780\n",
      "976ff2cd-a7dc-4c6e-b03a-7a3f1ec32ae7 16 Chr09 35542867 60 7772\n",
      "9793e97a-2647-46ed-bbae-c019403e9dc7 0 Chr09 35542870 60 7790\n",
      "9c43c126-424c-4dd6-87bd-f3a86f564a97 16 Chr09 35542868 60 7763\n",
      "9ce106b1-5d8d-43d8-acb5-53661028a920 16 Chr09 35542871 60 7777\n",
      "9e14daa4-a92e-40ad-a546-0326b00f1cba 16 Chr09 35542865 60 7874\n",
      "9f776e47-c747-41e0-b64e-667d6696bcd6 0 Chr09 35542949 60 7715\n",
      "a40e77f7-0cf8-4cde-8ebc-64f759bdf521 16 Chr09 35542867 60 7776\n",
      "a750df9f-6b06-4477-ab22-2e4dad6d36ac 0 Chr09 35542721 60 6168\n",
      "a8b27c2c-d245-429f-ae77-6c33a73764d3 16 Chr09 26151572 1 13808\n",
      "a96ed64c-57e8-49bd-91ce-f9eeb9de26e8 16 Chr09 35542868 60 7754\n",
      "ab318717-265a-4448-925f-2dbdec3a71c8 0 Chr09 20669647 9 7152\n",
      "ac642c23-fd5f-4818-a67d-cadb529dd22b 16 Chr09 35542868 60 7756\n",
      "ae4faed1-f703-43f6-9756-8d29b2f66ed3 16 Chr09 35542865 60 7869\n",
      "aeae3279-7152-48fe-b69c-b7fa099f6127 16 Chr09 21065365 60 12784\n",
      "afdac50f-afae-448c-ba0c-d5c24c50e596 0 Chr09 35542870 60 7737\n",
      "b003f5d6-cb51-456e-8426-d06676ee67bf 16 Chr09 35542897 60 7723\n",
      "b0b2d3a1-024e-4d02-988c-345bafd7b621 0 Chr09 35542870 60 7867\n",
      "b0f60d2c-c702-4490-8a7b-3155dfd2f872 0 Chr09 35542867 60 7761\n",
      "b307fe36-6acc-4b49-a855-2e3a9b758f3a 16 Chr09 35542878 60 7750\n",
      "b5c4b76e-23a7-4604-9f22-2a4c95fdb73a 0 Chr09 35542721 60 8014\n",
      "b68179d3-e14b-4fdd-905a-dd8355bf5bc7 0 Chr09 35542867 60 7715\n",
      "b91c86ec-dc1e-408a-bd3f-3a6a01339b10 0 Chr09 35573905 60 32751\n",
      "b91c86ec-dc1e-408a-bd3f-3a6a01339b10 2048 Chr09 35551949 60 6919\n",
      "ba8c96b6-230a-4a83-b4a3-90eddd13622e 16 Chr09 35542870 60 7872\n",
      "baf8e988-83d2-42ae-ab17-e759f6eb394c 0 Chr09 35542724 60 7998\n",
      "be3bd5e1-a293-442a-a136-fa11d845991f 0 Chr09 35542732 60 7980\n",
      "bea64935-651c-4d19-a533-03f9fbad40c5 16 Chr09 35542870 60 7875\n",
      "c2250bdc-1ca2-4d52-9745-ca2a9e4775ba 0 Chr09 35542874 60 7739\n",
      "c466f6da-7660-46c7-bcd6-b63d40d9bedf 0 Chr09 27882657 60 11072\n",
      "c4bef025-0bfe-45bc-8c10-5faeeb4ca5ac 0 Chr09 35542867 60 7718\n",
      "c62505fd-0f85-4c7f-8b72-9bcd0a96595b 16 Chr09 35542865 60 7878\n",
      "c63b9f23-b7e1-49ec-b461-522d516883ea 16 Chr09 35542867 60 7755\n",
      "c6aeae9d-7179-417a-9b8f-3e7ac688b314 0 Chr09 35542870 60 7864\n",
      "c708d0f8-49c1-432f-bcd6-a260efa02c82 0 Chr09 35542871 60 7754\n",
      "c746ff85-48da-4122-b76e-3d95961e03c1 16 Chr09 2546817 1 6435\n",
      "c9ff5391-b9b7-4cdc-9312-d934d6fb6cf0 0 Chr09 35542867 60 7759\n",
      "cfccdfb1-1fe5-4245-ae50-fcef7ef646a3 0 Chr09 20668185 1 8614\n",
      "d1c7320f-68e1-4bc4-b895-dd395e5bcf1d 16 Chr09 35542865 60 7899\n",
      "d1cd8eea-08b0-44c0-9d1e-48007eaf454f 0 Chr09 35542866 60 7753\n",
      "d3350cdf-a63d-4261-a63e-9d9a47261e8d 0 Chr09 26088888 1 8369\n",
      "d3442b08-7af1-4468-baf4-0b21333e91c1 0 Chr09 3768948 1 6530\n",
      "d844549a-4221-49b7-8599-11e714508647 0 Chr09 35542866 60 7862\n",
      "d98ce522-b79f-4209-a77e-f8d5ac6725a6 0 Chr09 35542879 60 7762\n",
      "d9ab3ded-06d3-4df1-bacf-02af34c86a72 0 Chr09 35542877 60 7713\n",
      "da06b91d-499d-4d8a-a8c9-b4cb204796e4 0 Chr09 35542870 60 7859\n",
      "db0f2016-0e11-4511-bc9f-0613c80981f4 0 Chr09 35542870 60 7760\n",
      "dc5b813e-4fbf-46f8-91c3-374c000a891a 0 Chr09 35542868 60 7771\n",
      "dd8e26ab-af7e-4775-8da7-3450aeae646c 16 Chr09 20002429 60 13251\n",
      "de65a9de-e0e0-453a-912e-3b0266b0aa2a 16 Chr09 35542723 60 8007\n",
      "e0f0955a-4d4c-465a-b72b-e52e076addaa 16 Chr09 35542884 60 7743\n",
      "e377e6de-2c68-4c9f-8ce9-7e898596fc81 16 Chr09 26570139 60 17986\n",
      "e5355138-bf85-44f1-8771-523e01056818 0 Chr09 35573887 60 19740\n",
      "e5355138-bf85-44f1-8771-523e01056818 2048 Chr09 35551949 60 6923\n",
      "e591f4e8-1f27-45f8-8578-c45540ef06a4 16 Chr09 35542870 60 7852\n",
      "e5e3710a-4dc1-4991-8679-1e931e690b1f 16 Chr09 35542868 60 7761\n",
      "e6aa1a82-2fb3-4d47-8d47-de7adc8e10fc 0 Chr09 35573905 60 34332\n",
      "e6aa1a82-2fb3-4d47-8d47-de7adc8e10fc 2048 Chr09 35551949 60 6911\n",
      "e9176c6f-72d7-4a79-ba1a-99289a7b6b2e 0 Chr09 35542870 60 7730\n",
      "eaac4013-0b1b-4a75-967a-9b3f763e8013 0 Chr09 35542871 60 7706\n",
      "ead4a5ee-025a-4c65-9cf9-ac8df0bb8096 0 Chr09 35573887 60 31178\n",
      "ead4a5ee-025a-4c65-9cf9-ac8df0bb8096 2048 Chr09 35551949 60 6914\n",
      "eb4edd26-af9d-40c4-8f40-9579f5fc1693 16 Chr09 35542721 60 8026\n",
      "ebcbe062-b1ed-418f-8f05-4dfc53118b41 0 Chr09 35542867 60 7781\n",
      "ebf018a4-c911-439f-9d7e-0e7a6b341165 0 Chr09 26691902 1 9559\n",
      "ef865a4d-4ce9-4a4c-8d04-34be9c4073fb 16 Chr09 35542878 60 7856\n",
      "f00f89af-dc57-4759-a5ce-e58f8b0ceae3 0 Chr09 35542867 60 7763\n",
      "f0a8aab9-fc6d-43b0-aeed-362b8d4b48c9 2048 Chr09 26417171 6 8253\n",
      "f626d1af-41d4-49b7-a036-7bc4f00a6584 16 Chr09 35542739 60 8007\n",
      "f7c397d3-3f54-48d6-a5db-10816690dc80 0 Chr09 22152845 1 11953\n",
      "fc0d6277-4d6f-439c-8063-a07c12387de3 0 Chr09 35542869 60 7753\n",
      "fe2acd5c-2eb1-4399-a08d-cee5f86bf956 0 Chr09 35542870 60 7815\n"
     ]
    }
   ],
   "source": [
    "samtools view $WKDIR/04.canu/minimap/correct_reads_to_GD/Guppy_canu_corrected_vs_GDv1.1.bam | awk '{if(length($10)>=6000) print$1,$2,$3,$4,$5,length($10)}'| grep \"Chr09\" | sort -u  "
   ]
  },
  {
   "cell_type": "code",
   "execution_count": 22,
   "metadata": {},
   "outputs": [
    {
     "name": "stdout",
     "output_type": "stream",
     "text": [
      "7810\n"
     ]
    }
   ],
   "source": [
    "awk '{if($3>=50) print$0}' $WKDIR/04.canu/minimap/correct_reads_to_GD/Guppy_canu_corrected_vs_GDv1.1.coverage | grep \"Chr09\" | wc -l"
   ]
  },
  {
   "cell_type": "code",
   "execution_count": 7,
   "metadata": {},
   "outputs": [
    {
     "name": "stdout",
     "output_type": "stream",
     "text": [
      "Chr09\t35542870\t101\n",
      "Chr09\t35542871\t109\n",
      "Chr09\t35542872\t109\n",
      "Chr09\t35542873\t109\n",
      "Chr09\t35542874\t111\n",
      "Chr09\t35542875\t112\n",
      "Chr09\t35542877\t116\n",
      "Chr09\t35542878\t118\n",
      "Chr09\t35542879\t121\n",
      "Chr09\t35542880\t122\n",
      "grep: write error\n",
      "awk: cmd. line:1: (FILENAME=$WKDIR/Guppy_basecalling/04.canu/minimap/correct_reads_to_GD/Guppy_canu_corrected_vs_GDv1.1.coverage FNR=3691890) fatal: print to \"standard output\" failed (Broken pipe)\n"
     ]
    }
   ],
   "source": [
    "awk '{if($3>=100) print$0}' $WKDIR/04.canu/minimap/correct_reads_to_GD/Guppy_canu_corrected_vs_GDv1.1.coverage | grep \"Chr09\" | head"
   ]
  },
  {
   "cell_type": "markdown",
   "metadata": {},
   "source": [
    "# De novo assembly with Flye"
   ]
  },
  {
   "cell_type": "code",
   "execution_count": 257,
   "metadata": {},
   "outputs": [
    {
     "name": "stdout",
     "output_type": "stream",
     "text": [
      "Conflict with existing Conda environment. Please unload/deactivate flye-2.5\n"
     ]
    }
   ],
   "source": [
    "module load flye/2.5"
   ]
  },
  {
   "cell_type": "code",
   "execution_count": 195,
   "metadata": {
    "collapsed": true,
    "jupyter": {
     "outputs_hidden": true
    }
   },
   "outputs": [],
   "source": [
    "mkdir $WKDIR/05.flye"
   ]
  },
  {
   "cell_type": "code",
   "execution_count": 269,
   "metadata": {
    "collapsed": true,
    "jupyter": {
     "outputs_hidden": true
    }
   },
   "outputs": [],
   "source": [
    "albacore_assembly=$WKDIR/04.canu/Redflesh_Chr09_canu.contigs.fasta"
   ]
  },
  {
   "cell_type": "code",
   "execution_count": 270,
   "metadata": {
    "collapsed": true,
    "jupyter": {
     "outputs_hidden": true
    }
   },
   "outputs": [],
   "source": [
    "canu_nanopolished=$WKDIR/05.nanopolish/polished_Redflesh_contig.fa"
   ]
  },
  {
   "cell_type": "code",
   "execution_count": 16,
   "metadata": {
    "collapsed": true,
    "jupyter": {
     "outputs_hidden": true
    }
   },
   "outputs": [],
   "source": [
    "correct_canu=$WKDIR/Guppy_basecalling/04.canu/Canu_Guppy.correctedReads.fasta.gz "
   ]
  },
  {
   "cell_type": "markdown",
   "metadata": {},
   "source": [
    "** # NOTE:    We are feeding flye with a previous assembly I did with ON raw data base called with albacore2 plus the ONT raw \\\n",
    "data basecalled with guppy and corrected by canu. Canu wasn't producing a detent assembly with either the corrected canu guppy reads or from raw guppy reads. All the target reads were ending up as single contigs in those canu runs! **"
   ]
  },
  {
   "cell_type": "code",
   "execution_count": 303,
   "metadata": {},
   "outputs": [
    {
     "name": "stdout",
     "output_type": "stream",
     "text": [
      "Job <33767> is submitted to default queue <normal>.\n"
     ]
    }
   ],
   "source": [
    "bsub << EOF\n",
    "#!/bin/bash\n",
    "#BSUB -J Flye\n",
    "#BSUB -o $WKDIR/05.flye/assembly-final/flye.out \n",
    "#BSUB -e $WKDIR/05.flye/assembly-final/flye.err\n",
    "#BSUB -n 20\n",
    "#BSUB -R \"span[hosts=1]\"\n",
    "module purge\n",
    "module load flye/2.5\n",
    "flye --subassemblies $correct_canu $canu_nanopolished --threads 20 -g 150k -i 1 -o $WKDIR/05.flye/assembly-final \n",
    "EOF"
   ]
  },
  {
   "cell_type": "markdown",
   "metadata": {},
   "source": [
    "Number of contigs on the assembly just generated"
   ]
  },
  {
   "cell_type": "markdown",
   "metadata": {},
   "source": [
    "Contigs with more than 10 reads when assembled"
   ]
  },
  {
   "cell_type": "code",
   "execution_count": 301,
   "metadata": {},
   "outputs": [
    {
     "name": "stdout",
     "output_type": "stream",
     "text": [
      "571\n"
     ]
    }
   ],
   "source": [
    "grep -v \"#\" $WKDIR/05.flye/assembly-final/assembly_info.txt | wc -l "
   ]
  },
  {
   "cell_type": "code",
   "execution_count": 14,
   "metadata": {},
   "outputs": [
    {
     "name": "stdout",
     "output_type": "stream",
     "text": [
      "#seq_name\tlength\tcov.\tcirc.\trepeat\tmult.\tgraph_path\n",
      "contig_16\t7915\t86\t-\t+\t70\t*,16,*\n",
      "contig_70\t8029\t71\t-\t+\t58\t*,70,*\n",
      "contig_83\t26263\t15\t-\t+\t15\t83\n"
     ]
    }
   ],
   "source": [
    "awk '{if($3>=10) print$0}' $WKDIR/05.flye/assembly-final/assembly_info.txt\n"
   ]
  },
  {
   "cell_type": "markdown",
   "metadata": {},
   "source": [
    "The size of ** contig_16 and 70 make ** sense with Red Flesh locus, and also coverage"
   ]
  },
  {
   "cell_type": "code",
   "execution_count": 33,
   "metadata": {},
   "outputs": [],
   "source": [
    "flye_assembly=$WKDIR/Guppy_basecalling/05.flye/assembly-final/assembly.fasta"
   ]
  },
  {
   "cell_type": "code",
   "execution_count": 214,
   "metadata": {
    "collapsed": true,
    "jupyter": {
     "outputs_hidden": true
    }
   },
   "outputs": [],
   "source": [
    "mkdir $WKDIR/05.flye/minimap"
   ]
  },
  {
   "cell_type": "code",
   "execution_count": 13,
   "metadata": {},
   "outputs": [
    {
     "name": "stdout",
     "output_type": "stream",
     "text": [
      "Job <34263> is submitted to default queue <normal>.\n"
     ]
    }
   ],
   "source": [
    "bsub << EOF\n",
    "#!/bin/bash\n",
    "#BSUB -J Flye-assembly_vs_GD\n",
    "#BSUB -o $WKDIR/05.flye/minimap/minimap.out\n",
    "#BSUB -e $WKDIR/05.flye/minimap/minimap.err\n",
    "#BSUB -n 4\n",
    "#BSUB -R \"span[hosts=1]\"\n",
    "\n",
    "module load samtools\n",
    "module load minimap2/2.9\n",
    "minimap2 -ax map-ont $REF $flye_assembly | \\\n",
    "samtools view -Su - | samtools sort - -o $WKDIR/05.flye/minimap/FINAL_contigs_vs_GD.bam  \n",
    "samtools index $WKDIR/05.flye/minimap/FINAL_contigs_vs_GD.bam\n",
    "samtools depth $WKDIR/05.flye/minimap/FINAL_contigs_vs_GD.bam > $WKDIR/05.flye/minimap/FINAL_contigs_vs_GD.coverage\n",
    "EOF"
   ]
  },
  {
   "cell_type": "code",
   "execution_count": 26,
   "metadata": {},
   "outputs": [
    {
     "name": "stdout",
     "output_type": "stream",
     "text": [
      "contig_16 16 Chr09 35542721 60 7915\n"
     ]
    }
   ],
   "source": [
    "module load samtools\n",
    "samtools view $WKDIR/05.flye/minimap/FINAL_contigs_vs_GD.bam | awk '{if((length($10)>=5000)&&($4>=35542000)) print$1,$2,$3,$4,$5,length($10)}' | grep \"Chr09\" | grep \"contig_16\" "
   ]
  },
  {
   "cell_type": "code",
   "execution_count": 25,
   "metadata": {},
   "outputs": [
    {
     "name": "stdout",
     "output_type": "stream",
     "text": [
      "contig_70 16 Chr09 35542725 60 8029\n"
     ]
    }
   ],
   "source": [
    "module load samtools\n",
    "samtools view $WKDIR/05.flye/minimap/FINAL_contigs_vs_GD.bam | awk '{if(length($10)>=0) print$1,$2,$3,$4,$5,length($10)}' | grep \"contig_70\"  "
   ]
  },
  {
   "cell_type": "markdown",
   "metadata": {},
   "source": [
    "So contig_70 and contig_16 are hopefully the two haplotypes of the red flesh locus but regarding the author while being in Canberra said that they might not e phased. Maybe we can compare this with Illumina data to see of we get the same SNPs all the way and find out if they are phased."
   ]
  },
  {
   "cell_type": "markdown",
   "metadata": {},
   "source": [
    "** To confirme that we will extract this contigs in different fasta files and map the Guppy_canu corrected reads againts each contig **"
   ]
  },
  {
   "cell_type": "code",
   "execution_count": 28,
   "metadata": {},
   "outputs": [],
   "source": [
    "samtools faidx $flye_assembly contig_70 > $WKDIR/05.flye/minimap/Contig_A_redflesh.fasta"
   ]
  },
  {
   "cell_type": "code",
   "execution_count": 4,
   "metadata": {
    "collapsed": true,
    "jupyter": {
     "outputs_hidden": true
    }
   },
   "outputs": [],
   "source": [
    "samtools faidx $flye_assembly contig_16 > $WKDIR/05.flye/minimap/Contig_B_redflesh.fasta"
   ]
  },
  {
   "cell_type": "code",
   "execution_count": 15,
   "metadata": {
    "collapsed": true,
    "jupyter": {
     "outputs_hidden": true
    }
   },
   "outputs": [],
   "source": [
    "contigA=$WKDIR/05.flye/minimap/Contig_A_redflesh.fasta\n",
    "contigB=$WKDIR/05.flye/minimap/Contig_B_redflesh.fasta"
   ]
  },
  {
   "cell_type": "code",
   "execution_count": 17,
   "metadata": {},
   "outputs": [
    {
     "name": "stdout",
     "output_type": "stream",
     "text": [
      "Job <34579> is submitted to default queue <normal>.\n"
     ]
    }
   ],
   "source": [
    "bsub << EOF\n",
    "#!/bin/bash\n",
    "#BSUB -J minimap_guppy_vs_contigA\n",
    "#BSUB -o $WKDIR/05.flye/minimap/minimap_contig_A.out\n",
    "#BSUB -e $WKDIR/05.flye/minimap/minimap_contig_A.err\n",
    "#BSUB -n 4\n",
    "#BSUB -R \"span[hosts=1]\"\n",
    "\n",
    "module load samtools\n",
    "module load minimap2/2.9\n",
    "minimap2 -ax map-ont $contigA $correct_canu | \\\n",
    "samtools view -Su - | samtools sort - -o $WKDIR/05.flye/minimap/Guppy_corrected_vs_ContigA.bam  \n",
    "samtools index $WKDIR/05.flye/minimap/Guppy_corrected_vs_ContigA.bam \n",
    "samtools depth $WKDIR/05.flye/minimap/Guppy_corrected_vs_ContigA.bam  > $WKDIR/05.flye/minimap/Guppy_corrected_vs_ContigA.coverage\n",
    "EOF"
   ]
  },
  {
   "cell_type": "code",
   "execution_count": 18,
   "metadata": {},
   "outputs": [
    {
     "name": "stdout",
     "output_type": "stream",
     "text": [
      "Job <34580> is submitted to default queue <normal>.\n"
     ]
    }
   ],
   "source": [
    "bsub << EOF\n",
    "#!/bin/bash\n",
    "#BSUB -J minimap_guppy_vs_contigB\n",
    "#BSUB -o $WKDIR/05.flye/minimap/minimap_contig_A.out\n",
    "#BSUB -e $WKDIR/05.flye/minimap/minimap_contig_A.err\n",
    "#BSUB -n 4\n",
    "#BSUB -R \"span[hosts=1]\"\n",
    "\n",
    "module load samtools\n",
    "module load minimap2/2.9\n",
    "minimap2 -ax map-ont $contigB $correct_canu | \\\n",
    "samtools view -Su - | samtools sort - -o $WKDIR/05.flye/minimap/Guppy_corrected_vs_ContigB.bam  \n",
    "samtools index $WKDIR/05.flye/minimap/Guppy_corrected_vs_ContigB.bam \n",
    "samtools depth $WKDIR/05.flye/minimap/Guppy_corrected_vs_ContigB.bam  > $WKDIR/05.flye/minimap/Guppy_corrected_vs_ContigB.coverage\n",
    "EOF"
   ]
  },
  {
   "cell_type": "code",
   "execution_count": 5,
   "metadata": {},
   "outputs": [
    {
     "name": "stdout",
     "output_type": "stream",
     "text": [
      "7727\n"
     ]
    }
   ],
   "source": [
    "awk '{if($3>=100) print$0}' $WKDIR/05.flye/minimap/Guppy_corrected_vs_ContigA.coverage | wc -l "
   ]
  },
  {
   "cell_type": "code",
   "execution_count": 6,
   "metadata": {},
   "outputs": [
    {
     "name": "stdout",
     "output_type": "stream",
     "text": [
      "7718\n"
     ]
    }
   ],
   "source": [
    "awk '{if($3>=100) print$0}' $WKDIR/05.flye/minimap/Guppy_corrected_vs_ContigB.coverage | wc -l "
   ]
  },
  {
   "cell_type": "markdown",
   "metadata": {},
   "source": [
    "Visualize the two haplotypes in IGV and print a screenshoot here"
   ]
  },
  {
   "cell_type": "markdown",
   "metadata": {},
   "source": [
    "## Comparing contig A and contig B from Flye assembly by using nucmer "
   ]
  },
  {
   "cell_type": "code",
   "execution_count": 18,
   "metadata": {},
   "outputs": [
    {
     "name": "stdout",
     "output_type": "stream",
     "text": [
      "mkdir: cannot create directory ‘nucmer_contigA_vs_contigB/logs’: File exists\n"
     ]
    }
   ],
   "source": [
    "cd $WKDIR/Guppy_basecalling/05.flye/minimap\n",
    "mkdir nucmer_contigA_vs_contigB/logs\n",
    "WD=$WKDIR/Guppy_basecalling/05.flye/minimap/nucmer_contigA_vs_contigB\n",
    "contigA=$WKDIR/05.flye/minimap/Contig_A_redflesh.fasta\n",
    "contigB=$WKDIR/05.flye/minimap/Contig_B_redflesh.fasta"
   ]
  },
  {
   "cell_type": "code",
   "execution_count": 52,
   "metadata": {},
   "outputs": [
    {
     "name": "stdout",
     "output_type": "stream",
     "text": [
      "Job <376474> is submitted to default queue <normal>.\n"
     ]
    }
   ],
   "source": [
    "bsub << EOF\n",
    "#!/bin/bash\n",
    "#BSUB -J Nucmer\n",
    "#BSUB -o $WD/logs/nucmer.out\n",
    "#BSUB -e $WD/logs/nucmer.err\n",
    "#BSUB -n 1\n",
    "#BSUB -R \"span[hosts=1]\"w\n",
    "\n",
    "export GDFONTPATH=/usr/share/fonts/msttcore/\n",
    "#/software/bioinformatics/MUMmer-3.23/nucmer -c 65 -l 65 --maxmatch -p $WD/nucmer_contigA_vs_contigB -o $contigA $contigB\n",
    "\n",
    "#Then I filter the delta file for several similarity ranges (this step not needed here as the identity of the two contigs was higher than 95%)\n",
    "#/software/bioinformatics/MUMmer-3.23/delta-filter -l 1000 -q -r -i 80 -1 $WD/nucmer_contigA_vs_contigB.delta > $WD/nucmer_contigA_vs_contigB_i80.delta\n",
    "\n",
    "# Now ploting the contig in the y axis to see hpw the contig was put together and identify chimeric contigs\n",
    "\n",
    "/software/bioinformatics/MUMmer-3.23/mummerplot -t png -s small -q contig_16 -p $WD/contigA_vs_contigB $WD/nucmer_contigA_vs_contigB.delta\n",
    "\n",
    "/software/bioinformatics/MUMmer-3.23/dnadiff --prefix $WD/contigA_vs_contigB.dnadiff \\\n",
    "$contigA $contigB\n",
    "\n",
    "\n",
    "EOF"
   ]
  },
  {
   "cell_type": "code",
   "execution_count": 25,
   "metadata": {},
   "outputs": [
    {
     "name": "stdout",
     "output_type": "stream",
     "text": [
      "$WKDIR/Guppy_basecalling/05.flye/minimap/Contig_A_redflesh.fasta $WKDIR/Guppy_basecalling/05.flye/minimap/Contig_B_redflesh.fasta\n",
      "NUCMER\n",
      "\n",
      "                               [REF]                [QRY]\n",
      "[Sequences]\n",
      "TotalSeqs                          1                    1\n",
      "AlignedSeqs               1(100.00%)           1(100.00%)\n",
      "UnalignedSeqs               0(0.00%)             0(0.00%)\n",
      "\n",
      "[Bases]\n",
      "TotalBases                      8029                 7915\n",
      "AlignedBases            7906(98.47%)         7892(99.71%)\n",
      "UnalignedBases            123(1.53%)            23(0.29%)\n",
      "\n",
      "[Alignments]\n",
      "1-to-1                             2                    2\n",
      "TotalLength                     7906                 7892\n",
      "AvgLength                    3953.00              3946.00\n",
      "AvgIdentity                    97.96                97.96\n",
      "\n",
      "M-to-M                             2                    2\n",
      "TotalLength                     7906                 7892\n",
      "AvgLength                    3953.00              3946.00\n",
      "AvgIdentity                    97.96                97.96\n",
      "\n",
      "[Feature Estimates]\n",
      "Breakpoints                        3                    3\n",
      "Relocations                        0                    0\n",
      "Translocations                     0                    0\n",
      "Inversions                         0                    0\n",
      "\n",
      "Insertions                         2                    2\n",
      "InsertionSum                     123                   23\n",
      "InsertionAvg                   61.50                11.50\n",
      "\n",
      "TandemIns                          0                    0\n",
      "TandemInsSum                       0                    0\n",
      "TandemInsAvg                    0.00                 0.00\n",
      "\n",
      "[SNPs]\n"
     ]
    }
   ],
   "source": [
    "head -n 40 $WD/contigA_vs_contigB.dnadiff.report\n"
   ]
  },
  {
   "cell_type": "code",
   "execution_count": 29,
   "metadata": {},
   "outputs": [],
   "source": [
    "#Alignment between Conig A and B\n",
    "/software/bioinformatics/MUMmer-3.23/show-aligns $WD/contigA_vs_contigB.dnadiff.delta \\\n",
    "'contig_70' 'contig_16' > $WD/ref_qry.aligns\n"
   ]
  },
  {
   "cell_type": "code",
   "execution_count": 30,
   "metadata": {},
   "outputs": [
    {
     "name": "stdout",
     "output_type": "stream",
     "text": [
      "$WKDIR/Guppy_basecalling/05.flye/minimap/Contig_A_redflesh.fasta $WKDIR/Guppy_basecalling/05.flye/minimap/Contig_B_redflesh.fasta\n",
      "\n",
      "============================================================\n",
      "-- Alignments between contig_70 and contig_16\n",
      "\n",
      "-- BEGIN alignment [ +1 4 - 5918 | +1 1 - 5910 ]\n",
      "\n",
      "\n",
      "4          cgaagacttaactctttcggttgcagatccaagccttcctatcaaactt\n",
      "1          cgaagacttaactctttcggttgcagatccaagccttcctatcaaactt\n"
     ]
    }
   ],
   "source": [
    "head $WD/ref_qry.aligns"
   ]
  },
  {
   "cell_type": "markdown",
   "metadata": {},
   "source": [
    "## Note: when I checked the alignment I realised that the two contigs are the reverse and complement version so I am going to do reverse and complement of the fasta file of the contigs and repeat the above"
   ]
  },
  {
   "cell_type": "code",
   "execution_count": 31,
   "metadata": {},
   "outputs": [],
   "source": [
    "#It will be easier to identify the R6 motif and to compare it with the Canu- asembled contigs before and after Nanopolish"
   ]
  },
  {
   "cell_type": "code",
   "execution_count": 34,
   "metadata": {},
   "outputs": [],
   "source": [
    "flye_assembly=$WKDIR/Guppy_basecalling/05.flye/assembly-final/assembly.fasta"
   ]
  },
  {
   "cell_type": "code",
   "execution_count": 45,
   "metadata": {},
   "outputs": [],
   "source": [
    "samtools faidx -i $flye_assembly contig_70 > $WKDIR/05.flye/minimap/rev_comp_Contig_A_redflesh.fasta #-i gaves reverse complement"
   ]
  },
  {
   "cell_type": "code",
   "execution_count": 46,
   "metadata": {},
   "outputs": [],
   "source": [
    "samtools faidx -i $flye_assembly contig_16 > $WKDIR/05.flye/minimap/rev_comp_Contig_B_redflesh.fasta #-i gaves reverse complement"
   ]
  },
  {
   "cell_type": "code",
   "execution_count": 47,
   "metadata": {},
   "outputs": [],
   "source": [
    "WD=$WKDIR/Guppy_basecalling/05.flye/minimap/nucmer_contigA_vs_contigB\n",
    "contigA_rev_comp=$WKDIR/05.flye/minimap/rev_comp_Contig_A_redflesh.fasta\n",
    "contigB_rev_comp=$WKDIR/05.flye/minimap/rev_comp_Contig_B_redflesh.fasta"
   ]
  },
  {
   "cell_type": "code",
   "execution_count": 55,
   "metadata": {},
   "outputs": [
    {
     "name": "stdout",
     "output_type": "stream",
     "text": [
      "Job <376477> is submitted to default queue <normal>.\n"
     ]
    }
   ],
   "source": [
    "bsub << EOF\n",
    "#!/bin/bash\n",
    "#BSUB -J Nucmer\n",
    "#BSUB -o $WD/logs/nucmer.out\n",
    "#BSUB -e $WD/logs/nucmer.err\n",
    "#BSUB -n 1\n",
    "#BSUB -R \"span[hosts=1]\"w\n",
    "\n",
    "export GDFONTPATH=/usr/share/fonts/msttcore/\n",
    "#/software/bioinformatics/MUMmer-3.23/nucmer -c 65 -l 65 --maxmatch -p $WD/rev_comp_nucmer_contigA_vs_contigB -o $contigA_rev_comp $contigB_rev_comp \n",
    "\n",
    "#Then I filter the delta file for several similarity ranges (this step not needed here as the identity of the two contigs was higher than 95%)\n",
    "#/software/bioinformatics/MUMmer-3.23/delta-filter -l 1000 -q -r -i 80 -1 $WD/rev_comp_nucmer_contigA_vs_contigB.delta > $WD/rev_comp_nucmer_contigA_vs_contigB_i80.delta\n",
    "\n",
    "# Now ploting the contig in the y axis to see hpw the contig was put together and identify chimeric contigs\n",
    "\n",
    "#/software/bioinformatics/MUMmer-3.23/mummerplot -t png -s small -q contig_16/rc -p $WD/rev_comp_contigA_vs_contigB $WD/rev_comp_nucmer_contigA_vs_contigB.delta\n",
    "\n",
    "/software/bioinformatics/MUMmer-3.23/dnadiff --prefix $WD/rev_comp_contigA_vs_contigB.dnadiff \\\n",
    "$contigA_rev_comp $contigB_rev_comp\n",
    "\n",
    "\n",
    "EOF"
   ]
  },
  {
   "cell_type": "code",
   "execution_count": 56,
   "metadata": {},
   "outputs": [
    {
     "name": "stdout",
     "output_type": "stream",
     "text": [
      "$WKDIR/Guppy_basecalling/05.flye/minimap/rev_comp_Contig_A_redflesh.fasta $WKDIR/Guppy_basecalling/05.flye/minimap/rev_comp_Contig_B_redflesh.fasta\n",
      "NUCMER\n",
      "\n",
      "                               [REF]                [QRY]\n",
      "[Sequences]\n",
      "TotalSeqs                          1                    1\n",
      "AlignedSeqs               1(100.00%)           1(100.00%)\n",
      "UnalignedSeqs               0(0.00%)             0(0.00%)\n",
      "\n",
      "[Bases]\n",
      "TotalBases                      8029                 7915\n",
      "AlignedBases            7906(98.47%)         7892(99.71%)\n",
      "UnalignedBases            123(1.53%)            23(0.29%)\n",
      "\n",
      "[Alignments]\n",
      "1-to-1                             2                    2\n",
      "TotalLength                     7906                 7892\n",
      "AvgLength                    3953.00              3946.00\n",
      "AvgIdentity                    97.96                97.96\n",
      "\n",
      "M-to-M                             2                    2\n",
      "TotalLength                     7906                 7892\n",
      "AvgLength                    3953.00              3946.00\n",
      "AvgIdentity                    97.96                97.96\n",
      "\n",
      "[Feature Estimates]\n",
      "Breakpoints                        3                    3\n",
      "Relocations                        0                    0\n",
      "Translocations                     0                    0\n",
      "Inversions                         0                    0\n",
      "\n",
      "Insertions                         2                    2\n",
      "InsertionSum                     123                   23\n",
      "InsertionAvg                   61.50                11.50\n",
      "\n",
      "TandemIns                          0                    0\n",
      "TandemInsSum                       0                    0\n",
      "TandemInsAvg                    0.00                 0.00\n",
      "\n",
      "[SNPs]\n"
     ]
    }
   ],
   "source": [
    "head -n 40 $WD/rev_comp_contigA_vs_contigB.dnadiff.report"
   ]
  },
  {
   "cell_type": "code",
   "execution_count": 57,
   "metadata": {},
   "outputs": [],
   "source": [
    "#Alignment between Conig A and B\n",
    "/software/bioinformatics/MUMmer-3.23/show-aligns $WD/rev_comp_contigA_vs_contigB.dnadiff.delta \\\n",
    "'contig_70/rc' 'contig_16/rc' > $WD/rev_comp_ref_qry.aligns\n"
   ]
  },
  {
   "cell_type": "code",
   "execution_count": 58,
   "metadata": {},
   "outputs": [
    {
     "name": "stdout",
     "output_type": "stream",
     "text": [
      "$WKDIR/Guppy_basecalling/05.flye/minimap/rev_comp_Contig_A_redflesh.fasta $WKDIR/Guppy_basecalling/05.flye/minimap/rev_comp_Contig_B_redflesh.fasta\n",
      "\n",
      "============================================================\n",
      "-- Alignments between contig_70/rc and contig_16/rc\n",
      "\n",
      "-- BEGIN alignment [ +1 1 - 1991 | +1 5 - 1986 ]\n",
      "\n",
      "\n",
      "1          aggggagcggagaggatgggctctcagcccggaccgaaccatttccacc\n",
      "5          aggggagcggagaggatgggctctcagcccggaccgaaccatttccacc\n"
     ]
    }
   ],
   "source": [
    "head $WD/rev_comp_ref_qry.aligns"
   ]
  },
  {
   "cell_type": "code",
   "execution_count": 60,
   "metadata": {},
   "outputs": [],
   "source": [
    "samtools faidx $WKDIR/05.flye/minimap/rev_comp_Contig_A_redflesh.fasta \"contig_70/rc:1991-2112\" > $WD/insertion_contig_70_rc:1991-2112.fasta"
   ]
  },
  {
   "cell_type": "code",
   "execution_count": 61,
   "metadata": {},
   "outputs": [
    {
     "name": "stdout",
     "output_type": "stream",
     "text": [
      ">contig_70/rc:1991-2112\n",
      "GACTGGTAGCTATTAACAAGTTAGACTGGTTAGACTGGTAGCTATTAACAAGTTAGACTG\n",
      "GTAGCTATTAACAACTGGTAGCTATTAACAAGTTAGACTGGTAGCTATTAACAAGTTAGA\n",
      "CT\n"
     ]
    }
   ],
   "source": [
    "head $WD/insertion_contig_70_rc:1991-2112.fasta"
   ]
  },
  {
   "cell_type": "code",
   "execution_count": 63,
   "metadata": {},
   "outputs": [],
   "source": [
    "samtools faidx $WKDIR/05.flye/minimap/rev_comp_Contig_B_redflesh.fasta \"contig_16/rc:1986-2006\" > $WD/insertion_contig_16_rc:1986-2006.fasta"
   ]
  },
  {
   "cell_type": "code",
   "execution_count": 64,
   "metadata": {},
   "outputs": [
    {
     "name": "stdout",
     "output_type": "stream",
     "text": [
      ">contig_16/rc:1986-2006\n",
      "GCTTTTCTATATATCGAGTGT\n"
     ]
    }
   ],
   "source": [
    "head  $WD/insertion_contig_16_rc:1986-2006.fasta"
   ]
  },
  {
   "cell_type": "markdown",
   "metadata": {},
   "source": [
    "### Alignment of Canu-corrected reads againts Contig 16 and 70 to see if each kind of read (with and without the motif of R6) map correctly to each haplotype-contig"
   ]
  },
  {
   "cell_type": "markdown",
   "metadata": {},
   "source": [
    "- Previously I did this already but contigs were not reversed complemented so I am repeating it here with reversed complemented contigs and \\\n",
    "  and applying the -F 260 and MQ 40"
   ]
  },
  {
   "cell_type": "code",
   "execution_count": null,
   "metadata": {},
   "outputs": [],
   "source": [
    "WD=$WKDIR/Guppy_basecalling/05.flye/minimap\n",
    "contigA_rev_comp=$WKDIR/05.flye/minimap/rev_comp_Contig_A_redflesh.fasta\n",
    "contigB_rev_comp=$WKDIR/05.flye/minimap/rev_comp_Contig_B_redflesh.fasta \n",
    "correct_canu=$WKDIR/Guppy_basecalling/04.canu/Canu_Guppy.correctedReads.fasta\n",
    "WKDIR=$WKDIR/Guppy_basecalling"
   ]
  },
  {
   "cell_type": "code",
   "execution_count": 87,
   "metadata": {},
   "outputs": [],
   "source": [
    "# for contig 70 rc (A)\n",
    "\n",
    "module load samtools/1.9\n",
    "module load minimap2/2.9\n",
    "#minimap2 -ax map-ont  $contigA_rev_comp $correct_canu > $WD/Guppy_corrected_vs_ContigA.bam\n",
    "#samtools view -H $WD/Guppy_corrected_vs_ContigA.bam > $WD/Guppy_canu_corrected_vs_rev_comp_Contig_A.sam\n",
    "#samtools view -F 260 $WD/Guppy_corrected_vs_ContigA.bam | awk '$5>=40 {print$0}' >> $WD/Guppy_canu_corrected_vs_rev_comp_Contig_A.sam\n",
    "#samtools view -S -b -h $WD/Guppy_canu_corrected_vs_rev_comp_Contig_A.sam | samtools sort - > $WD/Guppy_canu_corrected_vs_rev_comp_Contig_A_F260_Q40.bam #convert to bam    \n",
    "#samtools depth $WD/Guppy_canu_corrected_vs_rev_comp_Contig_A_F260_Q40.bam > $WD/Guppy_canu_corrected_vs_rev_comp_Contig_A_F260_Q40.coverage\n",
    "samtools index $WD/Guppy_canu_corrected_vs_rev_comp_Contig_A_F260_Q40.bam"
   ]
  },
  {
   "cell_type": "code",
   "execution_count": 89,
   "metadata": {},
   "outputs": [],
   "source": [
    "samtools faidx $contigA_rev_comp\n",
    "samtools faidx $contigB_rev_comp"
   ]
  },
  {
   "cell_type": "code",
   "execution_count": 88,
   "metadata": {},
   "outputs": [],
   "source": [
    "# For contig 16 (B)\n",
    "module load samtools/1.9\n",
    "module load minimap2/2.9\n",
    "#minimap2 -ax map-ont $contigB_rev_comp $correct_canu > $WD/Guppy_corrected_vs_ContigB.bam\n",
    "#samtools view -H $WD/Guppy_corrected_vs_ContigB.bam > $WD/Guppy_canu_corrected_vs_rev_comp_Contig_B.sam\n",
    "#samtools view -F 260 $WD/Guppy_corrected_vs_ContigB.bam | awk '$5>=40 {print$0}' >> $WD/Guppy_canu_corrected_vs_rev_comp_Contig_B.sam\n",
    "#samtools view -S -b -h $WD/Guppy_canu_corrected_vs_rev_comp_Contig_B.sam | samtools sort - > $WD/Guppy_canu_corrected_vs_rev_comp_Contig_B_F260_Q40.bam #convert to bam    \n",
    "#samtools depth $WD/Guppy_canu_corrected_vs_rev_comp_Contig_B_F260_Q40.bam > $WD/Guppy_canu_corrected_vs_rev_comp_Contig_B_F260_Q40.coverage\n",
    "samtools index $WD/Guppy_canu_corrected_vs_rev_comp_Contig_B_F260_Q40.bam"
   ]
  },
  {
   "cell_type": "markdown",
   "metadata": {},
   "source": [
    "# Generate Coverage plot for each of these Flye contigs"
   ]
  },
  {
   "cell_type": "code",
   "execution_count": 82,
   "metadata": {},
   "outputs": [],
   "source": [
    "module load bedtools/2.27.1"
   ]
  },
  {
   "cell_type": "code",
   "execution_count": 84,
   "metadata": {},
   "outputs": [],
   "source": [
    "#extract coverage for forward strand for contig_70 (A)\n",
    "bedtools coverage -s -d -a $WD/contig_70.bed -b $WD/Guppy_canu_corrected_vs_rev_comp_Contig_A_F260_Q40.bam > $WD/bedtools_cov_Forward_strand_Contig70_A.tsv\n",
    "#extract coverage for reverse strand for contig_70 (A)\n",
    "bedtools coverage -S -d -a $WD/contig_70.bed -b $WD/Guppy_canu_corrected_vs_rev_comp_Contig_A_F260_Q40.bam > $WD/bedtools_cov_Reverse_strand_Contig70_A.tsv"
   ]
  },
  {
   "cell_type": "code",
   "execution_count": 85,
   "metadata": {},
   "outputs": [],
   "source": [
    "#extract coverage for forward strand for contig_16 (B)\n",
    "bedtools coverage -s -d -a $WD/contig_16.bed -b $WD/Guppy_canu_corrected_vs_rev_comp_Contig_B_F260_Q40.bam > $WD/bedtools_cov_Forward_strand_Contig16_B.tsv\n",
    "#extract coverage for reverse strand for contig_16 (B)\n",
    "bedtools coverage -S -d -a $WD/contig_16.bed -b $WD/Guppy_canu_corrected_vs_rev_comp_Contig_B_F260_Q40.bam > $WD/bedtools_cov_Reverse_strand_Contig16_B.tsv"
   ]
  },
  {
   "cell_type": "markdown",
   "metadata": {},
   "source": [
    "* Then we used this files as input in this R script found at:\n",
    "* $WKDIR/Guppy_basecalling/05.flye/minimap/Coverage_plots_bedtools_corrected_reads_against_Flye_contigs_70_16.R"
   ]
  },
  {
   "cell_type": "code",
   "execution_count": null,
   "metadata": {},
   "outputs": [],
   "source": [
    "# Extract reads with the insertion and deletion from each of the mapping files \n",
    "samtools view -c Guppy_canu_corrected_vs_rev_comp_Contig_B_F260_Q40.bam\n",
    "samtools view Guppy_canu_corrected_vs_rev_comp_Contig_B_F260_Q40.bam | cut -f 1,6 > CIGAR_Guppy_canu_corrected_vs_rev_comp_Contig_B_F260_Q40.txt\n",
    "grep \"99I\" CIGAR_Guppy_canu_corrected_vs_rev_comp_Contig_B_F260_Q40.txt | awk '{print$1}' > reads_99I_ContigB.txt\n",
    "wc -l reads_99I_ContigB.txt\n",
    "samtools view Guppy_canu_corrected_vs_rev_comp_Contig_A_F260_Q40.bam | cut -f 1,6 > CIGAR_Guppy_canu_corrected_vs_rev_comp_Contig_A_F260_Q40.txt\n",
    "grep \"99D\" CIGAR_Guppy_canu_corrected_vs_rev_comp_Contig_A_F260_Q40.txt | awk '{print$1}' > reads_99D_ContigA.txt\n",
    "wc -l reads_99D_ContigA.txt"
   ]
  },
  {
   "cell_type": "code",
   "execution_count": 90,
   "metadata": {},
   "outputs": [],
   "source": [
    "module purge\n",
    "module load bambam/1.4"
   ]
  },
  {
   "cell_type": "code",
   "execution_count": 109,
   "metadata": {},
   "outputs": [
    {
     "name": "stdout",
     "output_type": "stream",
     "text": [
      "0\n",
      "0\n",
      "0\n",
      "0\n",
      "0\n",
      "0\n",
      "0\n",
      "0\n",
      "0\n",
      "0\n",
      "0\n",
      "0\n",
      "0\n",
      "0\n",
      "0\n",
      "0\n",
      "0\n",
      "0\n",
      "0\n",
      "0\n",
      "0\n",
      "0\n",
      "0\n",
      "0\n",
      "0\n",
      "0\n",
      "0\n",
      "0\n",
      "0\n",
      "65\n"
     ]
    }
   ],
   "source": [
    "for i in {70..99}\n",
    "do\n",
    "grep \"\"$i\"D\" CIGAR_Guppy_canu_corrected_vs_rev_comp_Contig_A_F260_Q40.txt | awk '{print$1}' | wc -l \n",
    "done"
   ]
  },
  {
   "cell_type": "code",
   "execution_count": 110,
   "metadata": {},
   "outputs": [
    {
     "name": "stdout",
     "output_type": "stream",
     "text": [
      "0\n",
      "0\n",
      "0\n",
      "0\n",
      "0\n",
      "0\n",
      "0\n",
      "0\n",
      "0\n",
      "0\n",
      "0\n",
      "0\n",
      "0\n",
      "0\n",
      "0\n",
      "0\n",
      "0\n",
      "0\n",
      "0\n",
      "0\n",
      "0\n",
      "0\n",
      "0\n",
      "0\n",
      "0\n",
      "0\n",
      "0\n",
      "7\n",
      "0\n",
      "48\n"
     ]
    }
   ],
   "source": [
    "for i in {70..99}\n",
    "do\n",
    "grep \"\"$i\"I\" CIGAR_Guppy_canu_corrected_vs_rev_comp_Contig_B_F260_Q40.txt | awk '{print$1}' | wc -l \n",
    "done"
   ]
  },
  {
   "cell_type": "code",
   "execution_count": 111,
   "metadata": {},
   "outputs": [],
   "source": [
    "# so there is Insertion of 99 and 97\n",
    "grep \"97I\" CIGAR_Guppy_canu_corrected_vs_rev_comp_Contig_B_F260_Q40.txt | awk '{print$1}' >> reads_99I_ContigB.txt"
   ]
  },
  {
   "cell_type": "code",
   "execution_count": 112,
   "metadata": {},
   "outputs": [
    {
     "name": "stdout",
     "output_type": "stream",
     "text": [
      "55 reads_99I_ContigB.txt\n"
     ]
    }
   ],
   "source": [
    "wc -l  reads_99I_ContigB.txt"
   ]
  },
  {
   "cell_type": "code",
   "execution_count": null,
   "metadata": {},
   "outputs": [],
   "source": [
    "#combined 99I and 99D\n",
    "cat reads_99I_ContigB.txt reads_99D_ContigA.txt >> combined_99I_99D.txt"
   ]
  },
  {
   "cell_type": "code",
   "execution_count": 120,
   "metadata": {},
   "outputs": [
    {
     "name": "stdout",
     "output_type": "stream",
     "text": [
      "b5c4b76e-23a7-4604-9f22-2a4c95fdb73a\n",
      "6d9ff872-668d-4c1d-9b7e-3306f8a08eaf\n",
      "58f232ae-dcd8-441d-93c1-e6a1a2774ef0\n",
      "eb4edd26-af9d-40c4-8f40-9579f5fc1693\n",
      "7327e74b-2ebe-472e-a0f9-3d84e708ab44\n",
      "de65a9de-e0e0-453a-912e-3b0266b0aa2a\n",
      "baf8e988-83d2-42ae-ab17-e759f6eb394c\n",
      "f626d1af-41d4-49b7-a036-7bc4f00a6584\n",
      "088eb005-9738-433f-94af-fbbed49ec710\n",
      "af060d27-97a6-4441-8937-b32b30db1dd6\n"
     ]
    }
   ],
   "source": [
    "head combined_99I_99D.txt"
   ]
  },
  {
   "cell_type": "code",
   "execution_count": 154,
   "metadata": {},
   "outputs": [
    {
     "name": "stdout",
     "output_type": "stream",
     "text": [
      "12\n"
     ]
    }
   ],
   "source": [
    "#reads that dont group neither in 99I or 99D\n",
    "grep -v -f \"combined_99I_99D.txt\" CIGAR_Guppy_canu_corrected_vs_rev_comp_Contig_B_F260_Q40.txt | awk '{print$1}' > NON_99I_99D.txt"
   ]
  },
  {
   "cell_type": "code",
   "execution_count": 169,
   "metadata": {},
   "outputs": [
    {
     "name": "stdout",
     "output_type": "stream",
     "text": [
      "b5c4b76e-23a7-4604-9f22-2a4c95fdb73a\n",
      "6d9ff872-668d-4c1d-9b7e-3306f8a08eaf\n",
      "58f232ae-dcd8-441d-93c1-e6a1a2774ef0\n",
      "eb4edd26-af9d-40c4-8f40-9579f5fc1693\n",
      "7327e74b-2ebe-472e-a0f9-3d84e708ab44\n",
      "de65a9de-e0e0-453a-912e-3b0266b0aa2a\n",
      "baf8e988-83d2-42ae-ab17-e759f6eb394c\n",
      "f626d1af-41d4-49b7-a036-7bc4f00a6584\n",
      "088eb005-9738-433f-94af-fbbed49ec710\n",
      "af060d27-97a6-4441-8937-b32b30db1dd6\n"
     ]
    }
   ],
   "source": [
    "head reads_99I_ContigB.txt"
   ]
  },
  {
   "cell_type": "code",
   "execution_count": null,
   "metadata": {},
   "outputs": [],
   "source": [
    "#the name of reads in Canu_Guppy.correctedReads.fasta is to long and then the matching wont work so we need to chanhe the ID in that fasta file\n",
    "\n",
    "WD2=$WKDIR/Guppy_basecalling/04.canu\n",
    "awk -F \" \" '{ if ($0 ~ /^>/) { print $1;} else { print $0}}' $WD2/Canu_Guppy.correctedReads.fasta > $WD2/Canu_Guppy.correctedReads_short_ID.fasta\n",
    "grep \">\" $WD2/Canu_Guppy.correctedReads_short_ID.fasta | head"
   ]
  },
  {
   "cell_type": "code",
   "execution_count": null,
   "metadata": {},
   "outputs": [],
   "source": [
    "#Extract reads \n",
    "awk -F'>' 'NR==FNR{ids[$0]; next} NF>1{f=($2 in ids)} f' reads_99D_ContigA.txt $WKDIR/Guppy_basecalling/04.canu/Canu_Guppy.correctedReads_short_ID.fasta > reads_99D_ContigA.fasta\n",
    "awk -F'>' 'NR==FNR{ids[$0]; next} NF>1{f=($2 in ids)} f' reads_99I_ContigB.txt $WKDIR/Guppy_basecalling/04.canu/Canu_Guppy.correctedReads_short_ID.fasta > reads_99I_ContigB.fasta #55\n",
    "awk -F'>' 'NR==FNR{ids[$0]; next} NF>1{f=($2 in ids)} f' NON_99I_99D.txt $WKDIR/Guppy_basecalling/04.canu/Canu_Guppy.correctedReads_short_ID.fasta > NON_99I_99D.fasta"
   ]
  },
  {
   "cell_type": "code",
   "execution_count": null,
   "metadata": {},
   "outputs": [],
   "source": [
    "non_99I_non_99D=$WKDIR/Guppy_basecalling/05.flye/minimap/NON_99I_99D.fasta\n",
    "reads_99I_ContigB=$WKDIR/Guppy_basecalling/05.flye/minimap/reads_99I_ContigB.fasta\n",
    "reads_99D_ContigA=$WKDIR/Guppy_basecalling/05.flye/minimap/reads_99D_ContigA.fasta"
   ]
  },
  {
   "cell_type": "code",
   "execution_count": null,
   "metadata": {},
   "outputs": [],
   "source": [
    "module load samtools/1.9\n",
    "module load minimap2/2.9\n",
    "minimap2 -ax map-ont $contigB_rev_comp $non_99I_non_99D > $WD/non_99I_non_99D_vscontigB.bam\n",
    "samtools view -H $WD/non_99I_non_99D_vscontigB.bam > $WD/non_99I_non_99D_vscontigB.sam\n",
    "samtools view -F 260 $WD/non_99I_non_99D_vscontigB.bam | awk '$5>=40 {print$0}' >> $WD/non_99I_non_99D_vscontigB.sam\n",
    "samtools view -S -b -h$WD/non_99I_non_99D_vscontigB.sam | samtools sort - > $WD/non_99I_non_99D_vs_Contig_B_F260_Q40.bam #convert to bam    \n",
    "samtools depth $WD/non_99I_non_99D_vs_Contig_B_F260_Q40.bam >$WD/non_99I_non_99D_vs_Contig_B_F260_Q40.coverage\n",
    "samtools index $WD/non_99I_non_99D_vs_Contig_B_F260_Q40.bam"
   ]
  },
  {
   "cell_type": "code",
   "execution_count": null,
   "metadata": {},
   "outputs": [],
   "source": [
    "#Once this was bam was produced I went to IGV and manually visualized each of these unclassifed reads, copy to clipboard ther deatails\n",
    "#and add each each to each proper haplotype, either to file reads_99I_ContigB.txt if it had the insertion (110bp) or if not to reads_99D_ContigA.txt\n"
   ]
  },
  {
   "cell_type": "code",
   "execution_count": null,
   "metadata": {},
   "outputs": [],
   "source": [
    "#So now we need to modify these fasta files to add these additional reads:\n",
    "#So we need to repeat this command\n",
    "#Extract reads \n",
    "awk -F'>' 'NR==FNR{ids[$0]; next} NF>1{f=($2 in ids)} f' reads_99D_ContigA.txt $WKDIR/Guppy_basecalling/04.canu/Canu_Guppy.correctedReads_short_ID.fasta > reads_99D_ContigA.fasta\n",
    "awk -F'>' 'NR==FNR{ids[$0]; next} NF>1{f=($2 in ids)} f' reads_99I_ContigB.txt $WKDIR/Guppy_basecalling/04.canu/Canu_Guppy.correctedReads_short_ID.fasta > reads_99I_ContigB.fasta #"
   ]
  },
  {
   "cell_type": "code",
   "execution_count": null,
   "metadata": {},
   "outputs": [],
   "source": [
    "#Mapping against contig A _contains the INSERTION\n",
    "module load samtools/1.9\n",
    "module load minimap2/2.9\n",
    "minimap2 -ax map-ont rev_comp_Contig_A_redflesh.fasta reads_99I_ContigB.fasta > reads_99I_vs_contigA.bam\n",
    "samtools view -H reads_99I_vs_contigA.bam > reads_99I_vs_contigA.sam\n",
    "samtools view -F 260 reads_99I_vs_contigA.bam | awk '$5>=40 {print$0}' >> reads_99I_vs_contigA.sam\n",
    "samtools view -S -b -h  reads_99I_vs_contigA.sam | samtools sort - > reads_99I_vs_contigA_F260_Q40.bam #convert to bam    \n",
    "samtools depth reads_99I_vs_contigA_F260_Q40.bam > reads_99I_vs_contigA_F260_Q40.bam.coverage\n",
    "samtools index reads_99I_vs_contigA_F260_Q40.bam"
   ]
  },
  {
   "cell_type": "code",
   "execution_count": null,
   "metadata": {},
   "outputs": [],
   "source": [
    "#Mapping against contig B _contains the DELETION\n",
    "module load samtools/1.9\n",
    "module load minimap2/2.9\n",
    "minimap2 -ax map-ont rev_comp_Contig_B_redflesh.fasta reads_99D_ContigA.fasta > reads_99D_vs_contigB.bam\n",
    "samtools view -H reads_99D_vs_contigB.bam > reads_99D_vs_contigB.sam\n",
    "samtools view -F 260 reads_99D_vs_contigB.bam | awk '$5>=40 {print$0}' >> reads_99D_vs_contigB.sam\n",
    "samtools view -S -b -h  reads_99D_vs_contigB.sam | samtools sort - > reads_99D_vs_contigB_F260_Q40.bam #convert to bam    \n",
    "samtools depth reads_99D_vs_contigB_F260_Q40.bam > reads_99D_vs_contigB_F260_Q40.bam.coverage\n",
    "samtools index reads_99D_vs_contigB_F260_Q40.bam"
   ]
  },
  {
   "cell_type": "code",
   "execution_count": null,
   "metadata": {},
   "outputs": [],
   "source": []
  },
  {
   "cell_type": "code",
   "execution_count": null,
   "metadata": {},
   "outputs": [],
   "source": [
    "#AIM: we have a file of SNPs between de novo assembled by Flye, contig A and contig B \n",
    "#how many of those are present between contig B (like reference allele or non red) and apple ref genome, these will be ONT errors or could \n",
    "#still be errors in the reference\n",
    "#how many of those are present at the vcf file done with re-seq illumian data on this same individual? This will be SNPs specific to the red \n",
    "#flesh allele against the ref\n",
    "\n",
    "snsp_bt_A_B=$WKDIR/Guppy_basecalling/05.flye/minimap/nucmer_contigA_vs_contigB/rev_comp_contigA_vs_contigB.dnadiff.snps\n",
    "\n",
    "#Get the locus from reference genome to use it a short reference to compare to contig B (non redflesh de novo haplotig)\n",
    "\n",
    "module load samtools/1.9\n",
    "cd $WKDIR/Guppy_basecalling/05.flye/minimap/nucmer_contigA_vs_contigB\n",
    "\n",
    "samtools faidx /input/genomic/plant/Malus/Genome/GDDH_v1.1/Decompress/GDDH13_1-1_formatted.fasta Chr09:35542721-35550686 > target.fasta\n",
    "\n",
    "/software/bioinformatics/MUMmer-3.23/dnadiff --prefix rev_comp_contigB_vs_target.dnadiff target.fasta $WKDIR/Guppy_basecalling/05.flye/minimap/rev_comp_Contig_B_redflesh.fasta\n",
    "\n",
    "# Get the SNPs that are common between contig B(16) aganisnt contig A(70) and between contig A (non red) against the reference: this are likely \n",
    "#errors of ONT or ref errors\n",
    "\n",
    "awk -F'\\t' 'NR==FNR{c[$4]++;next};c[$4]' rev_comp_contigB_vs_target.dnadiff.snps rev_comp_contigA_vs_contigB.dnadiff.snps > Error_ONT_or_in_ref.snps\n",
    "\n",
    "\n",
    "#Now do the other way around. Check Snps between red allele (contig A) and ref\n",
    "\n",
    "/software/bioinformatics/MUMmer-3.23/dnadiff --prefix rev_comp_contigA_vs_target.dnadiff target.fasta $WKDIR/Guppy_basecalling/05.flye/minimap/rev_comp_Contig_A_redflesh.fasta\n",
    "\n",
    "awk -F'\\t' 'NR==FNR{c[$1]++;next};c[$1]' rev_comp_contigA_vs_target.dnadiff.snps rev_comp_contigB_vs_target.dnadiff.snps > common_SNPs_contig_a_b_vs_ref.snps\n",
    "awk -F'\\t' 'FNR==NR {a[$1]++; next} !a[$1]' rev_comp_contigB_vs_target.dnadiff.snps rev_comp_contigA_vs_target.dnadiff.snps > uniq_snps_contigA_ref.snps\n",
    "awk -F'\\t' 'FNR==NR {a[$1]++; next} !a[$1]' rev_comp_contigA_vs_target.dnadiff.snps rev_comp_contigB_vs_target.dnadiff.snps > uniq_snps_contigB_ref.snps"
   ]
  }
 ],
 "metadata": {
  "kernelspec": {
   "display_name": "Bash",
   "language": "bash",
   "name": "bash"
  },
  "language_info": {
   "codemirror_mode": "shell",
   "file_extension": ".sh",
   "mimetype": "text/x-sh",
   "name": "bash"
  }
 },
 "nbformat": 4,
 "nbformat_minor": 4
}
